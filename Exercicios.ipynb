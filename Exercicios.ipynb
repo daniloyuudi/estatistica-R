{
  "nbformat": 4,
  "nbformat_minor": 0,
  "metadata": {
    "colab": {
      "name": "Exercicios.ipynb",
      "provenance": [],
      "collapsed_sections": [],
      "toc_visible": true
    },
    "kernelspec": {
      "name": "ir",
      "display_name": "R"
    }
  },
  "cells": [
    {
      "cell_type": "markdown",
      "metadata": {
        "id": "ZTRlYR65oueR"
      },
      "source": [
        "# Lista de Exercícios"
      ]
    },
    {
      "cell_type": "code",
      "metadata": {
        "id": "cxQgPKApBVR_"
      },
      "source": [
        "install.packages(\"DescTools\")"
      ],
      "execution_count": null,
      "outputs": []
    },
    {
      "cell_type": "code",
      "metadata": {
        "id": "8qdl8NLqzis6"
      },
      "source": [
        "dados = read.csv(\"dados.csv\")"
      ],
      "execution_count": null,
      "outputs": []
    },
    {
      "cell_type": "markdown",
      "metadata": {
        "id": "EfQjHlEw55-C"
      },
      "source": [
        "## Distribuições de frequências com variáveis quantitativas"
      ]
    },
    {
      "cell_type": "code",
      "metadata": {
        "id": "6kZvxbSO5Cjx",
        "outputId": "b2be365e-0b5f-4bb1-91aa-76ed1209f753",
        "colab": {
          "base_uri": "https://localhost:8080/",
          "height": 120
        }
      },
      "source": [
        "classes <- c(min(dados$Altura), 1.65, 1.75, max(dados$Altura))\n",
        "\n",
        "labels <- c('1 - Baixa', '2 - Média', '3 - Alta')\n",
        "\n",
        "frequencia <- table(\n",
        "    cut(\n",
        "        x = dados$Altura,\n",
        "        breaks = classes,\n",
        "        labels = labels,\n",
        "        include.lowest = TRUE\n",
        "    )\n",
        ")\n",
        "\n",
        "percentual <- prop.table(frequencia) * 100\n",
        "\n",
        "dist_freq_altura <- cbind('Frequência' = frequencia, 'Porcentagem (%)' = percentual)\n",
        "\n",
        "dist_freq_altura[\n",
        "    order(row.names(dist_freq_altura)),\n",
        "]"
      ],
      "execution_count": null,
      "outputs": [
        {
          "output_type": "display_data",
          "data": {
            "text/plain": [
              "          Frequência Porcentagem (%)\n",
              "1 - Baixa 20529      26.71655       \n",
              "2 - Média 36162      47.06143       \n",
              "3 - Alta  20149      26.22202       "
            ],
            "text/latex": "A matrix: 3 × 2 of type dbl\n\\begin{tabular}{r|ll}\n  & Frequência & Porcentagem (\\%)\\\\\n\\hline\n\t1 - Baixa & 20529 & 26.71655\\\\\n\t2 - Média & 36162 & 47.06143\\\\\n\t3 - Alta & 20149 & 26.22202\\\\\n\\end{tabular}\n",
            "text/markdown": "\nA matrix: 3 × 2 of type dbl\n\n| <!--/--> | Frequência | Porcentagem (%) |\n|---|---|---|\n| 1 - Baixa | 20529 | 26.71655 |\n| 2 - Média | 36162 | 47.06143 |\n| 3 - Alta | 20149 | 26.22202 |\n\n",
            "text/html": [
              "<table>\n",
              "<caption>A matrix: 3 × 2 of type dbl</caption>\n",
              "<thead>\n",
              "\t<tr><th></th><th scope=col>Frequência</th><th scope=col>Porcentagem (%)</th></tr>\n",
              "</thead>\n",
              "<tbody>\n",
              "\t<tr><th scope=row>1 - Baixa</th><td>20529</td><td>26.71655</td></tr>\n",
              "\t<tr><th scope=row>2 - Média</th><td>36162</td><td>47.06143</td></tr>\n",
              "\t<tr><th scope=row>3 - Alta</th><td>20149</td><td>26.22202</td></tr>\n",
              "</tbody>\n",
              "</table>\n"
            ]
          },
          "metadata": {
            "tags": []
          }
        }
      ]
    },
    {
      "cell_type": "markdown",
      "metadata": {
        "id": "KWyY0mrKzPzV"
      },
      "source": [
        "## Percentuais Exatos"
      ]
    },
    {
      "cell_type": "code",
      "metadata": {
        "id": "fWUa1RcxzRRw",
        "outputId": "e5e30151-c171-4ace-d8c9-17735cd9dd65",
        "colab": {
          "base_uri": "https://localhost:8080/",
          "height": 34
        }
      },
      "source": [
        "length(dados$Renda[dados$Renda <= 788/2 ]) / length(dados$Renda) * 100"
      ],
      "execution_count": null,
      "outputs": [
        {
          "output_type": "display_data",
          "data": {
            "text/plain": [
              "[1] 10.62467"
            ],
            "text/latex": "10.6246746486205",
            "text/markdown": "10.6246746486205",
            "text/html": [
              "10.6246746486205"
            ]
          },
          "metadata": {
            "tags": []
          }
        }
      ]
    },
    {
      "cell_type": "markdown",
      "metadata": {
        "id": "7MdMKf4SApws"
      },
      "source": [
        "## Comparando variáveis com a mesma média e mediana"
      ]
    },
    {
      "cell_type": "code",
      "metadata": {
        "id": "i2GF65omAspc",
        "outputId": "8fe056da-5195-4332-847f-42239ea273f8",
        "colab": {
          "base_uri": "https://localhost:8080/",
          "height": 225
        }
      },
      "source": [
        "library(DescTools)\n",
        "\n",
        "materias <- c('Matemática', 'Português', 'Inglês', 'Geografia', 'História', 'Física', 'Química') \n",
        "Fulano <- c(8, 10, 4, 8, 6, 10, 8) \n",
        "Sicrano <- c(7.5, 8, 7, 8, 8, 8.5, 7) \n",
        "\n",
        "df <- data.frame(Fulano, Sicrano, row.names = materias) \n",
        "\n",
        "df "
      ],
      "execution_count": null,
      "outputs": [
        {
          "output_type": "display_data",
          "data": {
            "text/plain": [
              "           Fulano Sicrano\n",
              "Matemática  8     7.5    \n",
              "Português  10     8.0    \n",
              "Inglês      4     7.0    \n",
              "Geografia   8     8.0    \n",
              "História    6     8.0    \n",
              "Física     10     8.5    \n",
              "Química     8     7.0    "
            ],
            "text/latex": "A data.frame: 7 × 2\n\\begin{tabular}{r|ll}\n  & Fulano & Sicrano\\\\\n  & <dbl> & <dbl>\\\\\n\\hline\n\tMatemática &  8 & 7.5\\\\\n\tPortuguês & 10 & 8.0\\\\\n\tInglês &  4 & 7.0\\\\\n\tGeografia &  8 & 8.0\\\\\n\tHistória &  6 & 8.0\\\\\n\tFísica & 10 & 8.5\\\\\n\tQuímica &  8 & 7.0\\\\\n\\end{tabular}\n",
            "text/markdown": "\nA data.frame: 7 × 2\n\n| <!--/--> | Fulano &lt;dbl&gt; | Sicrano &lt;dbl&gt; |\n|---|---|---|\n| Matemática |  8 | 7.5 |\n| Português | 10 | 8.0 |\n| Inglês |  4 | 7.0 |\n| Geografia |  8 | 8.0 |\n| História |  6 | 8.0 |\n| Física | 10 | 8.5 |\n| Química |  8 | 7.0 |\n\n",
            "text/html": [
              "<table>\n",
              "<caption>A data.frame: 7 × 2</caption>\n",
              "<thead>\n",
              "\t<tr><th></th><th scope=col>Fulano</th><th scope=col>Sicrano</th></tr>\n",
              "\t<tr><th></th><th scope=col>&lt;dbl&gt;</th><th scope=col>&lt;dbl&gt;</th></tr>\n",
              "</thead>\n",
              "<tbody>\n",
              "\t<tr><th scope=row>Matemática</th><td> 8</td><td>7.5</td></tr>\n",
              "\t<tr><th scope=row>Português</th><td>10</td><td>8.0</td></tr>\n",
              "\t<tr><th scope=row>Inglês</th><td> 4</td><td>7.0</td></tr>\n",
              "\t<tr><th scope=row>Geografia</th><td> 8</td><td>8.0</td></tr>\n",
              "\t<tr><th scope=row>História</th><td> 6</td><td>8.0</td></tr>\n",
              "\t<tr><th scope=row>Física</th><td>10</td><td>8.5</td></tr>\n",
              "\t<tr><th scope=row>Química</th><td> 8</td><td>7.0</td></tr>\n",
              "</tbody>\n",
              "</table>\n"
            ]
          },
          "metadata": {
            "tags": []
          }
        }
      ]
    },
    {
      "cell_type": "code",
      "metadata": {
        "id": "YinaqoS4BH8i",
        "outputId": "061fd83a-bf5d-44b1-a6e2-ddb297ad27ec",
        "colab": {
          "base_uri": "https://localhost:8080/",
          "height": 34
        }
      },
      "source": [
        "MeanAD(df$Fulano)"
      ],
      "execution_count": null,
      "outputs": [
        {
          "output_type": "display_data",
          "data": {
            "text/plain": [
              "[1] 1.55102"
            ],
            "text/latex": "1.55102040816327",
            "text/markdown": "1.55102040816327",
            "text/html": [
              "1.55102040816327"
            ]
          },
          "metadata": {
            "tags": []
          }
        }
      ]
    },
    {
      "cell_type": "code",
      "metadata": {
        "id": "IlhMknP9BQfp",
        "outputId": "bb92eb1e-9c47-4268-e5a6-12632221a979",
        "colab": {
          "base_uri": "https://localhost:8080/",
          "height": 34
        }
      },
      "source": [
        "MeanAD(df$Sicrano)"
      ],
      "execution_count": null,
      "outputs": [
        {
          "output_type": "display_data",
          "data": {
            "text/plain": [
              "[1] 0.4693878"
            ],
            "text/latex": "0.469387755102041",
            "text/markdown": "0.469387755102041",
            "text/html": [
              "0.469387755102041"
            ]
          },
          "metadata": {
            "tags": []
          }
        }
      ]
    },
    {
      "cell_type": "markdown",
      "metadata": {
        "id": "a4F653pIhrsp"
      },
      "source": [
        "## Calculando o desvio padrão \\#1"
      ]
    },
    {
      "cell_type": "code",
      "metadata": {
        "id": "TsDfzhJrhx2S",
        "outputId": "d2ad03ae-b367-4844-9e1b-ec9822d09b67",
        "colab": {
          "base_uri": "https://localhost:8080/",
          "height": 34
        }
      },
      "source": [
        "dataset <- data.frame( \n",
        "    Sexo = c('H', 'M', 'M', 'M', 'M', 'H', 'H', 'H', 'M', 'M'), \n",
        "    Idade = c(53, 72, 54, 27, 30, 40, 58, 32, 44, 51) \n",
        ")\n",
        "sd(dataset$Idade)"
      ],
      "execution_count": null,
      "outputs": [
        {
          "output_type": "display_data",
          "data": {
            "text/plain": [
              "[1] 14.18489"
            ],
            "text/latex": "14.1848902396568",
            "text/markdown": "14.1848902396568",
            "text/html": [
              "14.1848902396568"
            ]
          },
          "metadata": {
            "tags": []
          }
        }
      ]
    },
    {
      "cell_type": "markdown",
      "metadata": {
        "id": "qCtAH7YtiLKz"
      },
      "source": [
        "## Calculando o desvio padrão \\#2"
      ]
    },
    {
      "cell_type": "code",
      "metadata": {
        "id": "hawCB4WSiOQp",
        "outputId": "692537d8-15db-4f29-8fa0-16fe9bcd5409",
        "colab": {
          "base_uri": "https://localhost:8080/",
          "height": 34
        }
      },
      "source": [
        "dataset <- data.frame( \n",
        "    Sexo = c('H', 'M', 'M', 'M', 'M', 'H', 'H', 'H', 'M', 'M'),\n",
        "    Idade = c(53, 72, 54, 27, 30, 40, 58, 32, 44, 51)\n",
        ")\n",
        "sd(dataset[dataset$Sexo == \"M\", ]$Idade)"
      ],
      "execution_count": null,
      "outputs": [
        {
          "output_type": "display_data",
          "data": {
            "text/plain": [
              "[1] 16.64532"
            ],
            "text/latex": "16.6453196624957",
            "text/markdown": "16.6453196624957",
            "text/html": [
              "16.6453196624957"
            ]
          },
          "metadata": {
            "tags": []
          }
        }
      ]
    }
  ]
}