{
  "nbformat": 4,
  "nbformat_minor": 0,
  "metadata": {
    "colab": {
      "name": "Análise_Descritiva.ipynb",
      "provenance": [],
      "collapsed_sections": [
        "9ppt5JevTg1-",
        "w45i-qJ1Tg2E",
        "2jLZmww2Tg2O",
        "ibndm9iwTg2i",
        "57aHvJMSTg2l",
        "ROiIQRFhTg2o",
        "LrEECOmNTg2w"
      ],
      "toc_visible": true
    },
    "kernelspec": {
      "display_name": "R",
      "language": "R",
      "name": "ir"
    },
    "language_info": {
      "codemirror_mode": "r",
      "file_extension": ".r",
      "mimetype": "text/x-r-source",
      "name": "R",
      "pygments_lexer": "r",
      "version": "3.6.1"
    }
  },
  "cells": [
    {
      "cell_type": "markdown",
      "metadata": {
        "id": "WvMflodMjQKe"
      },
      "source": [
        "***\n",
        "# <font color=green size=10>CURSO DE ESTATÍSTICA - PARTE 1</font>\n",
        "***\n",
        "\n",
        "## Trabalho de Análise Descritiva de um Conjunto de Dados\n",
        "\n",
        "Utilizando os conhecimentos adquiridos em nosso treinamento realize uma análise descritiva básica de um conjunto de dados retirados da Pesquisa Nacional por Amostra de Domicílios - 2015 do IBGE. \n",
        "\n",
        "Vamos construir histogramas, calcular e avaliar medidas de tendência central, medidas separatrizes e de dispersão dos dados.\n",
        "\n",
        "Siga o roteiro proposto e vá completando as células vazias. Procure pensar em mais informações interessantes que podem ser exploradas em nosso dataset."
      ]
    },
    {
      "cell_type": "markdown",
      "metadata": {
        "id": "cVgsZ_E3jQKg"
      },
      "source": [
        "# <font color=green>DATASET DO PROJETO</font>\n",
        "***"
      ]
    },
    {
      "cell_type": "markdown",
      "metadata": {
        "id": "iN1gIbaKjQKh"
      },
      "source": [
        "### Pesquisa Nacional por Amostra de Domicílios - 2015\n",
        "\n",
        "A <b>Pesquisa Nacional por Amostra de Domicílios - PNAD</b> investiga anualmente, de forma permanente, características gerais da população, de educação, trabalho, rendimento e habitação e outras, com periodicidade variável, de acordo com as necessidades de informação para o país, como as características sobre migração, fecundidade, nupcialidade, saúde, segurança alimentar, entre outros temas. O levantamento dessas estatísticas constitui, ao longo dos 49 anos de realização da pesquisa, um importante instrumento para formulação, validação e avaliação de políticas orientadas para o desenvolvimento socioeconômico e a melhoria das condições de vida no Brasil."
      ]
    },
    {
      "cell_type": "markdown",
      "metadata": {
        "id": "U6V7br1RjQKi"
      },
      "source": [
        "### Fonte dos Dados\n",
        "\n",
        "https://ww2.ibge.gov.br/home/estatistica/populacao/trabalhoerendimento/pnad2015/microdados.shtm"
      ]
    },
    {
      "cell_type": "markdown",
      "metadata": {
        "id": "r0Fe_qnzjQKj"
      },
      "source": [
        "### Variáveis utilizadas\n",
        "\n",
        "> ### Renda\n",
        "> ***\n",
        "\n",
        "Rendimento mensal do trabalho principal para pessoas de 10 anos ou mais de idade.\n",
        "\n",
        "> ### Idade\n",
        "> ***\n",
        "\n",
        "Idade do morador na data de referência em anos.\n",
        "\n",
        "> ### Altura (elaboração própria)\n",
        "> ***\n",
        "\n",
        "Altura do morador em metros.\n",
        "\n",
        "> ### UF\n",
        "> ***\n",
        "\n",
        "|Código|Descrição|\n",
        "|---|---|\n",
        "|11|Rondônia|\n",
        "|12|Acre|\n",
        "|13|Amazonas|\n",
        "|14|Roraima|\n",
        "|15|Pará|\n",
        "|16|Amapá|\n",
        "|17|Tocantins|\n",
        "|21|Maranhão|\n",
        "|22|Piauí|\n",
        "|23|Ceará|\n",
        "|24|Rio Grande do Norte|\n",
        "|25|Paraíba|\n",
        "|26|Pernambuco|\n",
        "|27|Alagoas|\n",
        "|28|Sergipe|\n",
        "|29|Bahia|\n",
        "|31|Minas Gerais|\n",
        "|32|Espírito Santo|\n",
        "|33|Rio de Janeiro|\n",
        "|35|São Paulo|\n",
        "|41|Paraná|\n",
        "|42|Santa Catarina|\n",
        "|43|Rio Grande do Sul|\n",
        "|50|Mato Grosso do Sul|\n",
        "|51|Mato Grosso|\n",
        "|52|Goiás|\n",
        "|53|Distrito Federal|\n",
        "\n",
        "> ### Sexo\t\n",
        "> ***\n",
        "\n",
        "|Código|Descrição|\n",
        "|---|---|\n",
        "|0|Masculino|\n",
        "|1|Feminino|\n",
        "\n",
        "> ### Anos de Estudo\n",
        "> ***\n",
        "\n",
        "|Código|Descrição|\n",
        "|---|---|\n",
        "|1|Sem instrução e menos de 1 ano|\n",
        "|2|1 ano|\n",
        "|3|2 anos|\n",
        "|4|3 anos|\n",
        "|5|4 anos|\n",
        "|6|5 anos|\n",
        "|7|6 anos|\n",
        "|8|7 anos|\n",
        "|9|8 anos|\n",
        "|10|9 anos|\n",
        "|11|10 anos|\n",
        "|12|11 anos|\n",
        "|13|12 anos|\n",
        "|14|13 anos|\n",
        "|15|14 anos|\n",
        "|16|15 anos ou mais|\n",
        "|17|Não determinados| \n",
        "||Não aplicável|\n",
        "\n",
        "> ### Cor\n",
        "> ***\n",
        "\n",
        "|Código|Descrição|\n",
        "|---|---|\n",
        "|0|Indígena|\n",
        "|2|Branca|\n",
        "|4|Preta|\n",
        "|6|Amarela|\n",
        "|8|Parda|\n",
        "|9|Sem declaração|"
      ]
    },
    {
      "cell_type": "markdown",
      "metadata": {
        "id": "OK1IQH5cX7Gb"
      },
      "source": [
        "#### <font color='red'>Observação</font>\n",
        "***\n",
        "> Os seguintes tratamentos foram realizados nos dados originais:\n",
        "> 1. Foram eliminados os registros onde a <b>Renda</b> era inválida (999 999 999 999);\n",
        "> 2. Foram eliminados os registros onde a <b>Renda</b> era missing;\n",
        "> 3. Foram considerados somente os registros das <b>Pessoas de Referência</b> de cada domicílio (responsável pelo domicílio)."
      ]
    },
    {
      "cell_type": "markdown",
      "metadata": {
        "id": "ZIqLOffNTg1Y"
      },
      "source": [
        "***\n",
        "***"
      ]
    },
    {
      "cell_type": "markdown",
      "metadata": {
        "id": "8Rw70V6ojQKk"
      },
      "source": [
        "### Utilize as células abaixo para importar as bibliotecas que precisar e para configurações gerais\n",
        "#### <font color='red'>Sugestões: dplyr, ggplot2 etc.</font>"
      ]
    },
    {
      "cell_type": "code",
      "metadata": {
        "id": "fcTgimHBybMz"
      },
      "source": [
        "library(ggplot2)\n",
        "library(dplyr)"
      ],
      "execution_count": null,
      "outputs": []
    },
    {
      "cell_type": "code",
      "metadata": {
        "id": "JB9mW2Jf8ldl"
      },
      "source": [
        "options(repr.plot.width = 9, repr.plot.height = 6)\n",
        "formatos <- theme(\n",
        "        plot.title=element_text(size = 14, hjust = 0.5),\n",
        "        axis.title.y=element_text(size = 12, vjust = +0.2),\n",
        "        axis.title.x=element_text(size = 12, vjust = -0.2),\n",
        "        axis.text.y=element_text(size = 10),\n",
        "        axis.text.x=element_text(size = 10)\n",
        "    )"
      ],
      "execution_count": null,
      "outputs": []
    },
    {
      "cell_type": "markdown",
      "metadata": {
        "id": "2a-gvBvCULwt"
      },
      "source": [
        "### Importe o dataset e armazene o conteúdo em uma DataFrame"
      ]
    },
    {
      "cell_type": "code",
      "metadata": {
        "id": "ufRZ7TLwjQKo"
      },
      "source": [
        "dados <- read.csv(\"dados.csv\")"
      ],
      "execution_count": null,
      "outputs": []
    },
    {
      "cell_type": "markdown",
      "metadata": {
        "id": "Oq3CKHCmTg1j"
      },
      "source": [
        "### Visualize o conteúdo do DataFrame"
      ]
    },
    {
      "cell_type": "code",
      "metadata": {
        "id": "GsC_WhLFjQKq",
        "scrolled": true,
        "outputId": "15735172-ba66-4459-faf4-d2dcb92b90bc",
        "colab": {
          "base_uri": "https://localhost:8080/",
          "height": 204
        }
      },
      "source": [
        "head(dados)"
      ],
      "execution_count": null,
      "outputs": [
        {
          "output_type": "display_data",
          "data": {
            "text/plain": [
              "  UF Sexo Idade Cor Anos.de.Estudo Renda Altura  \n",
              "1 11 0    23    8   12              800  1.603808\n",
              "2 11 1    23    2   12             1150  1.739790\n",
              "3 11 1    35    8   15              880  1.760444\n",
              "4 11 0    46    2    6             3500  1.783158\n",
              "5 11 1    47    8    9              150  1.690631\n",
              "6 11 1    34    8   12              790  1.637906"
            ],
            "text/latex": "A data.frame: 6 × 7\n\\begin{tabular}{r|lllllll}\n  & UF & Sexo & Idade & Cor & Anos.de.Estudo & Renda & Altura\\\\\n  & <int> & <int> & <int> & <int> & <int> & <int> & <dbl>\\\\\n\\hline\n\t1 & 11 & 0 & 23 & 8 & 12 &  800 & 1.603808\\\\\n\t2 & 11 & 1 & 23 & 2 & 12 & 1150 & 1.739790\\\\\n\t3 & 11 & 1 & 35 & 8 & 15 &  880 & 1.760444\\\\\n\t4 & 11 & 0 & 46 & 2 &  6 & 3500 & 1.783158\\\\\n\t5 & 11 & 1 & 47 & 8 &  9 &  150 & 1.690631\\\\\n\t6 & 11 & 1 & 34 & 8 & 12 &  790 & 1.637906\\\\\n\\end{tabular}\n",
            "text/markdown": "\nA data.frame: 6 × 7\n\n| <!--/--> | UF &lt;int&gt; | Sexo &lt;int&gt; | Idade &lt;int&gt; | Cor &lt;int&gt; | Anos.de.Estudo &lt;int&gt; | Renda &lt;int&gt; | Altura &lt;dbl&gt; |\n|---|---|---|---|---|---|---|---|\n| 1 | 11 | 0 | 23 | 8 | 12 |  800 | 1.603808 |\n| 2 | 11 | 1 | 23 | 2 | 12 | 1150 | 1.739790 |\n| 3 | 11 | 1 | 35 | 8 | 15 |  880 | 1.760444 |\n| 4 | 11 | 0 | 46 | 2 |  6 | 3500 | 1.783158 |\n| 5 | 11 | 1 | 47 | 8 |  9 |  150 | 1.690631 |\n| 6 | 11 | 1 | 34 | 8 | 12 |  790 | 1.637906 |\n\n",
            "text/html": [
              "<table>\n",
              "<caption>A data.frame: 6 × 7</caption>\n",
              "<thead>\n",
              "\t<tr><th></th><th scope=col>UF</th><th scope=col>Sexo</th><th scope=col>Idade</th><th scope=col>Cor</th><th scope=col>Anos.de.Estudo</th><th scope=col>Renda</th><th scope=col>Altura</th></tr>\n",
              "\t<tr><th></th><th scope=col>&lt;int&gt;</th><th scope=col>&lt;int&gt;</th><th scope=col>&lt;int&gt;</th><th scope=col>&lt;int&gt;</th><th scope=col>&lt;int&gt;</th><th scope=col>&lt;int&gt;</th><th scope=col>&lt;dbl&gt;</th></tr>\n",
              "</thead>\n",
              "<tbody>\n",
              "\t<tr><th scope=row>1</th><td>11</td><td>0</td><td>23</td><td>8</td><td>12</td><td> 800</td><td>1.603808</td></tr>\n",
              "\t<tr><th scope=row>2</th><td>11</td><td>1</td><td>23</td><td>2</td><td>12</td><td>1150</td><td>1.739790</td></tr>\n",
              "\t<tr><th scope=row>3</th><td>11</td><td>1</td><td>35</td><td>8</td><td>15</td><td> 880</td><td>1.760444</td></tr>\n",
              "\t<tr><th scope=row>4</th><td>11</td><td>0</td><td>46</td><td>2</td><td> 6</td><td>3500</td><td>1.783158</td></tr>\n",
              "\t<tr><th scope=row>5</th><td>11</td><td>1</td><td>47</td><td>8</td><td> 9</td><td> 150</td><td>1.690631</td></tr>\n",
              "\t<tr><th scope=row>6</th><td>11</td><td>1</td><td>34</td><td>8</td><td>12</td><td> 790</td><td>1.637906</td></tr>\n",
              "</tbody>\n",
              "</table>\n"
            ]
          },
          "metadata": {
            "tags": []
          }
        }
      ]
    },
    {
      "cell_type": "markdown",
      "metadata": {
        "id": "HDrFJQitTg1n"
      },
      "source": [
        "### Para avaliar o comportamento da variável RENDA vamos construir uma tabela de frequências considerando as seguintes classes em salários mínimos (SM)\n",
        "#### <font color='blue'>Descreva os pontos mais relevantes que você observa na tabela e no gráfico.</font>\n",
        "\n",
        "Classes de renda:\n",
        "\n",
        "<b>A</b> ► Acima de 25 SM\n",
        "\n",
        "<b>B</b> ► De 15 a 25 SM\n",
        "\n",
        "<b>C</b> ► De 5 a 15 SM\n",
        "\n",
        "<b>D</b> ► De 2 a 5 SM\n",
        "\n",
        "<b>E</b> ► Até 2 SM\n",
        "\n",
        "Para construir as classes de renda considere que o salário mínimo na época da pesquisa era de <b>R$ 788,00</b>.\n",
        "\n",
        "#### Siga os passos abaixo:"
      ]
    },
    {
      "cell_type": "markdown",
      "metadata": {
        "id": "zJBkeGxiTg1o"
      },
      "source": [
        "### 1º Definir os intevalos das classes em reais (R$)"
      ]
    },
    {
      "cell_type": "code",
      "metadata": {
        "id": "-Ct3QUj6Tg1p",
        "outputId": "3147fdfb-c42e-4d2c-ee85-7cd1ea0c630f",
        "colab": {
          "base_uri": "https://localhost:8080/",
          "height": 34
        }
      },
      "source": [
        "salario_minimo = 788\n",
        "classes = c(\n",
        "  min(dados$Renda),\n",
        "  2*salario_minimo,\n",
        "  5*salario_minimo,\n",
        "  15*salario_minimo,\n",
        "  25*salario_minimo, \n",
        "  max(dados$Renda))\n",
        "classes"
      ],
      "execution_count": null,
      "outputs": [
        {
          "output_type": "display_data",
          "data": {
            "text/plain": [
              "[1]      0   1576   3940  11820  19700 200000"
            ],
            "text/latex": "\\begin{enumerate*}\n\\item 0\n\\item 1576\n\\item 3940\n\\item 11820\n\\item 19700\n\\item 2e+05\n\\end{enumerate*}\n",
            "text/markdown": "1. 0\n2. 1576\n3. 3940\n4. 11820\n5. 19700\n6. 2e+05\n\n\n",
            "text/html": [
              "<style>\n",
              ".list-inline {list-style: none; margin:0; padding: 0}\n",
              ".list-inline>li {display: inline-block}\n",
              ".list-inline>li:not(:last-child)::after {content: \"\\00b7\"; padding: 0 .5ex}\n",
              "</style>\n",
              "<ol class=list-inline><li>0</li><li>1576</li><li>3940</li><li>11820</li><li>19700</li><li>2e+05</li></ol>\n"
            ]
          },
          "metadata": {
            "tags": []
          }
        }
      ]
    },
    {
      "cell_type": "markdown",
      "metadata": {
        "id": "dZ7X37CGTg1t"
      },
      "source": [
        "### 2º Definir os labels das classes"
      ]
    },
    {
      "cell_type": "code",
      "metadata": {
        "id": "4UFOzitTTg1u",
        "outputId": "6c520127-6d7f-484b-d1d7-20ac526d9de4",
        "colab": {
          "base_uri": "https://localhost:8080/",
          "height": 34
        }
      },
      "source": [
        "labels = c(\"E\", \"D\", \"C\", \"B\", \"A\")\n",
        "labels"
      ],
      "execution_count": null,
      "outputs": [
        {
          "output_type": "display_data",
          "data": {
            "text/plain": [
              "[1] \"E\" \"D\" \"C\" \"B\" \"A\""
            ],
            "text/latex": "\\begin{enumerate*}\n\\item 'E'\n\\item 'D'\n\\item 'C'\n\\item 'B'\n\\item 'A'\n\\end{enumerate*}\n",
            "text/markdown": "1. 'E'\n2. 'D'\n3. 'C'\n4. 'B'\n5. 'A'\n\n\n",
            "text/html": [
              "<style>\n",
              ".list-inline {list-style: none; margin:0; padding: 0}\n",
              ".list-inline>li {display: inline-block}\n",
              ".list-inline>li:not(:last-child)::after {content: \"\\00b7\"; padding: 0 .5ex}\n",
              "</style>\n",
              "<ol class=list-inline><li>'E'</li><li>'D'</li><li>'C'</li><li>'B'</li><li>'A'</li></ol>\n"
            ]
          },
          "metadata": {
            "tags": []
          }
        }
      ]
    },
    {
      "cell_type": "markdown",
      "metadata": {
        "id": "umFq1o-UTg1w"
      },
      "source": [
        "### 3º Construir a coluna de frequências"
      ]
    },
    {
      "cell_type": "code",
      "metadata": {
        "id": "uSztBoqOTg1x",
        "outputId": "2aac4758-195c-4e27-e558-651aed9ed9b5",
        "colab": {
          "base_uri": "https://localhost:8080/",
          "height": 68
        }
      },
      "source": [
        "frequencia = table(\n",
        "  cut(\n",
        "    x = dados$Renda,\n",
        "    breaks = classes,\n",
        "    labels = labels,\n",
        "    include.lowest = TRUE\n",
        "  )\n",
        ")\n",
        "frequencia"
      ],
      "execution_count": null,
      "outputs": [
        {
          "output_type": "display_data",
          "data": {
            "text/plain": [
              "\n",
              "    E     D     C     B     A \n",
              "49755 18602  7241   822   420 "
            ]
          },
          "metadata": {
            "tags": []
          }
        }
      ]
    },
    {
      "cell_type": "markdown",
      "metadata": {
        "id": "2k6nGUZKTg11"
      },
      "source": [
        "### 4º Construir a coluna de percentuais"
      ]
    },
    {
      "cell_type": "code",
      "metadata": {
        "id": "FfHu2jiv8leg",
        "outputId": "0d3ec743-7e7d-4d8d-e2a0-8b778ae70a1d",
        "colab": {
          "base_uri": "https://localhost:8080/",
          "height": 68
        }
      },
      "source": [
        "percentual = prop.table(frequencia) * 100\n",
        "percentual "
      ],
      "execution_count": null,
      "outputs": [
        {
          "output_type": "display_data",
          "data": {
            "text/plain": [
              "\n",
              "         E          D          C          B          A \n",
              "64.7514315 24.2087454  9.4234774  1.0697553  0.5465903 "
            ]
          },
          "metadata": {
            "tags": []
          }
        }
      ]
    },
    {
      "cell_type": "markdown",
      "metadata": {
        "id": "9dvk6-9_Tg16"
      },
      "source": [
        "### 5º Juntar as colunas de frequência e percentuais e ordenar as linhas de acordo com os labels das classes"
      ]
    },
    {
      "cell_type": "code",
      "metadata": {
        "id": "shr_q_wN8lem",
        "outputId": "e0025c63-528f-42fe-8ea4-d61f5e9055f3",
        "colab": {
          "base_uri": "https://localhost:8080/",
          "height": 162
        }
      },
      "source": [
        "renda = cbind(Frequencia = frequencia, Percentual = percentual)\n",
        "renda"
      ],
      "execution_count": null,
      "outputs": [
        {
          "output_type": "display_data",
          "data": {
            "text/plain": [
              "  Frequencia Percentual\n",
              "E 49755      64.7514315\n",
              "D 18602      24.2087454\n",
              "C  7241       9.4234774\n",
              "B   822       1.0697553\n",
              "A   420       0.5465903"
            ],
            "text/latex": "A matrix: 5 × 2 of type dbl\n\\begin{tabular}{r|ll}\n  & Frequencia & Percentual\\\\\n\\hline\n\tE & 49755 & 64.7514315\\\\\n\tD & 18602 & 24.2087454\\\\\n\tC &  7241 &  9.4234774\\\\\n\tB &   822 &  1.0697553\\\\\n\tA &   420 &  0.5465903\\\\\n\\end{tabular}\n",
            "text/markdown": "\nA matrix: 5 × 2 of type dbl\n\n| <!--/--> | Frequencia | Percentual |\n|---|---|---|\n| E | 49755 | 64.7514315 |\n| D | 18602 | 24.2087454 |\n| C |  7241 |  9.4234774 |\n| B |   822 |  1.0697553 |\n| A |   420 |  0.5465903 |\n\n",
            "text/html": [
              "<table>\n",
              "<caption>A matrix: 5 × 2 of type dbl</caption>\n",
              "<thead>\n",
              "\t<tr><th></th><th scope=col>Frequencia</th><th scope=col>Percentual</th></tr>\n",
              "</thead>\n",
              "<tbody>\n",
              "\t<tr><th scope=row>E</th><td>49755</td><td>64.7514315</td></tr>\n",
              "\t<tr><th scope=row>D</th><td>18602</td><td>24.2087454</td></tr>\n",
              "\t<tr><th scope=row>C</th><td> 7241</td><td> 9.4234774</td></tr>\n",
              "\t<tr><th scope=row>B</th><td>  822</td><td> 1.0697553</td></tr>\n",
              "\t<tr><th scope=row>A</th><td>  420</td><td> 0.5465903</td></tr>\n",
              "</tbody>\n",
              "</table>\n"
            ]
          },
          "metadata": {
            "tags": []
          }
        }
      ]
    },
    {
      "cell_type": "code",
      "metadata": {
        "id": "IiBHw7nd8ler",
        "outputId": "f615e64c-b2d2-4f3a-d50c-d214136e542f",
        "colab": {
          "base_uri": "https://localhost:8080/",
          "height": 162
        }
      },
      "source": [
        "renda = renda[order(rownames(renda)), ]\n",
        "renda"
      ],
      "execution_count": null,
      "outputs": [
        {
          "output_type": "display_data",
          "data": {
            "text/plain": [
              "  Frequencia Percentual\n",
              "A   420       0.5465903\n",
              "B   822       1.0697553\n",
              "C  7241       9.4234774\n",
              "D 18602      24.2087454\n",
              "E 49755      64.7514315"
            ],
            "text/latex": "A matrix: 5 × 2 of type dbl\n\\begin{tabular}{r|ll}\n  & Frequencia & Percentual\\\\\n\\hline\n\tA &   420 &  0.5465903\\\\\n\tB &   822 &  1.0697553\\\\\n\tC &  7241 &  9.4234774\\\\\n\tD & 18602 & 24.2087454\\\\\n\tE & 49755 & 64.7514315\\\\\n\\end{tabular}\n",
            "text/markdown": "\nA matrix: 5 × 2 of type dbl\n\n| <!--/--> | Frequencia | Percentual |\n|---|---|---|\n| A |   420 |  0.5465903 |\n| B |   822 |  1.0697553 |\n| C |  7241 |  9.4234774 |\n| D | 18602 | 24.2087454 |\n| E | 49755 | 64.7514315 |\n\n",
            "text/html": [
              "<table>\n",
              "<caption>A matrix: 5 × 2 of type dbl</caption>\n",
              "<thead>\n",
              "\t<tr><th></th><th scope=col>Frequencia</th><th scope=col>Percentual</th></tr>\n",
              "</thead>\n",
              "<tbody>\n",
              "\t<tr><th scope=row>A</th><td>  420</td><td> 0.5465903</td></tr>\n",
              "\t<tr><th scope=row>B</th><td>  822</td><td> 1.0697553</td></tr>\n",
              "\t<tr><th scope=row>C</th><td> 7241</td><td> 9.4234774</td></tr>\n",
              "\t<tr><th scope=row>D</th><td>18602</td><td>24.2087454</td></tr>\n",
              "\t<tr><th scope=row>E</th><td>49755</td><td>64.7514315</td></tr>\n",
              "</tbody>\n",
              "</table>\n"
            ]
          },
          "metadata": {
            "tags": []
          }
        }
      ]
    },
    {
      "cell_type": "markdown",
      "metadata": {
        "id": "DOYtXuSbTg18"
      },
      "source": [
        "### Construa um gráfico de barras para visualizar as informações da tabela de frequências acima\n",
        "\n",
        "#### <font color='red'>Lembre-se de transformar a matriz de resultados em um data frame.</font>"
      ]
    },
    {
      "cell_type": "code",
      "metadata": {
        "id": "Jm5QtqWK8lex",
        "outputId": "8ba0da66-08b2-46ab-eaf5-02249e69c70d",
        "colab": {
          "base_uri": "https://localhost:8080/",
          "height": 183
        }
      },
      "source": [
        "bar_chart = data.frame(renda)\n",
        "bar_chart"
      ],
      "execution_count": null,
      "outputs": [
        {
          "output_type": "display_data",
          "data": {
            "text/plain": [
              "  Frequencia Percentual\n",
              "A   420       0.5465903\n",
              "B   822       1.0697553\n",
              "C  7241       9.4234774\n",
              "D 18602      24.2087454\n",
              "E 49755      64.7514315"
            ],
            "text/latex": "A data.frame: 5 × 2\n\\begin{tabular}{r|ll}\n  & Frequencia & Percentual\\\\\n  & <dbl> & <dbl>\\\\\n\\hline\n\tA &   420 &  0.5465903\\\\\n\tB &   822 &  1.0697553\\\\\n\tC &  7241 &  9.4234774\\\\\n\tD & 18602 & 24.2087454\\\\\n\tE & 49755 & 64.7514315\\\\\n\\end{tabular}\n",
            "text/markdown": "\nA data.frame: 5 × 2\n\n| <!--/--> | Frequencia &lt;dbl&gt; | Percentual &lt;dbl&gt; |\n|---|---|---|\n| A |   420 |  0.5465903 |\n| B |   822 |  1.0697553 |\n| C |  7241 |  9.4234774 |\n| D | 18602 | 24.2087454 |\n| E | 49755 | 64.7514315 |\n\n",
            "text/html": [
              "<table>\n",
              "<caption>A data.frame: 5 × 2</caption>\n",
              "<thead>\n",
              "\t<tr><th></th><th scope=col>Frequencia</th><th scope=col>Percentual</th></tr>\n",
              "\t<tr><th></th><th scope=col>&lt;dbl&gt;</th><th scope=col>&lt;dbl&gt;</th></tr>\n",
              "</thead>\n",
              "<tbody>\n",
              "\t<tr><th scope=row>A</th><td>  420</td><td> 0.5465903</td></tr>\n",
              "\t<tr><th scope=row>B</th><td>  822</td><td> 1.0697553</td></tr>\n",
              "\t<tr><th scope=row>C</th><td> 7241</td><td> 9.4234774</td></tr>\n",
              "\t<tr><th scope=row>D</th><td>18602</td><td>24.2087454</td></tr>\n",
              "\t<tr><th scope=row>E</th><td>49755</td><td>64.7514315</td></tr>\n",
              "</tbody>\n",
              "</table>\n"
            ]
          },
          "metadata": {
            "tags": []
          }
        }
      ]
    },
    {
      "cell_type": "code",
      "metadata": {
        "id": "KV6JQ3-a8le2",
        "outputId": "ee526242-e2fd-43ad-9b2b-0c6ae913982b",
        "colab": {
          "base_uri": "https://localhost:8080/",
          "height": 377
        }
      },
      "source": [
        "ggplot(bar_chart, aes(x = row.names(bar_chart), y = Frequencia)) +\n",
        "  geom_bar(stat = \"identity\") +\n",
        "  ylab(\"Frequência\") +\n",
        "  xlab(\"Classes de Renda\") +\n",
        "  ggtitle(\"Gráfico Classes de Renda\") +\n",
        "  formatos"
      ],
      "execution_count": null,
      "outputs": [
        {
          "output_type": "display_data",
          "data": {
            "image/png": "[encoded data removed]",
            "text/plain": [
              "plot without title"
            ]
          },
          "metadata": {
            "tags": [],
            "image/png": {
              "width": 540,
              "height": 360
            }
          }
        }
      ]
    },
    {
      "cell_type": "markdown",
      "metadata": {
        "id": "9ppt5JevTg1-"
      },
      "source": [
        "> ### Conclusões\n",
        "\n",
        "A maior parte da população ganha até 2 salários mínimos. Uma quantidade minúscula da população ganha 15 SM ou mais."
      ]
    },
    {
      "cell_type": "markdown",
      "metadata": {
        "id": "yt-gFm93Tg1-"
      },
      "source": [
        "### Crie um histograma para as variáveis QUANTITATIVAS de nosso dataset\n",
        "#### <font color='blue'>Descreva os pontos mais relevantes que você observa nos gráficos (assimetrias e seus tipos, possíveis causas para determinados comportamentos etc.)</font>"
      ]
    },
    {
      "cell_type": "code",
      "metadata": {
        "id": "OAx6Wbc08le9",
        "outputId": "6da50270-900d-4877-d054-3c257d57e237",
        "colab": {
          "base_uri": "https://localhost:8080/",
          "height": 411
        }
      },
      "source": [
        "ggplot(data = dados, aes(x = Altura)) +\n",
        "  geom_histogram() +\n",
        "  ylab(\"Frequência\") +\n",
        "  xlab(\"Altura\") +\n",
        "  ggtitle(\"Histograma de Altura\") +\n",
        "  formatos"
      ],
      "execution_count": null,
      "outputs": [
        {
          "output_type": "stream",
          "text": [
            "`stat_bin()` using `bins = 30`. Pick better value with `binwidth`.\n",
            "\n"
          ],
          "name": "stderr"
        },
        {
          "output_type": "display_data",
          "data": {
            "image/png": "[encoded data removed]",
            "text/plain": [
              "plot without title"
            ]
          },
          "metadata": {
            "tags": [],
            "image/png": {
              "width": 540,
              "height": 360
            }
          }
        }
      ]
    },
    {
      "cell_type": "code",
      "metadata": {
        "id": "f2ZM0R_68lfD",
        "outputId": "114e7358-746c-4bfe-edcb-af0e6ec62d01",
        "colab": {
          "base_uri": "https://localhost:8080/",
          "height": 394
        }
      },
      "source": [
        "ggplot(dados, aes(x = Idade)) +\n",
        "geom_histogram(bins = 50) +\n",
        "xlab(\"Idade\") +\n",
        "ylab(\"Frequência\")\n",
        "ggtitle(\"Histograma de Idade\") +\n",
        "formatos"
      ],
      "execution_count": null,
      "outputs": [
        {
          "output_type": "display_data",
          "data": {
            "text/plain": [
              "NULL"
            ]
          },
          "metadata": {
            "tags": []
          }
        },
        {
          "output_type": "display_data",
          "data": {
            "image/png": "[encoded data removed]",
            "text/plain": [
              "plot without title"
            ]
          },
          "metadata": {
            "tags": [],
            "image/png": {
              "width": 540,
              "height": 360
            }
          }
        }
      ]
    },
    {
      "cell_type": "code",
      "metadata": {
        "id": "s55WPk1aTg2C",
        "outputId": "298236f3-9a87-46b0-811c-45a50f10dc19",
        "colab": {
          "base_uri": "https://localhost:8080/",
          "height": 377
        }
      },
      "source": [
        "ggplot(dados, aes(x = Renda)) +\n",
        "  geom_histogram(bins = 100) +\n",
        "  xlab(\"Renda\") +\n",
        "  ylab(\"Frequência\") +\n",
        "  ggtitle(\"Histograma de Renda\") +\n",
        "  formatos"
      ],
      "execution_count": null,
      "outputs": [
        {
          "output_type": "display_data",
          "data": {
            "image/png": "[encoded data removed]",
            "text/plain": [
              "plot without title"
            ]
          },
          "metadata": {
            "tags": [],
            "image/png": {
              "width": 540,
              "height": 360
            }
          }
        }
      ]
    },
    {
      "cell_type": "markdown",
      "metadata": {
        "id": "w45i-qJ1Tg2E"
      },
      "source": [
        "> ### Conclusões\n",
        "\n",
        "A maioria da população possui altura em torno de 1.70 m. O gráfico é simétrico.\n",
        "\n",
        "O gráfico de idade possui assimetria à direita e a moda fica em torno dos 25 anos.\n",
        "\n",
        "No gráfico de renda, a maior parte da população fica na casa de 1 SM e o gráfico é assimétrico à direita."
      ]
    },
    {
      "cell_type": "markdown",
      "metadata": {
        "id": "pnAH1T5fTg2F"
      },
      "source": [
        "### Para a variável RENDA, construa um histograma somente com as informações das pessoas com rendimento até R$ 20.000,00"
      ]
    },
    {
      "cell_type": "code",
      "metadata": {
        "id": "zI4jFkuA8lfS",
        "outputId": "119b9d55-62a4-423f-9764-4b4bcd0ad331",
        "colab": {
          "base_uri": "https://localhost:8080/",
          "height": 411
        }
      },
      "source": [
        "ggplot(dados[dados$Renda <= 20000, ], aes(x = Renda)) +\n",
        "  geom_histogram() +\n",
        "  xlab(\"Renda\") +\n",
        "  ylab(\"Frequência\") +\n",
        "  ggtitle(\"Histograma de Rendas até R$20.000,00\") +\n",
        "  formatos"
      ],
      "execution_count": null,
      "outputs": [
        {
          "output_type": "stream",
          "text": [
            "`stat_bin()` using `bins = 30`. Pick better value with `binwidth`.\n",
            "\n"
          ],
          "name": "stderr"
        },
        {
          "output_type": "display_data",
          "data": {
            "image/png": "[encoded data removed]",
            "text/plain": [
              "plot without title"
            ]
          },
          "metadata": {
            "tags": [],
            "image/png": {
              "width": 540,
              "height": 360
            }
          }
        }
      ]
    },
    {
      "cell_type": "markdown",
      "metadata": {
        "id": "vvtzLOUKTg2H"
      },
      "source": [
        "### Construa uma tabela de frequências e uma com os percentuais cruzando das variáveis SEXO e COR\n",
        "#### <font color='blue'>Avalie o resultado da tabela e escreva suas principais conclusões</font>\n",
        "#### <font color='red'>Utilize os vetores abaixo para renomear as linha e colunas das tabelas de frequências e dos gráficos em nosso projeto</font>"
      ]
    },
    {
      "cell_type": "code",
      "metadata": {
        "id": "sChJRo_qTg2I"
      },
      "source": [
        "sexo = c(\n",
        "    'Masculino', \n",
        "    'Feminino'\n",
        ")\n",
        "cor = c(\n",
        "    'Indígena', \n",
        "    'Branca', \n",
        "    'Preta', \n",
        "    'Amarela', \n",
        "    'Parda'\n",
        ")\n",
        "anos_de_estudo = c(\n",
        "    'Sem instrução e menos de 1 ano', \n",
        "    '1 ano', \n",
        "    '2 anos', \n",
        "    '3 anos', \n",
        "    '4 anos', \n",
        "    '5 anos', \n",
        "    '6 anos', \n",
        "    '7 anos', \n",
        "    '8 anos', \n",
        "    '9 anos', \n",
        "    '10 anos', \n",
        "    '11 anos', \n",
        "    '12 anos', \n",
        "    '13 anos', \n",
        "    '14 anos', \n",
        "    '15 anos ou mais', \n",
        "    'Não determinados'\n",
        ")"
      ],
      "execution_count": null,
      "outputs": []
    },
    {
      "cell_type": "code",
      "metadata": {
        "id": "wmvoftvH8lff"
      },
      "source": [
        "dados$Cat.Sexo <- factor(dados$Sexo)\n",
        "levels(dados$Cat.Sexo) <- sexo\n",
        "\n",
        "dados$Cat.Cor <- factor(dados$Cor)\n",
        "levels(dados$Cat.Cor) <- cor\n",
        "\n",
        "dados$Cat.Anos.de.Estudo <- factor(dados$Anos.de.Estudo, order = TRUE)\n",
        "levels(dados$Cat.Anos.de.Estudo) <- anos_de_estudo"
      ],
      "execution_count": null,
      "outputs": []
    },
    {
      "cell_type": "code",
      "metadata": {
        "id": "csL1jaeSTg2M",
        "outputId": "66540cba-73ae-451f-b2ad-b0af35b2436e",
        "colab": {
          "base_uri": "https://localhost:8080/",
          "height": 204
        }
      },
      "source": [
        "head(dados)"
      ],
      "execution_count": null,
      "outputs": [
        {
          "output_type": "display_data",
          "data": {
            "text/plain": [
              "  UF Sexo Idade Cor Anos.de.Estudo Renda Altura   Cat.Sexo  Cat.Cor\n",
              "1 11 0    23    8   12              800  1.603808 Masculino Parda  \n",
              "2 11 1    23    2   12             1150  1.739790 Feminino  Branca \n",
              "3 11 1    35    8   15              880  1.760444 Feminino  Parda  \n",
              "4 11 0    46    2    6             3500  1.783158 Masculino Branca \n",
              "5 11 1    47    8    9              150  1.690631 Feminino  Parda  \n",
              "6 11 1    34    8   12              790  1.637906 Feminino  Parda  \n",
              "  Cat.Anos.de.Estudo\n",
              "1 11 anos           \n",
              "2 11 anos           \n",
              "3 14 anos           \n",
              "4 5 anos            \n",
              "5 8 anos            \n",
              "6 11 anos           "
            ],
            "text/latex": "A data.frame: 6 × 10\n\\begin{tabular}{r|llllllllll}\n  & UF & Sexo & Idade & Cor & Anos.de.Estudo & Renda & Altura & Cat.Sexo & Cat.Cor & Cat.Anos.de.Estudo\\\\\n  & <int> & <int> & <int> & <int> & <int> & <int> & <dbl> & <fct> & <fct> & <ord>\\\\\n\\hline\n\t1 & 11 & 0 & 23 & 8 & 12 &  800 & 1.603808 & Masculino & Parda  & 11 anos\\\\\n\t2 & 11 & 1 & 23 & 2 & 12 & 1150 & 1.739790 & Feminino  & Branca & 11 anos\\\\\n\t3 & 11 & 1 & 35 & 8 & 15 &  880 & 1.760444 & Feminino  & Parda  & 14 anos\\\\\n\t4 & 11 & 0 & 46 & 2 &  6 & 3500 & 1.783158 & Masculino & Branca & 5 anos \\\\\n\t5 & 11 & 1 & 47 & 8 &  9 &  150 & 1.690631 & Feminino  & Parda  & 8 anos \\\\\n\t6 & 11 & 1 & 34 & 8 & 12 &  790 & 1.637906 & Feminino  & Parda  & 11 anos\\\\\n\\end{tabular}\n",
            "text/markdown": "\nA data.frame: 6 × 10\n\n| <!--/--> | UF &lt;int&gt; | Sexo &lt;int&gt; | Idade &lt;int&gt; | Cor &lt;int&gt; | Anos.de.Estudo &lt;int&gt; | Renda &lt;int&gt; | Altura &lt;dbl&gt; | Cat.Sexo &lt;fct&gt; | Cat.Cor &lt;fct&gt; | Cat.Anos.de.Estudo &lt;ord&gt; |\n|---|---|---|---|---|---|---|---|---|---|---|\n| 1 | 11 | 0 | 23 | 8 | 12 |  800 | 1.603808 | Masculino | Parda  | 11 anos |\n| 2 | 11 | 1 | 23 | 2 | 12 | 1150 | 1.739790 | Feminino  | Branca | 11 anos |\n| 3 | 11 | 1 | 35 | 8 | 15 |  880 | 1.760444 | Feminino  | Parda  | 14 anos |\n| 4 | 11 | 0 | 46 | 2 |  6 | 3500 | 1.783158 | Masculino | Branca | 5 anos  |\n| 5 | 11 | 1 | 47 | 8 |  9 |  150 | 1.690631 | Feminino  | Parda  | 8 anos  |\n| 6 | 11 | 1 | 34 | 8 | 12 |  790 | 1.637906 | Feminino  | Parda  | 11 anos |\n\n",
            "text/html": [
              "<table>\n",
              "<caption>A data.frame: 6 × 10</caption>\n",
              "<thead>\n",
              "\t<tr><th></th><th scope=col>UF</th><th scope=col>Sexo</th><th scope=col>Idade</th><th scope=col>Cor</th><th scope=col>Anos.de.Estudo</th><th scope=col>Renda</th><th scope=col>Altura</th><th scope=col>Cat.Sexo</th><th scope=col>Cat.Cor</th><th scope=col>Cat.Anos.de.Estudo</th></tr>\n",
              "\t<tr><th></th><th scope=col>&lt;int&gt;</th><th scope=col>&lt;int&gt;</th><th scope=col>&lt;int&gt;</th><th scope=col>&lt;int&gt;</th><th scope=col>&lt;int&gt;</th><th scope=col>&lt;int&gt;</th><th scope=col>&lt;dbl&gt;</th><th scope=col>&lt;fct&gt;</th><th scope=col>&lt;fct&gt;</th><th scope=col>&lt;ord&gt;</th></tr>\n",
              "</thead>\n",
              "<tbody>\n",
              "\t<tr><th scope=row>1</th><td>11</td><td>0</td><td>23</td><td>8</td><td>12</td><td> 800</td><td>1.603808</td><td>Masculino</td><td>Parda </td><td>11 anos</td></tr>\n",
              "\t<tr><th scope=row>2</th><td>11</td><td>1</td><td>23</td><td>2</td><td>12</td><td>1150</td><td>1.739790</td><td>Feminino </td><td>Branca</td><td>11 anos</td></tr>\n",
              "\t<tr><th scope=row>3</th><td>11</td><td>1</td><td>35</td><td>8</td><td>15</td><td> 880</td><td>1.760444</td><td>Feminino </td><td>Parda </td><td>14 anos</td></tr>\n",
              "\t<tr><th scope=row>4</th><td>11</td><td>0</td><td>46</td><td>2</td><td> 6</td><td>3500</td><td>1.783158</td><td>Masculino</td><td>Branca</td><td>5 anos </td></tr>\n",
              "\t<tr><th scope=row>5</th><td>11</td><td>1</td><td>47</td><td>8</td><td> 9</td><td> 150</td><td>1.690631</td><td>Feminino </td><td>Parda </td><td>8 anos </td></tr>\n",
              "\t<tr><th scope=row>6</th><td>11</td><td>1</td><td>34</td><td>8</td><td>12</td><td> 790</td><td>1.637906</td><td>Feminino </td><td>Parda </td><td>11 anos</td></tr>\n",
              "</tbody>\n",
              "</table>\n"
            ]
          },
          "metadata": {
            "tags": []
          }
        }
      ]
    },
    {
      "cell_type": "code",
      "metadata": {
        "id": "0mzwy03s8lfb",
        "outputId": "c08b8aba-fbae-4292-a3f3-4b7a23377f02",
        "colab": {
          "base_uri": "https://localhost:8080/",
          "height": 85
        }
      },
      "source": [
        "frequencia <- table(dados$Cat.Sexo, dados$Cat.Cor)\n",
        "frequencia"
      ],
      "execution_count": null,
      "outputs": [
        {
          "output_type": "display_data",
          "data": {
            "text/plain": [
              "           \n",
              "            Indígena Branca Preta Amarela Parda\n",
              "  Masculino      256  22194  5502     235 25063\n",
              "  Feminino       101   9621  2889     117 10862"
            ]
          },
          "metadata": {
            "tags": []
          }
        }
      ]
    },
    {
      "cell_type": "code",
      "metadata": {
        "id": "KbeFXAGSTg2K",
        "outputId": "e32e9614-d249-4b37-cf43-3f77d8a1fb99",
        "colab": {
          "base_uri": "https://localhost:8080/",
          "height": 85
        }
      },
      "source": [
        "percentual <- prop.table(frequencia) * 100\n",
        "percentual"
      ],
      "execution_count": null,
      "outputs": [
        {
          "output_type": "display_data",
          "data": {
            "text/plain": [
              "           \n",
              "              Indígena     Branca      Preta    Amarela      Parda\n",
              "  Masculino  0.3331598 28.8833941  7.1603332  0.3058303 32.6171265\n",
              "  Feminino   0.1314420 12.5208225  3.7597605  0.1522644 14.1358667"
            ]
          },
          "metadata": {
            "tags": []
          }
        }
      ]
    },
    {
      "cell_type": "markdown",
      "metadata": {
        "id": "2jLZmww2Tg2O"
      },
      "source": [
        "> ### Conclusões\n",
        "\n",
        "Os chefes de família são em sua maioria homens e a maior parte é composta de indivíduos da cor parda."
      ]
    },
    {
      "cell_type": "markdown",
      "metadata": {
        "id": "Aoeayf6zTg2P"
      },
      "source": [
        "## Realize, para a variável RENDA, uma análise descritiva com as ferramentas que aprendemos em nosso treinamento"
      ]
    },
    {
      "cell_type": "markdown",
      "metadata": {
        "id": "c2CtT71oTg2P"
      },
      "source": [
        "### Obtenha a média aritimética"
      ]
    },
    {
      "cell_type": "code",
      "metadata": {
        "id": "qlJESCU6Tg2P",
        "outputId": "cd8a2f41-d230-4276-a555-3135dc2fda33",
        "colab": {
          "base_uri": "https://localhost:8080/",
          "height": 34
        }
      },
      "source": [
        "mean(dados$Renda)"
      ],
      "execution_count": null,
      "outputs": [
        {
          "output_type": "display_data",
          "data": {
            "text/plain": [
              "[1] 2000.383"
            ],
            "text/latex": "2000.38319885476",
            "text/markdown": "2000.38319885476",
            "text/html": [
              "2000.38319885476"
            ]
          },
          "metadata": {
            "tags": []
          }
        }
      ]
    },
    {
      "cell_type": "markdown",
      "metadata": {
        "id": "Xd4saPBCTg2R"
      },
      "source": [
        "### Obtenha a mediana"
      ]
    },
    {
      "cell_type": "code",
      "metadata": {
        "id": "vHTqX-UATg2R",
        "outputId": "447dd6b3-d947-4dc8-8cc5-9e6f9e70d449",
        "colab": {
          "base_uri": "https://localhost:8080/",
          "height": 34
        }
      },
      "source": [
        "median(dados$Renda)"
      ],
      "execution_count": null,
      "outputs": [
        {
          "output_type": "display_data",
          "data": {
            "text/plain": [
              "[1] 1200"
            ],
            "text/latex": "1200",
            "text/markdown": "1200",
            "text/html": [
              "1200"
            ]
          },
          "metadata": {
            "tags": []
          }
        }
      ]
    },
    {
      "cell_type": "markdown",
      "metadata": {
        "id": "_e40rDSwTg2U"
      },
      "source": [
        "### Obtenha a moda"
      ]
    },
    {
      "cell_type": "code",
      "metadata": {
        "id": "B9ioy5xF8lgC"
      },
      "source": [
        "Moda <- function(x) {\n",
        "  freq <- table(x)\n",
        "  return (names(freq)[freq == max(freq)])\n",
        "}"
      ],
      "execution_count": null,
      "outputs": []
    },
    {
      "cell_type": "code",
      "metadata": {
        "id": "BFOOdYOvTg2V",
        "outputId": "9672afed-cad6-4c99-d49f-8004fecc2351",
        "colab": {
          "base_uri": "https://localhost:8080/",
          "height": 34
        }
      },
      "source": [
        "as.numeric(Moda(dados$Renda))"
      ],
      "execution_count": null,
      "outputs": [
        {
          "output_type": "display_data",
          "data": {
            "text/plain": [
              "[1] 788"
            ],
            "text/latex": "788",
            "text/markdown": "788",
            "text/html": [
              "788"
            ]
          },
          "metadata": {
            "tags": []
          }
        }
      ]
    },
    {
      "cell_type": "markdown",
      "metadata": {
        "id": "hCgV_XaQTg2Z"
      },
      "source": [
        "### Obtenha a variância"
      ]
    },
    {
      "cell_type": "code",
      "metadata": {
        "id": "SwRgACeGTg2a",
        "outputId": "9587aa9a-58bb-47ac-f3e7-77380a388bf8",
        "colab": {
          "base_uri": "https://localhost:8080/",
          "height": 34
        }
      },
      "source": [
        "var(dados$Renda)"
      ],
      "execution_count": null,
      "outputs": [
        {
          "output_type": "display_data",
          "data": {
            "text/plain": [
              "[1] 11044906"
            ],
            "text/latex": "11044906.006217",
            "text/markdown": "11044906.006217",
            "text/html": [
              "11044906.006217"
            ]
          },
          "metadata": {
            "tags": []
          }
        }
      ]
    },
    {
      "cell_type": "markdown",
      "metadata": {
        "id": "gsO6MKOcTg2c"
      },
      "source": [
        "### Obtenha o desvio-padrão"
      ]
    },
    {
      "cell_type": "code",
      "metadata": {
        "id": "gR-LVTRYTg2d",
        "outputId": "f63b7336-c8be-4782-884d-6f1daf70acb5",
        "colab": {
          "base_uri": "https://localhost:8080/",
          "height": 34
        }
      },
      "source": [
        "sd(dados$Renda)"
      ],
      "execution_count": null,
      "outputs": [
        {
          "output_type": "display_data",
          "data": {
            "text/plain": [
              "[1] 3323.388"
            ],
            "text/latex": "3323.3877303464",
            "text/markdown": "3323.3877303464",
            "text/html": [
              "3323.3877303464"
            ]
          },
          "metadata": {
            "tags": []
          }
        }
      ]
    },
    {
      "cell_type": "markdown",
      "metadata": {
        "id": "vG-rdO5fTg2f"
      },
      "source": [
        "### Obtenha a média, mediana e valor máximo da variável RENDA segundo SEXO e COR\n",
        "#### <font color='blue'>Destaque os pontos mais importante que você observa nas tabulações</font>\n",
        "#### <font color='red'>Utilize *tapply* com as funções *mean*, *median* e *max*</font>"
      ]
    },
    {
      "cell_type": "code",
      "metadata": {
        "id": "VgxygKWXTg2g",
        "outputId": "cd544fef-c0ce-4101-fbe8-3f1312f1c745",
        "colab": {
          "base_uri": "https://localhost:8080/",
          "height": 99
        }
      },
      "source": [
        "media <- tapply(dados$Renda, list(dados$Cat.Sexo, dados$Cat.Cor), mean)\n",
        "media"
      ],
      "execution_count": null,
      "outputs": [
        {
          "output_type": "display_data",
          "data": {
            "text/plain": [
              "          Indígena Branca   Preta    Amarela  Parda   \n",
              "Masculino 1081.711 2925.744 1603.862 4758.251 1659.577\n",
              "Feminino  2464.386 2109.867 1134.596 3027.342 1176.759"
            ],
            "text/latex": "A matrix: 2 × 5 of type dbl\n\\begin{tabular}{r|lllll}\n  & Indígena & Branca & Preta & Amarela & Parda\\\\\n\\hline\n\tMasculino & 1081.711 & 2925.744 & 1603.862 & 4758.251 & 1659.577\\\\\n\tFeminino & 2464.386 & 2109.867 & 1134.596 & 3027.342 & 1176.759\\\\\n\\end{tabular}\n",
            "text/markdown": "\nA matrix: 2 × 5 of type dbl\n\n| <!--/--> | Indígena | Branca | Preta | Amarela | Parda |\n|---|---|---|---|---|---|\n| Masculino | 1081.711 | 2925.744 | 1603.862 | 4758.251 | 1659.577 |\n| Feminino | 2464.386 | 2109.867 | 1134.596 | 3027.342 | 1176.759 |\n\n",
            "text/html": [
              "<table>\n",
              "<caption>A matrix: 2 × 5 of type dbl</caption>\n",
              "<thead>\n",
              "\t<tr><th></th><th scope=col>Indígena</th><th scope=col>Branca</th><th scope=col>Preta</th><th scope=col>Amarela</th><th scope=col>Parda</th></tr>\n",
              "</thead>\n",
              "<tbody>\n",
              "\t<tr><th scope=row>Masculino</th><td>1081.711</td><td>2925.744</td><td>1603.862</td><td>4758.251</td><td>1659.577</td></tr>\n",
              "\t<tr><th scope=row>Feminino</th><td>2464.386</td><td>2109.867</td><td>1134.596</td><td>3027.342</td><td>1176.759</td></tr>\n",
              "</tbody>\n",
              "</table>\n"
            ]
          },
          "metadata": {
            "tags": []
          }
        }
      ]
    },
    {
      "cell_type": "code",
      "metadata": {
        "id": "ps44v3yD8lgX",
        "outputId": "5edcd753-b62d-4575-8d9e-86cee79fd189",
        "colab": {
          "base_uri": "https://localhost:8080/",
          "height": 99
        }
      },
      "source": [
        "mediana <- tapply(dados$Renda, list(dados$Cat.Sexo, dados$Cat.Cor), median)\n",
        "mediana"
      ],
      "execution_count": null,
      "outputs": [
        {
          "output_type": "display_data",
          "data": {
            "text/plain": [
              "          Indígena Branca Preta Amarela Parda\n",
              "Masculino 797.5    1700   1200  2800    1200 \n",
              "Feminino  788.0    1200    800  1500     800 "
            ],
            "text/latex": "A matrix: 2 × 5 of type dbl\n\\begin{tabular}{r|lllll}\n  & Indígena & Branca & Preta & Amarela & Parda\\\\\n\\hline\n\tMasculino & 797.5 & 1700 & 1200 & 2800 & 1200\\\\\n\tFeminino & 788.0 & 1200 &  800 & 1500 &  800\\\\\n\\end{tabular}\n",
            "text/markdown": "\nA matrix: 2 × 5 of type dbl\n\n| <!--/--> | Indígena | Branca | Preta | Amarela | Parda |\n|---|---|---|---|---|---|\n| Masculino | 797.5 | 1700 | 1200 | 2800 | 1200 |\n| Feminino | 788.0 | 1200 |  800 | 1500 |  800 |\n\n",
            "text/html": [
              "<table>\n",
              "<caption>A matrix: 2 × 5 of type dbl</caption>\n",
              "<thead>\n",
              "\t<tr><th></th><th scope=col>Indígena</th><th scope=col>Branca</th><th scope=col>Preta</th><th scope=col>Amarela</th><th scope=col>Parda</th></tr>\n",
              "</thead>\n",
              "<tbody>\n",
              "\t<tr><th scope=row>Masculino</th><td>797.5</td><td>1700</td><td>1200</td><td>2800</td><td>1200</td></tr>\n",
              "\t<tr><th scope=row>Feminino</th><td>788.0</td><td>1200</td><td> 800</td><td>1500</td><td> 800</td></tr>\n",
              "</tbody>\n",
              "</table>\n"
            ]
          },
          "metadata": {
            "tags": []
          }
        }
      ]
    },
    {
      "cell_type": "code",
      "metadata": {
        "id": "wmvzMRBn8lga",
        "outputId": "520e0324-dcf1-45df-ca9a-15b71ff435b1",
        "colab": {
          "base_uri": "https://localhost:8080/",
          "height": 99
        }
      },
      "source": [
        "maximo <- tapply(dados$Renda, list(dados$Cat.Sexo, dados$Cat.Cor), max)\n",
        "maximo"
      ],
      "execution_count": null,
      "outputs": [
        {
          "output_type": "display_data",
          "data": {
            "text/plain": [
              "          Indígena Branca Preta Amarela Parda \n",
              "Masculino  10000   200000 50000 50000   100000\n",
              "Feminino  120000   100000 23000 20000    30000"
            ],
            "text/latex": "A matrix: 2 × 5 of type int\n\\begin{tabular}{r|lllll}\n  & Indígena & Branca & Preta & Amarela & Parda\\\\\n\\hline\n\tMasculino &  10000 & 200000 & 50000 & 50000 & 100000\\\\\n\tFeminino & 120000 & 100000 & 23000 & 20000 &  30000\\\\\n\\end{tabular}\n",
            "text/markdown": "\nA matrix: 2 × 5 of type int\n\n| <!--/--> | Indígena | Branca | Preta | Amarela | Parda |\n|---|---|---|---|---|---|\n| Masculino |  10000 | 200000 | 50000 | 50000 | 100000 |\n| Feminino | 120000 | 100000 | 23000 | 20000 |  30000 |\n\n",
            "text/html": [
              "<table>\n",
              "<caption>A matrix: 2 × 5 of type int</caption>\n",
              "<thead>\n",
              "\t<tr><th></th><th scope=col>Indígena</th><th scope=col>Branca</th><th scope=col>Preta</th><th scope=col>Amarela</th><th scope=col>Parda</th></tr>\n",
              "</thead>\n",
              "<tbody>\n",
              "\t<tr><th scope=row>Masculino</th><td> 10000</td><td>200000</td><td>50000</td><td>50000</td><td>100000</td></tr>\n",
              "\t<tr><th scope=row>Feminino</th><td>120000</td><td>100000</td><td>23000</td><td>20000</td><td> 30000</td></tr>\n",
              "</tbody>\n",
              "</table>\n"
            ]
          },
          "metadata": {
            "tags": []
          }
        }
      ]
    },
    {
      "cell_type": "markdown",
      "metadata": {
        "id": "ibndm9iwTg2i"
      },
      "source": [
        "> ### Conclusões\n",
        "\n",
        "Os homens e mulheres da cor amarela possuem a maior média de renda. Os homens da cor indígena e as mulheres da cor preta possuem a menor renda média.\n",
        "\n",
        "Tantos os homens e as mulheres da cor amarela possuem a maior renda mediana. Os homens e as mulheres da cor indígena possuem a menor renda mediana.\n",
        "\n",
        "Os homens e mulheres da cor amarela possuem a maior moda de renda. As mulheres de todas as outras cores todas possuem moda 788 (salário mínimo)."
      ]
    },
    {
      "cell_type": "markdown",
      "metadata": {
        "id": "CleJ6c1rTg2i"
      },
      "source": [
        "### Obtenha as medidas de dispersão da variável RENDA segundo SEXO e COR\n",
        "#### <font color='blue'>Destaque os pontos mais importante que você observa nas tabulações</font>\n",
        "#### <font color='red'>Utilize *tapply* com as funções *var* e *sd*</font>"
      ]
    },
    {
      "cell_type": "code",
      "metadata": {
        "id": "6HoWmM8l8lgf",
        "outputId": "91934a10-4cac-4c2c-ceb4-43d95bbca5cf",
        "colab": {
          "base_uri": "https://localhost:8080/",
          "height": 99
        }
      },
      "source": [
        "variancia <- tapply(dados$Renda, list(dados$Cat.Sexo, dados$Cat.Cor), var)\n",
        "variancia"
      ],
      "execution_count": null,
      "outputs": [
        {
          "output_type": "display_data",
          "data": {
            "text/plain": [
              "          Indígena  Branca   Preta   Amarela  Parda  \n",
              "Masculino   1449841 22570023 3749294 32957070 5345747\n",
              "Feminino  142981765 10569087 1821960 13921657 2547960"
            ],
            "text/latex": "A matrix: 2 × 5 of type dbl\n\\begin{tabular}{r|lllll}\n  & Indígena & Branca & Preta & Amarela & Parda\\\\\n\\hline\n\tMasculino &   1449841 & 22570023 & 3749294 & 32957070 & 5345747\\\\\n\tFeminino & 142981765 & 10569087 & 1821960 & 13921657 & 2547960\\\\\n\\end{tabular}\n",
            "text/markdown": "\nA matrix: 2 × 5 of type dbl\n\n| <!--/--> | Indígena | Branca | Preta | Amarela | Parda |\n|---|---|---|---|---|---|\n| Masculino |   1449841 | 22570023 | 3749294 | 32957070 | 5345747 |\n| Feminino | 142981765 | 10569087 | 1821960 | 13921657 | 2547960 |\n\n",
            "text/html": [
              "<table>\n",
              "<caption>A matrix: 2 × 5 of type dbl</caption>\n",
              "<thead>\n",
              "\t<tr><th></th><th scope=col>Indígena</th><th scope=col>Branca</th><th scope=col>Preta</th><th scope=col>Amarela</th><th scope=col>Parda</th></tr>\n",
              "</thead>\n",
              "<tbody>\n",
              "\t<tr><th scope=row>Masculino</th><td>  1449841</td><td>22570023</td><td>3749294</td><td>32957070</td><td>5345747</td></tr>\n",
              "\t<tr><th scope=row>Feminino</th><td>142981765</td><td>10569087</td><td>1821960</td><td>13921657</td><td>2547960</td></tr>\n",
              "</tbody>\n",
              "</table>\n"
            ]
          },
          "metadata": {
            "tags": []
          }
        }
      ]
    },
    {
      "cell_type": "code",
      "metadata": {
        "id": "bNv-eWZ3Tg2j",
        "outputId": "99ca1a8c-65be-40d7-c52c-8fa93d581a08",
        "colab": {
          "base_uri": "https://localhost:8080/",
          "height": 99
        }
      },
      "source": [
        "desvio_padrao <- tapply(dados$Renda, list(dados$Cat.Sexo, dados$Cat.Cor), sd)\n",
        "desvio_padrao"
      ],
      "execution_count": null,
      "outputs": [
        {
          "output_type": "display_data",
          "data": {
            "text/plain": [
              "          Indígena  Branca   Preta    Amarela  Parda   \n",
              "Masculino  1204.093 4750.792 1936.309 5740.825 2312.087\n",
              "Feminino  11957.498 3251.013 1349.800 3731.174 1596.233"
            ],
            "text/latex": "A matrix: 2 × 5 of type dbl\n\\begin{tabular}{r|lllll}\n  & Indígena & Branca & Preta & Amarela & Parda\\\\\n\\hline\n\tMasculino &  1204.093 & 4750.792 & 1936.309 & 5740.825 & 2312.087\\\\\n\tFeminino & 11957.498 & 3251.013 & 1349.800 & 3731.174 & 1596.233\\\\\n\\end{tabular}\n",
            "text/markdown": "\nA matrix: 2 × 5 of type dbl\n\n| <!--/--> | Indígena | Branca | Preta | Amarela | Parda |\n|---|---|---|---|---|---|\n| Masculino |  1204.093 | 4750.792 | 1936.309 | 5740.825 | 2312.087 |\n| Feminino | 11957.498 | 3251.013 | 1349.800 | 3731.174 | 1596.233 |\n\n",
            "text/html": [
              "<table>\n",
              "<caption>A matrix: 2 × 5 of type dbl</caption>\n",
              "<thead>\n",
              "\t<tr><th></th><th scope=col>Indígena</th><th scope=col>Branca</th><th scope=col>Preta</th><th scope=col>Amarela</th><th scope=col>Parda</th></tr>\n",
              "</thead>\n",
              "<tbody>\n",
              "\t<tr><th scope=row>Masculino</th><td> 1204.093</td><td>4750.792</td><td>1936.309</td><td>5740.825</td><td>2312.087</td></tr>\n",
              "\t<tr><th scope=row>Feminino</th><td>11957.498</td><td>3251.013</td><td>1349.800</td><td>3731.174</td><td>1596.233</td></tr>\n",
              "</tbody>\n",
              "</table>\n"
            ]
          },
          "metadata": {
            "tags": []
          }
        }
      ]
    },
    {
      "cell_type": "markdown",
      "metadata": {
        "id": "57aHvJMSTg2l"
      },
      "source": [
        "> ### Conclusões\n",
        "\n",
        "Tantos os homens quanto as mulheres da cor amarela possuem a maior dispersão de renda.\n",
        "\n",
        "A menor dispersão de renda está entre os homens da cor indígena e as mulheres da cor preta."
      ]
    },
    {
      "cell_type": "markdown",
      "metadata": {
        "id": "QSYjkdyOTg2l"
      },
      "source": [
        "### Construa um box plot da variável RENDA segundo SEXO e COR\n",
        "#### <font color='blue'>É possível verificar algum comportamento diferenciado no rendimento entre os grupos de pessoas analisados? Avalie o gráfico e destaque os pontos mais importantes;</font>\n",
        "#### <font color='red'>1º - Utilize somente as informações de pessoas com renda abaixo de R$ 10.000</font>\n",
        "#### <font color='red'>2º - Para incluir uma terceira variável na construção de um boxplot utilize o parâmetro *fill* da seguinte maneira: *aes(x = Cor, y = Renda, fill = Sexo)*.</font>"
      ]
    },
    {
      "cell_type": "code",
      "metadata": {
        "id": "AVnhgTCh8lgn",
        "outputId": "93f0deb6-288d-4731-b77d-27b68b2317f8",
        "colab": {
          "base_uri": "https://localhost:8080/",
          "height": 377
        }
      },
      "source": [
        "ggplot(data = dados[dados$Renda < 10000, ], aes(x = Cat.Cor, y = Renda, fill = Cat.Sexo)) +\n",
        "  geom_boxplot(size = 0.2) +\n",
        "  coord_flip() +\n",
        "  xlab(\"Cor\") +\n",
        "  ylab(\"Renda\") +\n",
        "  ggtitle(\"Boxplot Sexo x Cor x Renda\") +\n",
        "  formatos"
      ],
      "execution_count": null,
      "outputs": [
        {
          "output_type": "display_data",
          "data": {
            "image/png": "[encoded data removed]",
            "text/plain": [
              "plot without title"
            ]
          },
          "metadata": {
            "tags": [],
            "image/png": {
              "width": 540,
              "height": 360
            }
          }
        }
      ]
    },
    {
      "cell_type": "markdown",
      "metadata": {
        "id": "ROiIQRFhTg2o"
      },
      "source": [
        "> ### Conclusões\n",
        "\n",
        "Em geral a mediana de renda entre homens e mulheres parece ser maior entre os homens com exceção da cor indígena.\n",
        "\n",
        "A dispersão de renda entre homen também parece ser maior comparado com as mulheres.\n",
        "\n",
        "A cor amarela possui a maior dispersão de renda entre todas as cores e também a maior renda mediana tanto entre homens quanto mulheres."
      ]
    },
    {
      "cell_type": "markdown",
      "metadata": {
        "id": "zi4BaGooTg2o"
      },
      "source": [
        "### Qual percentual de pessoas de nosso <i>dataset</i> ganham um salário mínimo (R$ 788,00) ou menos?"
      ]
    },
    {
      "cell_type": "code",
      "metadata": {
        "id": "ICpsqp1P8lgs",
        "outputId": "473f1073-8db8-4e24-9ecf-af6c4399c7b8",
        "colab": {
          "base_uri": "https://localhost:8080/",
          "height": 34
        }
      },
      "source": [
        "length(dados$Renda[dados$Renda <= 788]) / length(dados$Renda) * 100"
      ],
      "execution_count": null,
      "outputs": [
        {
          "output_type": "display_data",
          "data": {
            "text/plain": [
              "[1] 28.86778"
            ],
            "text/latex": "28.8677771993753",
            "text/markdown": "28.8677771993753",
            "text/html": [
              "28.8677771993753"
            ]
          },
          "metadata": {
            "tags": []
          }
        }
      ]
    },
    {
      "cell_type": "markdown",
      "metadata": {
        "id": "bl0fOMuKTg2q"
      },
      "source": [
        "### Qual o valor máximo ganho por 99% das pessoas de nosso <i>dataset</i>?\n",
        "#### <font color='red'>Utilize o método *quantile()* para realizar esta análise.</font>"
      ]
    },
    {
      "cell_type": "code",
      "metadata": {
        "id": "cIVwy8bKTg2q",
        "outputId": "7652a985-b382-4dc2-8207-fb7f424e40ad",
        "colab": {
          "base_uri": "https://localhost:8080/",
          "height": 34
        }
      },
      "source": [
        "quantile(dados$Renda, 0.99)"
      ],
      "execution_count": null,
      "outputs": [
        {
          "output_type": "display_data",
          "data": {
            "text/plain": [
              "  99% \n",
              "15000 "
            ],
            "text/latex": "\\textbf{99\\textbackslash{}\\%:} 15000",
            "text/markdown": "**99%:** 15000",
            "text/html": [
              "<strong>99%:</strong> 15000"
            ]
          },
          "metadata": {
            "tags": []
          }
        }
      ]
    },
    {
      "cell_type": "markdown",
      "metadata": {
        "id": "zeRhvtngTg2r"
      },
      "source": [
        "### Obtenha a média, mediana, valor máximo e desvio-padrão da variável RENDA segundo ANOS DE ESTUDO e SEXO\n",
        "#### <font color='blue'>Destaque os pontos mais importante que você observa nas tabulações</font>"
      ]
    },
    {
      "cell_type": "code",
      "metadata": {
        "id": "4xVfu1uh8lg6",
        "outputId": "af2668e6-098a-44ba-a198-c608761639f6",
        "colab": {
          "base_uri": "https://localhost:8080/",
          "height": 414
        }
      },
      "source": [
        "media = tapply(dados$Renda, list(dados$Cat.Anos.de.Estudo, dados$Cat.Sexo), mean)\n",
        "media"
      ],
      "execution_count": null,
      "outputs": [
        {
          "output_type": "display_data",
          "data": {
            "text/plain": [
              "                               Masculino Feminino \n",
              "Sem instrução e menos de 1 ano  799.4946  516.2017\n",
              "1 ano                           895.6290  492.7720\n",
              "2 anos                          931.1790  529.9116\n",
              "3 anos                         1109.2039  546.8539\n",
              "4 anos                         1302.3293  704.2791\n",
              "5 anos                         1338.6532  781.3898\n",
              "6 anos                         1448.8754  833.7328\n",
              "7 anos                         1465.4979  830.7510\n",
              "8 anos                         1639.3967  933.6154\n",
              "9 anos                         1508.0389  868.0217\n",
              "10 anos                        1731.2708  925.9192\n",
              "11 anos                        2117.0605 1286.7909\n",
              "12 anos                        2470.3308 1682.3137\n",
              "13 anos                        3195.0992 1911.7300\n",
              "14 anos                        3706.6203 2226.4605\n",
              "15 anos ou mais                6134.2798 3899.5132\n",
              "Não determinados               1295.7619  798.1744"
            ],
            "text/latex": "A matrix: 17 × 2 of type dbl\n\\begin{tabular}{r|ll}\n  & Masculino & Feminino\\\\\n\\hline\n\tSem instrução e menos de 1 ano &  799.4946 &  516.2017\\\\\n\t1 ano &  895.6290 &  492.7720\\\\\n\t2 anos &  931.1790 &  529.9116\\\\\n\t3 anos & 1109.2039 &  546.8539\\\\\n\t4 anos & 1302.3293 &  704.2791\\\\\n\t5 anos & 1338.6532 &  781.3898\\\\\n\t6 anos & 1448.8754 &  833.7328\\\\\n\t7 anos & 1465.4979 &  830.7510\\\\\n\t8 anos & 1639.3967 &  933.6154\\\\\n\t9 anos & 1508.0389 &  868.0217\\\\\n\t10 anos & 1731.2708 &  925.9192\\\\\n\t11 anos & 2117.0605 & 1286.7909\\\\\n\t12 anos & 2470.3308 & 1682.3137\\\\\n\t13 anos & 3195.0992 & 1911.7300\\\\\n\t14 anos & 3706.6203 & 2226.4605\\\\\n\t15 anos ou mais & 6134.2798 & 3899.5132\\\\\n\tNão determinados & 1295.7619 &  798.1744\\\\\n\\end{tabular}\n",
            "text/markdown": "\nA matrix: 17 × 2 of type dbl\n\n| <!--/--> | Masculino | Feminino |\n|---|---|---|\n| Sem instrução e menos de 1 ano |  799.4946 |  516.2017 |\n| 1 ano |  895.6290 |  492.7720 |\n| 2 anos |  931.1790 |  529.9116 |\n| 3 anos | 1109.2039 |  546.8539 |\n| 4 anos | 1302.3293 |  704.2791 |\n| 5 anos | 1338.6532 |  781.3898 |\n| 6 anos | 1448.8754 |  833.7328 |\n| 7 anos | 1465.4979 |  830.7510 |\n| 8 anos | 1639.3967 |  933.6154 |\n| 9 anos | 1508.0389 |  868.0217 |\n| 10 anos | 1731.2708 |  925.9192 |\n| 11 anos | 2117.0605 | 1286.7909 |\n| 12 anos | 2470.3308 | 1682.3137 |\n| 13 anos | 3195.0992 | 1911.7300 |\n| 14 anos | 3706.6203 | 2226.4605 |\n| 15 anos ou mais | 6134.2798 | 3899.5132 |\n| Não determinados | 1295.7619 |  798.1744 |\n\n",
            "text/html": [
              "<table>\n",
              "<caption>A matrix: 17 × 2 of type dbl</caption>\n",
              "<thead>\n",
              "\t<tr><th></th><th scope=col>Masculino</th><th scope=col>Feminino</th></tr>\n",
              "</thead>\n",
              "<tbody>\n",
              "\t<tr><th scope=row>Sem instrução e menos de 1 ano</th><td> 799.4946</td><td> 516.2017</td></tr>\n",
              "\t<tr><th scope=row>1 ano</th><td> 895.6290</td><td> 492.7720</td></tr>\n",
              "\t<tr><th scope=row>2 anos</th><td> 931.1790</td><td> 529.9116</td></tr>\n",
              "\t<tr><th scope=row>3 anos</th><td>1109.2039</td><td> 546.8539</td></tr>\n",
              "\t<tr><th scope=row>4 anos</th><td>1302.3293</td><td> 704.2791</td></tr>\n",
              "\t<tr><th scope=row>5 anos</th><td>1338.6532</td><td> 781.3898</td></tr>\n",
              "\t<tr><th scope=row>6 anos</th><td>1448.8754</td><td> 833.7328</td></tr>\n",
              "\t<tr><th scope=row>7 anos</th><td>1465.4979</td><td> 830.7510</td></tr>\n",
              "\t<tr><th scope=row>8 anos</th><td>1639.3967</td><td> 933.6154</td></tr>\n",
              "\t<tr><th scope=row>9 anos</th><td>1508.0389</td><td> 868.0217</td></tr>\n",
              "\t<tr><th scope=row>10 anos</th><td>1731.2708</td><td> 925.9192</td></tr>\n",
              "\t<tr><th scope=row>11 anos</th><td>2117.0605</td><td>1286.7909</td></tr>\n",
              "\t<tr><th scope=row>12 anos</th><td>2470.3308</td><td>1682.3137</td></tr>\n",
              "\t<tr><th scope=row>13 anos</th><td>3195.0992</td><td>1911.7300</td></tr>\n",
              "\t<tr><th scope=row>14 anos</th><td>3706.6203</td><td>2226.4605</td></tr>\n",
              "\t<tr><th scope=row>15 anos ou mais</th><td>6134.2798</td><td>3899.5132</td></tr>\n",
              "\t<tr><th scope=row>Não determinados</th><td>1295.7619</td><td> 798.1744</td></tr>\n",
              "</tbody>\n",
              "</table>\n"
            ]
          },
          "metadata": {
            "tags": []
          }
        }
      ]
    },
    {
      "cell_type": "code",
      "metadata": {
        "id": "rmzjh0nN8lg9",
        "outputId": "73c11ee2-95db-4093-82c5-046668f99af9",
        "colab": {
          "base_uri": "https://localhost:8080/",
          "height": 414
        }
      },
      "source": [
        "mediana <- tapply(dados$Renda, list(dados$Cat.Anos.de.Estudo, dados$Cat.Sexo), median)\n",
        "mediana"
      ],
      "execution_count": null,
      "outputs": [
        {
          "output_type": "display_data",
          "data": {
            "text/plain": [
              "                               Masculino Feminino\n",
              "Sem instrução e menos de 1 ano  700       390    \n",
              "1 ano                           788       400    \n",
              "2 anos                          788       450    \n",
              "3 anos                          800       500    \n",
              "4 anos                         1000       788    \n",
              "5 anos                         1045       788    \n",
              "6 anos                         1200       788    \n",
              "7 anos                         1200       788    \n",
              "8 anos                         1300       800    \n",
              "9 anos                         1200       788    \n",
              "10 anos                        1218       800    \n",
              "11 anos                        1500      1000    \n",
              "12 anos                        1800      1200    \n",
              "13 anos                        2400      1300    \n",
              "14 anos                        2500      1600    \n",
              "15 anos ou mais                4000      2800    \n",
              "Não determinados               1200       788    "
            ],
            "text/latex": "A matrix: 17 × 2 of type dbl\n\\begin{tabular}{r|ll}\n  & Masculino & Feminino\\\\\n\\hline\n\tSem instrução e menos de 1 ano &  700 &  390\\\\\n\t1 ano &  788 &  400\\\\\n\t2 anos &  788 &  450\\\\\n\t3 anos &  800 &  500\\\\\n\t4 anos & 1000 &  788\\\\\n\t5 anos & 1045 &  788\\\\\n\t6 anos & 1200 &  788\\\\\n\t7 anos & 1200 &  788\\\\\n\t8 anos & 1300 &  800\\\\\n\t9 anos & 1200 &  788\\\\\n\t10 anos & 1218 &  800\\\\\n\t11 anos & 1500 & 1000\\\\\n\t12 anos & 1800 & 1200\\\\\n\t13 anos & 2400 & 1300\\\\\n\t14 anos & 2500 & 1600\\\\\n\t15 anos ou mais & 4000 & 2800\\\\\n\tNão determinados & 1200 &  788\\\\\n\\end{tabular}\n",
            "text/markdown": "\nA matrix: 17 × 2 of type dbl\n\n| <!--/--> | Masculino | Feminino |\n|---|---|---|\n| Sem instrução e menos de 1 ano |  700 |  390 |\n| 1 ano |  788 |  400 |\n| 2 anos |  788 |  450 |\n| 3 anos |  800 |  500 |\n| 4 anos | 1000 |  788 |\n| 5 anos | 1045 |  788 |\n| 6 anos | 1200 |  788 |\n| 7 anos | 1200 |  788 |\n| 8 anos | 1300 |  800 |\n| 9 anos | 1200 |  788 |\n| 10 anos | 1218 |  800 |\n| 11 anos | 1500 | 1000 |\n| 12 anos | 1800 | 1200 |\n| 13 anos | 2400 | 1300 |\n| 14 anos | 2500 | 1600 |\n| 15 anos ou mais | 4000 | 2800 |\n| Não determinados | 1200 |  788 |\n\n",
            "text/html": [
              "<table>\n",
              "<caption>A matrix: 17 × 2 of type dbl</caption>\n",
              "<thead>\n",
              "\t<tr><th></th><th scope=col>Masculino</th><th scope=col>Feminino</th></tr>\n",
              "</thead>\n",
              "<tbody>\n",
              "\t<tr><th scope=row>Sem instrução e menos de 1 ano</th><td> 700</td><td> 390</td></tr>\n",
              "\t<tr><th scope=row>1 ano</th><td> 788</td><td> 400</td></tr>\n",
              "\t<tr><th scope=row>2 anos</th><td> 788</td><td> 450</td></tr>\n",
              "\t<tr><th scope=row>3 anos</th><td> 800</td><td> 500</td></tr>\n",
              "\t<tr><th scope=row>4 anos</th><td>1000</td><td> 788</td></tr>\n",
              "\t<tr><th scope=row>5 anos</th><td>1045</td><td> 788</td></tr>\n",
              "\t<tr><th scope=row>6 anos</th><td>1200</td><td> 788</td></tr>\n",
              "\t<tr><th scope=row>7 anos</th><td>1200</td><td> 788</td></tr>\n",
              "\t<tr><th scope=row>8 anos</th><td>1300</td><td> 800</td></tr>\n",
              "\t<tr><th scope=row>9 anos</th><td>1200</td><td> 788</td></tr>\n",
              "\t<tr><th scope=row>10 anos</th><td>1218</td><td> 800</td></tr>\n",
              "\t<tr><th scope=row>11 anos</th><td>1500</td><td>1000</td></tr>\n",
              "\t<tr><th scope=row>12 anos</th><td>1800</td><td>1200</td></tr>\n",
              "\t<tr><th scope=row>13 anos</th><td>2400</td><td>1300</td></tr>\n",
              "\t<tr><th scope=row>14 anos</th><td>2500</td><td>1600</td></tr>\n",
              "\t<tr><th scope=row>15 anos ou mais</th><td>4000</td><td>2800</td></tr>\n",
              "\t<tr><th scope=row>Não determinados</th><td>1200</td><td> 788</td></tr>\n",
              "</tbody>\n",
              "</table>\n"
            ]
          },
          "metadata": {
            "tags": []
          }
        }
      ]
    },
    {
      "cell_type": "code",
      "metadata": {
        "id": "O94VkagU8lhD",
        "outputId": "9cfe02e9-a4cc-442f-ae04-a50c70efd402",
        "colab": {
          "base_uri": "https://localhost:8080/",
          "height": 414
        }
      },
      "source": [
        "maximo = tapply(dados$Renda, list(dados$Cat.Anos.de.Estudo, dados$Cat.Sexo), max)\n",
        "maximo"
      ],
      "execution_count": null,
      "outputs": [
        {
          "output_type": "display_data",
          "data": {
            "text/plain": [
              "                               Masculino Feminino\n",
              "Sem instrução e menos de 1 ano  30000     10000  \n",
              "1 ano                           30000      2000  \n",
              "2 anos                          40000      4000  \n",
              "3 anos                          80000      3500  \n",
              "4 anos                          50000     10000  \n",
              "5 anos                          35000      8000  \n",
              "6 anos                          25000      6000  \n",
              "7 anos                          40000      9000  \n",
              "8 anos                          30000     18000  \n",
              "9 anos                          60000     20000  \n",
              "10 anos                         45000      6000  \n",
              "11 anos                        200000    100000  \n",
              "12 anos                         30000    120000  \n",
              "13 anos                         25000     20000  \n",
              "14 anos                         50000     20000  \n",
              "15 anos ou mais                200000    100000  \n",
              "Não determinados                 7000      3000  "
            ],
            "text/latex": "A matrix: 17 × 2 of type int\n\\begin{tabular}{r|ll}\n  & Masculino & Feminino\\\\\n\\hline\n\tSem instrução e menos de 1 ano &  30000 &  10000\\\\\n\t1 ano &  30000 &   2000\\\\\n\t2 anos &  40000 &   4000\\\\\n\t3 anos &  80000 &   3500\\\\\n\t4 anos &  50000 &  10000\\\\\n\t5 anos &  35000 &   8000\\\\\n\t6 anos &  25000 &   6000\\\\\n\t7 anos &  40000 &   9000\\\\\n\t8 anos &  30000 &  18000\\\\\n\t9 anos &  60000 &  20000\\\\\n\t10 anos &  45000 &   6000\\\\\n\t11 anos & 200000 & 100000\\\\\n\t12 anos &  30000 & 120000\\\\\n\t13 anos &  25000 &  20000\\\\\n\t14 anos &  50000 &  20000\\\\\n\t15 anos ou mais & 200000 & 100000\\\\\n\tNão determinados &   7000 &   3000\\\\\n\\end{tabular}\n",
            "text/markdown": "\nA matrix: 17 × 2 of type int\n\n| <!--/--> | Masculino | Feminino |\n|---|---|---|\n| Sem instrução e menos de 1 ano |  30000 |  10000 |\n| 1 ano |  30000 |   2000 |\n| 2 anos |  40000 |   4000 |\n| 3 anos |  80000 |   3500 |\n| 4 anos |  50000 |  10000 |\n| 5 anos |  35000 |   8000 |\n| 6 anos |  25000 |   6000 |\n| 7 anos |  40000 |   9000 |\n| 8 anos |  30000 |  18000 |\n| 9 anos |  60000 |  20000 |\n| 10 anos |  45000 |   6000 |\n| 11 anos | 200000 | 100000 |\n| 12 anos |  30000 | 120000 |\n| 13 anos |  25000 |  20000 |\n| 14 anos |  50000 |  20000 |\n| 15 anos ou mais | 200000 | 100000 |\n| Não determinados |   7000 |   3000 |\n\n",
            "text/html": [
              "<table>\n",
              "<caption>A matrix: 17 × 2 of type int</caption>\n",
              "<thead>\n",
              "\t<tr><th></th><th scope=col>Masculino</th><th scope=col>Feminino</th></tr>\n",
              "</thead>\n",
              "<tbody>\n",
              "\t<tr><th scope=row>Sem instrução e menos de 1 ano</th><td> 30000</td><td> 10000</td></tr>\n",
              "\t<tr><th scope=row>1 ano</th><td> 30000</td><td>  2000</td></tr>\n",
              "\t<tr><th scope=row>2 anos</th><td> 40000</td><td>  4000</td></tr>\n",
              "\t<tr><th scope=row>3 anos</th><td> 80000</td><td>  3500</td></tr>\n",
              "\t<tr><th scope=row>4 anos</th><td> 50000</td><td> 10000</td></tr>\n",
              "\t<tr><th scope=row>5 anos</th><td> 35000</td><td>  8000</td></tr>\n",
              "\t<tr><th scope=row>6 anos</th><td> 25000</td><td>  6000</td></tr>\n",
              "\t<tr><th scope=row>7 anos</th><td> 40000</td><td>  9000</td></tr>\n",
              "\t<tr><th scope=row>8 anos</th><td> 30000</td><td> 18000</td></tr>\n",
              "\t<tr><th scope=row>9 anos</th><td> 60000</td><td> 20000</td></tr>\n",
              "\t<tr><th scope=row>10 anos</th><td> 45000</td><td>  6000</td></tr>\n",
              "\t<tr><th scope=row>11 anos</th><td>200000</td><td>100000</td></tr>\n",
              "\t<tr><th scope=row>12 anos</th><td> 30000</td><td>120000</td></tr>\n",
              "\t<tr><th scope=row>13 anos</th><td> 25000</td><td> 20000</td></tr>\n",
              "\t<tr><th scope=row>14 anos</th><td> 50000</td><td> 20000</td></tr>\n",
              "\t<tr><th scope=row>15 anos ou mais</th><td>200000</td><td>100000</td></tr>\n",
              "\t<tr><th scope=row>Não determinados</th><td>  7000</td><td>  3000</td></tr>\n",
              "</tbody>\n",
              "</table>\n"
            ]
          },
          "metadata": {
            "tags": []
          }
        }
      ]
    },
    {
      "cell_type": "code",
      "metadata": {
        "id": "Iklaqu1s8lhH",
        "outputId": "6c754fd5-34e9-4d8f-bb0c-68b2fd6ac0c3",
        "colab": {
          "base_uri": "https://localhost:8080/",
          "height": 414
        }
      },
      "source": [
        "desvio_padrao <- tapply(dados$Renda, list(dados$Cat.Anos.de.Estudo, dados$Cat.Sexo), sd)\n",
        "desvio_padrao"
      ],
      "execution_count": null,
      "outputs": [
        {
          "output_type": "display_data",
          "data": {
            "text/plain": [
              "                               Masculino Feminino \n",
              "Sem instrução e menos de 1 ano 1023.9049  639.3115\n",
              "1 ano                          1331.9506  425.2918\n",
              "2 anos                         1435.1738  498.2342\n",
              "3 anos                         2143.8001  424.1244\n",
              "4 anos                         1419.8218  629.5534\n",
              "5 anos                         1484.6506  635.7826\n",
              "6 anos                         1476.6286  574.5470\n",
              "7 anos                         1419.7087  602.0380\n",
              "8 anos                         1515.5837  896.7812\n",
              "9 anos                         2137.6648  973.2217\n",
              "10 anos                        2078.6097  620.6119\n",
              "11 anos                        2676.5389 1819.0404\n",
              "12 anos                        2268.0815 4851.8335\n",
              "13 anos                        2797.1168 2053.7898\n",
              "14 anos                        3987.2150 2064.0833\n",
              "15 anos ou mais                7447.6136 4212.7707\n",
              "Não determinados                979.6487  459.9860"
            ],
            "text/latex": "A matrix: 17 × 2 of type dbl\n\\begin{tabular}{r|ll}\n  & Masculino & Feminino\\\\\n\\hline\n\tSem instrução e menos de 1 ano & 1023.9049 &  639.3115\\\\\n\t1 ano & 1331.9506 &  425.2918\\\\\n\t2 anos & 1435.1738 &  498.2342\\\\\n\t3 anos & 2143.8001 &  424.1244\\\\\n\t4 anos & 1419.8218 &  629.5534\\\\\n\t5 anos & 1484.6506 &  635.7826\\\\\n\t6 anos & 1476.6286 &  574.5470\\\\\n\t7 anos & 1419.7087 &  602.0380\\\\\n\t8 anos & 1515.5837 &  896.7812\\\\\n\t9 anos & 2137.6648 &  973.2217\\\\\n\t10 anos & 2078.6097 &  620.6119\\\\\n\t11 anos & 2676.5389 & 1819.0404\\\\\n\t12 anos & 2268.0815 & 4851.8335\\\\\n\t13 anos & 2797.1168 & 2053.7898\\\\\n\t14 anos & 3987.2150 & 2064.0833\\\\\n\t15 anos ou mais & 7447.6136 & 4212.7707\\\\\n\tNão determinados &  979.6487 &  459.9860\\\\\n\\end{tabular}\n",
            "text/markdown": "\nA matrix: 17 × 2 of type dbl\n\n| <!--/--> | Masculino | Feminino |\n|---|---|---|\n| Sem instrução e menos de 1 ano | 1023.9049 |  639.3115 |\n| 1 ano | 1331.9506 |  425.2918 |\n| 2 anos | 1435.1738 |  498.2342 |\n| 3 anos | 2143.8001 |  424.1244 |\n| 4 anos | 1419.8218 |  629.5534 |\n| 5 anos | 1484.6506 |  635.7826 |\n| 6 anos | 1476.6286 |  574.5470 |\n| 7 anos | 1419.7087 |  602.0380 |\n| 8 anos | 1515.5837 |  896.7812 |\n| 9 anos | 2137.6648 |  973.2217 |\n| 10 anos | 2078.6097 |  620.6119 |\n| 11 anos | 2676.5389 | 1819.0404 |\n| 12 anos | 2268.0815 | 4851.8335 |\n| 13 anos | 2797.1168 | 2053.7898 |\n| 14 anos | 3987.2150 | 2064.0833 |\n| 15 anos ou mais | 7447.6136 | 4212.7707 |\n| Não determinados |  979.6487 |  459.9860 |\n\n",
            "text/html": [
              "<table>\n",
              "<caption>A matrix: 17 × 2 of type dbl</caption>\n",
              "<thead>\n",
              "\t<tr><th></th><th scope=col>Masculino</th><th scope=col>Feminino</th></tr>\n",
              "</thead>\n",
              "<tbody>\n",
              "\t<tr><th scope=row>Sem instrução e menos de 1 ano</th><td>1023.9049</td><td> 639.3115</td></tr>\n",
              "\t<tr><th scope=row>1 ano</th><td>1331.9506</td><td> 425.2918</td></tr>\n",
              "\t<tr><th scope=row>2 anos</th><td>1435.1738</td><td> 498.2342</td></tr>\n",
              "\t<tr><th scope=row>3 anos</th><td>2143.8001</td><td> 424.1244</td></tr>\n",
              "\t<tr><th scope=row>4 anos</th><td>1419.8218</td><td> 629.5534</td></tr>\n",
              "\t<tr><th scope=row>5 anos</th><td>1484.6506</td><td> 635.7826</td></tr>\n",
              "\t<tr><th scope=row>6 anos</th><td>1476.6286</td><td> 574.5470</td></tr>\n",
              "\t<tr><th scope=row>7 anos</th><td>1419.7087</td><td> 602.0380</td></tr>\n",
              "\t<tr><th scope=row>8 anos</th><td>1515.5837</td><td> 896.7812</td></tr>\n",
              "\t<tr><th scope=row>9 anos</th><td>2137.6648</td><td> 973.2217</td></tr>\n",
              "\t<tr><th scope=row>10 anos</th><td>2078.6097</td><td> 620.6119</td></tr>\n",
              "\t<tr><th scope=row>11 anos</th><td>2676.5389</td><td>1819.0404</td></tr>\n",
              "\t<tr><th scope=row>12 anos</th><td>2268.0815</td><td>4851.8335</td></tr>\n",
              "\t<tr><th scope=row>13 anos</th><td>2797.1168</td><td>2053.7898</td></tr>\n",
              "\t<tr><th scope=row>14 anos</th><td>3987.2150</td><td>2064.0833</td></tr>\n",
              "\t<tr><th scope=row>15 anos ou mais</th><td>7447.6136</td><td>4212.7707</td></tr>\n",
              "\t<tr><th scope=row>Não determinados</th><td> 979.6487</td><td> 459.9860</td></tr>\n",
              "</tbody>\n",
              "</table>\n"
            ]
          },
          "metadata": {
            "tags": []
          }
        }
      ]
    },
    {
      "cell_type": "markdown",
      "metadata": {
        "id": "1Rm1n7a_Tg2u"
      },
      "source": [
        "### Construa um box plot da variável RENDA segundo ANOS DE ESTUDO e SEXO\n",
        "#### <font color='blue'>É possível verificar algum comportamento diferenciado no rendimento entre os grupos de pessoas analisados? Avalie o gráfico e destaque os pontos mais importantes.</font>\n",
        "#### <font color='red'>1º - Utilize somente as informações de pessoas com renda abaixo de R$ 10.000</font>\n",
        "#### <font color='red'>2º - Para incluir uma terceira variável na construção de um boxplot utilize o parâmetro *fill* da seguinte maneira: *aes(x = Anos.de.Estudo, y = Renda, fill = Sexo)*.</font>"
      ]
    },
    {
      "cell_type": "code",
      "metadata": {
        "id": "cnx5qScU8lhM",
        "outputId": "65889fdb-9f00-4267-b565-7db3bc6fe32b",
        "colab": {
          "base_uri": "https://localhost:8080/",
          "height": 377
        }
      },
      "source": [
        "ggplot(data = dados[dados$Renda < 10000, ], aes(x = Cat.Anos.de.Estudo, y = Renda, fill = Cat.Sexo)) +\n",
        "  geom_boxplot(size = 0.2) +\n",
        "  coord_flip() +\n",
        "  ylab(\"Renda\") +\n",
        "  xlab(\"Anos de Estudo\") +\n",
        "  ggtitle('Box-plot da Renda por Sexo e Anos de Estudo') +\n",
        "  formatos"
      ],
      "execution_count": null,
      "outputs": [
        {
          "output_type": "display_data",
          "data": {
            "image/png": "[encoded data removed]",
            "text/plain": [
              "plot without title"
            ]
          },
          "metadata": {
            "tags": [],
            "image/png": {
              "width": 540,
              "height": 360
            }
          }
        }
      ]
    },
    {
      "cell_type": "markdown",
      "metadata": {
        "id": "LrEECOmNTg2w"
      },
      "source": [
        "> ### Conclusões\n",
        "\n",
        "A renda aumenta com o número de anos de estudo, porém parece sempre ser maior para os homens entre homens e mulheres com a mesma quantidade de anos de estudo."
      ]
    }
  ]
}