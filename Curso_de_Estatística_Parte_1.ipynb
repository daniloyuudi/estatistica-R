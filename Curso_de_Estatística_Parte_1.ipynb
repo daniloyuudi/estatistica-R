{
  "nbformat": 4,
  "nbformat_minor": 0,
  "metadata": {
    "colab": {
      "name": "Curso_de_Estatística_Parte_1.ipynb",
      "provenance": [],
      "collapsed_sections": [
        "oB4TCBFojQKt",
        "7mMXLTukjQK-",
        "d_LW5gMIjQK_",
        "SsN3ikjqjQLB",
        "D82ocp_djQLR",
        "kuRb2eZZ9_Y4",
        "Ha3OUYU39_Zj",
        "v-cBbLTG9_bM",
        "hQHyjfLkjQMe",
        "SUqtT9Hn9_cl",
        "tHD3yNqzjQNW",
        "WrCn9hw0jQNX",
        "jV5mQT_djQNX",
        "X9w1Iqt3jQNg",
        "D3J4MvMpjQNg"
      ],
      "toc_visible": true
    },
    "kernelspec": {
      "display_name": "R",
      "language": "R",
      "name": "ir"
    },
    "language_info": {
      "codemirror_mode": "r",
      "file_extension": ".r",
      "mimetype": "text/x-r-source",
      "name": "R",
      "pygments_lexer": "r",
      "version": "3.6.1"
    }
  },
  "cells": [
    {
      "cell_type": "markdown",
      "metadata": {
        "id": "WvMflodMjQKe"
      },
      "source": [
        "***\n",
        "# <font color=green size=10>CURSO DE ESTATÍSTICA - PARTE 1</font>\n",
        "***"
      ]
    },
    {
      "cell_type": "markdown",
      "metadata": {
        "id": "cVgsZ_E3jQKg"
      },
      "source": [
        "# <font color=green>1 CONHECENDO OS DADOS</font>\n",
        "***"
      ]
    },
    {
      "cell_type": "markdown",
      "metadata": {
        "id": "TDjqYYNojQKh"
      },
      "source": [
        "## <font color=green>1.1 Dataset do projeto</font>\n",
        "***"
      ]
    },
    {
      "cell_type": "markdown",
      "metadata": {
        "id": "iN1gIbaKjQKh"
      },
      "source": [
        "### Pesquisa Nacional por Amostra de Domicílios - 2015\n",
        "\n",
        "A <b>Pesquisa Nacional por Amostra de Domicílios - PNAD</b> investiga anualmente, de forma permanente, características gerais da população, de educação, trabalho, rendimento e habitação e outras, com periodicidade variável, de acordo com as necessidades de informação para o país, como as características sobre migração, fecundidade, nupcialidade, saúde, segurança alimentar, entre outros temas. O levantamento dessas estatísticas constitui, ao longo dos 49 anos de realização da pesquisa, um importante instrumento para formulação, validação e avaliação de políticas orientadas para o desenvolvimento socioeconômico e a melhoria das condições de vida no Brasil."
      ]
    },
    {
      "cell_type": "markdown",
      "metadata": {
        "id": "U6V7br1RjQKi"
      },
      "source": [
        "### Fonte dos Dados\n",
        "\n",
        "https://ww2.ibge.gov.br/home/estatistica/populacao/trabalhoerendimento/pnad2015/microdados.shtm"
      ]
    },
    {
      "cell_type": "markdown",
      "metadata": {
        "id": "r0Fe_qnzjQKj"
      },
      "source": [
        "### Variáveis utilizadas\n",
        "\n",
        "> ### Renda\n",
        "> ***\n",
        "\n",
        "Rendimento mensal do trabalho principal para pessoas de 10 anos ou mais de idade.\n",
        "\n",
        "> ### Idade\n",
        "> ***\n",
        "\n",
        "Idade do morador na data de referência em anos.\n",
        "\n",
        "> ### Altura (elaboração própria)\n",
        "> ***\n",
        "\n",
        "Altura do morador em metros.\n",
        "\n",
        "> ### UF\n",
        "> ***\n",
        "\n",
        "|Código|Descrição|\n",
        "|---|---|\n",
        "|11|Rondônia|\n",
        "|12|Acre|\n",
        "|13|Amazonas|\n",
        "|14|Roraima|\n",
        "|15|Pará|\n",
        "|16|Amapá|\n",
        "|17|Tocantins|\n",
        "|21|Maranhão|\n",
        "|22|Piauí|\n",
        "|23|Ceará|\n",
        "|24|Rio Grande do Norte|\n",
        "|25|Paraíba|\n",
        "|26|Pernambuco|\n",
        "|27|Alagoas|\n",
        "|28|Sergipe|\n",
        "|29|Bahia|\n",
        "|31|Minas Gerais|\n",
        "|32|Espírito Santo|\n",
        "|33|Rio de Janeiro|\n",
        "|35|São Paulo|\n",
        "|41|Paraná|\n",
        "|42|Santa Catarina|\n",
        "|43|Rio Grande do Sul|\n",
        "|50|Mato Grosso do Sul|\n",
        "|51|Mato Grosso|\n",
        "|52|Goiás|\n",
        "|53|Distrito Federal|\n",
        "\n",
        "> ### Sexo\t\n",
        "> ***\n",
        "\n",
        "|Código|Descrição|\n",
        "|---|---|\n",
        "|0|Masculino|\n",
        "|1|Feminino|\n",
        "\n",
        "> ### Anos de Estudo\n",
        "> ***\n",
        "\n",
        "|Código|Descrição|\n",
        "|---|---|\n",
        "|1|Sem instrução e menos de 1 ano|\n",
        "|2|1 ano|\n",
        "|3|2 anos|\n",
        "|4|3 anos|\n",
        "|5|4 anos|\n",
        "|6|5 anos|\n",
        "|7|6 anos|\n",
        "|8|7 anos|\n",
        "|9|8 anos|\n",
        "|10|9 anos|\n",
        "|11|10 anos|\n",
        "|12|11 anos|\n",
        "|13|12 anos|\n",
        "|14|13 anos|\n",
        "|15|14 anos|\n",
        "|16|15 anos ou mais|\n",
        "|17|Não determinados| \n",
        "||Não aplicável|\n",
        "\n",
        "> ### Cor\n",
        "> ***\n",
        "\n",
        "|Código|Descrição|\n",
        "|---|---|\n",
        "|0|Indígena|\n",
        "|2|Branca|\n",
        "|4|Preta|\n",
        "|6|Amarela|\n",
        "|8|Parda|\n",
        "|9|Sem declaração|"
      ]
    },
    {
      "cell_type": "markdown",
      "metadata": {
        "id": "OK1IQH5cX7Gb"
      },
      "source": [
        "#### <font color='red'>Observação</font>\n",
        "***\n",
        "> Os seguintes tratamentos foram realizados nos dados originais:\n",
        "> 1. Foram eliminados os registros onde a <b>Renda</b> era inválida (999 999 999 999);\n",
        "> 2. Foram eliminados os registros onde a <b>Renda</b> era missing;\n",
        "> 3. Foram considerados somente os registros das <b>Pessoas de Referência</b> de cada domicílio (responsável pelo domicílio)."
      ]
    },
    {
      "cell_type": "markdown",
      "metadata": {
        "id": "dUKDagyz9_Wi"
      },
      "source": [
        "### R (informações básicas)"
      ]
    },
    {
      "cell_type": "code",
      "metadata": {
        "id": "GVOKODlj9_Wk",
        "outputId": "b80f2d05-2df9-401f-d239-b9b9efc95883",
        "colab": {
          "base_uri": "https://localhost:8080/",
          "height": 561
        }
      },
      "source": [
        "sessionInfo()"
      ],
      "execution_count": null,
      "outputs": [
        {
          "output_type": "display_data",
          "data": {
            "text/plain": [
              "R version 4.0.3 (2020-10-10)\n",
              "Platform: x86_64-pc-linux-gnu (64-bit)\n",
              "Running under: Ubuntu 18.04.5 LTS\n",
              "\n",
              "Matrix products: default\n",
              "BLAS:   /usr/lib/x86_64-linux-gnu/openblas/libblas.so.3\n",
              "LAPACK: /usr/lib/x86_64-linux-gnu/libopenblasp-r0.2.20.so\n",
              "\n",
              "locale:\n",
              " [1] LC_CTYPE=en_US.UTF-8       LC_NUMERIC=C              \n",
              " [3] LC_TIME=en_US.UTF-8        LC_COLLATE=en_US.UTF-8    \n",
              " [5] LC_MONETARY=en_US.UTF-8    LC_MESSAGES=en_US.UTF-8   \n",
              " [7] LC_PAPER=en_US.UTF-8       LC_NAME=C                 \n",
              " [9] LC_ADDRESS=C               LC_TELEPHONE=C            \n",
              "[11] LC_MEASUREMENT=en_US.UTF-8 LC_IDENTIFICATION=C       \n",
              "\n",
              "attached base packages:\n",
              "[1] stats     graphics  grDevices utils     datasets  methods   base     \n",
              "\n",
              "other attached packages:\n",
              "[1] ggplot2_3.3.2 glue_1.4.2    dplyr_1.0.2  \n",
              "\n",
              "loaded via a namespace (and not attached):\n",
              " [1] magrittr_1.5     munsell_0.5.0    tidyselect_1.1.0 uuid_0.1-4      \n",
              " [5] colorspace_1.4-1 R6_2.5.0         rlang_0.4.8      tools_4.0.3     \n",
              " [9] grid_4.0.3       gtable_0.3.0     withr_2.3.0      htmltools_0.5.0 \n",
              "[13] ellipsis_0.3.1   digest_0.6.27    tibble_3.0.4     lifecycle_0.2.0 \n",
              "[17] crayon_1.3.4     IRdisplay_0.7.0  farver_2.0.3     purrr_0.3.4     \n",
              "[21] repr_1.1.0       base64enc_0.1-3  vctrs_0.3.4      IRkernel_1.1.1  \n",
              "[25] evaluate_0.14    labeling_0.4.2   pbdZMQ_0.3-3.1   compiler_4.0.3  \n",
              "[29] pillar_1.4.6     scales_1.1.1     generics_0.1.0   jsonlite_1.7.1  \n",
              "[33] pkgconfig_2.0.3 "
            ]
          },
          "metadata": {
            "tags": []
          }
        }
      ]
    },
    {
      "cell_type": "markdown",
      "metadata": {
        "id": "8DSyHvA_9_Ws"
      },
      "source": [
        "### Importando bibliotecas \n",
        "#### A bilioteca dplyr\n",
        "https://www.rdocumentation.org/packages/dplyr"
      ]
    },
    {
      "cell_type": "code",
      "metadata": {
        "scrolled": false,
        "id": "6JKLDxyy9_Wt"
      },
      "source": [
        "library(dplyr)"
      ],
      "execution_count": null,
      "outputs": []
    },
    {
      "cell_type": "markdown",
      "metadata": {
        "id": "jWpyJva09_Wy"
      },
      "source": [
        "### <font color=red>Documentações:\n",
        "\n",
        "- [**select**](https://www.rdocumentation.org/packages/dplyr/versions/0.7.8/topics/select)\n",
        "- [**arrange**](https://www.rdocumentation.org/packages/dplyr/versions/0.7.8/topics/arrange)\n",
        "- [**read.csv**](https://www.rdocumentation.org/packages/utils/versions/3.6.1/topics/read.table)\n",
        "- [**head**](https://www.rdocumentation.org/packages/utils/versions/3.6.1/topics/head)"
      ]
    },
    {
      "cell_type": "markdown",
      "metadata": {
        "id": "8jm2ZlsQ9_W0"
      },
      "source": [
        "### Acessando a ajuda"
      ]
    },
    {
      "cell_type": "code",
      "metadata": {
        "id": "ESffUWUF9_W2"
      },
      "source": [
        "?select"
      ],
      "execution_count": null,
      "outputs": []
    },
    {
      "cell_type": "code",
      "metadata": {
        "id": "LENE_-7k9_W-"
      },
      "source": [
        "?arrange"
      ],
      "execution_count": null,
      "outputs": []
    },
    {
      "cell_type": "markdown",
      "metadata": {
        "id": "8Rw70V6ojQKk"
      },
      "source": [
        "---\n",
        "### Importando o dataset do projeto"
      ]
    },
    {
      "cell_type": "code",
      "metadata": {
        "id": "8QgOpE-wjQKl"
      },
      "source": [
        "dados <- read.csv('dados.csv')"
      ],
      "execution_count": null,
      "outputs": []
    },
    {
      "cell_type": "code",
      "metadata": {
        "id": "ufRZ7TLwjQKo",
        "scrolled": true,
        "outputId": "3cd76879-0e36-431c-bd3b-29947c2b5993",
        "colab": {
          "base_uri": "https://localhost:8080/",
          "height": 1000
        }
      },
      "source": [
        "dados"
      ],
      "execution_count": null,
      "outputs": [
        {
          "output_type": "display_data",
          "data": {
            "text/plain": [
              "      UF Sexo Idade Cor Anos.de.Estudo Renda Altura  \n",
              "1     11 0    23    8   12              800  1.603808\n",
              "2     11 1    23    2   12             1150  1.739790\n",
              "3     11 1    35    8   15              880  1.760444\n",
              "4     11 0    46    2    6             3500  1.783158\n",
              "5     11 1    47    8    9              150  1.690631\n",
              "6     11 1    34    8   12              790  1.637906\n",
              "7     11 0    57    8   12             3150  1.570078\n",
              "8     11 1    60    8   12             1700  1.608495\n",
              "9     11 1    50    4   14             1800  1.780329\n",
              "10    11 0    26    8   12             1150  1.793203\n",
              "11    11 1    46    8   12             3000  1.787003\n",
              "12    11 1    49    8    6             2500  1.712912\n",
              "13    11 1    52    2    6             1200  1.736442\n",
              "14    11 0    38    8   12             2000  1.750827\n",
              "15    11 0    45    2   12             2000  1.780450\n",
              "16    11 0    34    2   16             6000  1.711825\n",
              "17    11 1    43    8   10             1050  1.789012\n",
              "18    11 0    53    8   16             7000  1.673665\n",
              "19    11 0    57    2   12             2000  1.715138\n",
              "20    11 1    62    8   12             1150  1.765973\n",
              "21    11 0    69    8    1             3030  1.746351\n",
              "22    11 1    41    8   16             4000  1.660873\n",
              "23    11 0    34    8    5              788  1.746048\n",
              "24    11 0    25    8   12             1000  1.726496\n",
              "25    11 0    33    8    9              800  1.778914\n",
              "26    11 1    44    8    5              788  1.668638\n",
              "27    11 0    33    2   16             1600  1.783771\n",
              "28    11 0    65    2   12             1700  1.873445\n",
              "29    11 0    33    8   14             2000  1.890250\n",
              "30    11 0    32    8   12             2400  1.660204\n",
              "⋮     ⋮  ⋮    ⋮     ⋮   ⋮              ⋮     ⋮       \n",
              "76811 53 0    34    4   12              2500 1.802241\n",
              "76812 53 1    57    2   11              1000 1.823047\n",
              "76813 53 1    32    4   12               788 1.681405\n",
              "76814 53 0    35    4    9              2100 1.671112\n",
              "76815 53 1    49    8   12              5260 1.799319\n",
              "76816 53 0    51    8    1              5000 1.599400\n",
              "76817 53 0    37    8   12               950 1.620497\n",
              "76818 53 0    47    8   12              1109 1.920274\n",
              "76819 53 0    27    8   10               850 1.793074\n",
              "76820 53 1    49    8    9               788 1.695710\n",
              "76821 53 1    27    8   12               866 1.729035\n",
              "76822 53 0    20    2    8              1300 1.660409\n",
              "76823 53 0    49    8   12              8700 1.775182\n",
              "76824 53 0    43    8   10              5000 1.584493\n",
              "76825 53 0    64    2   12              5000 1.717452\n",
              "76826 53 0    55    2   16             13000 1.729995\n",
              "76827 53 0    39    2   12              6000 1.739046\n",
              "76828 53 1    41    2   16             10000 1.696208\n",
              "76829 53 0    62    2   16             10000 1.817097\n",
              "76830 53 0    42    8   12             32000 1.788923\n",
              "76831 53 0    62    2   16              3500 1.725379\n",
              "76832 53 1    44    2   16             30000 1.783962\n",
              "76833 53 1    49    2   12              5000 1.757146\n",
              "76834 53 0    30    4    6              1900 1.662560\n",
              "76835 53 1    35    4    1              1100 1.741089\n",
              "76836 53 1    46    2   11               812 1.687030\n",
              "76837 53 0    30    4    7              1500 1.792934\n",
              "76838 53 0    32    8   12              1300 1.830587\n",
              "76839 53 0    57    8    4              1500 1.726344\n",
              "76840 53 0    38    8    4               900 1.658305"
            ],
            "text/latex": "A data.frame: 76840 × 7\n\\begin{tabular}{lllllll}\n UF & Sexo & Idade & Cor & Anos.de.Estudo & Renda & Altura\\\\\n <int> & <int> & <int> & <int> & <int> & <int> & <dbl>\\\\\n\\hline\n\t 11 & 0 & 23 & 8 & 12 &  800 & 1.603808\\\\\n\t 11 & 1 & 23 & 2 & 12 & 1150 & 1.739790\\\\\n\t 11 & 1 & 35 & 8 & 15 &  880 & 1.760444\\\\\n\t 11 & 0 & 46 & 2 &  6 & 3500 & 1.783158\\\\\n\t 11 & 1 & 47 & 8 &  9 &  150 & 1.690631\\\\\n\t 11 & 1 & 34 & 8 & 12 &  790 & 1.637906\\\\\n\t 11 & 0 & 57 & 8 & 12 & 3150 & 1.570078\\\\\n\t 11 & 1 & 60 & 8 & 12 & 1700 & 1.608495\\\\\n\t 11 & 1 & 50 & 4 & 14 & 1800 & 1.780329\\\\\n\t 11 & 0 & 26 & 8 & 12 & 1150 & 1.793203\\\\\n\t 11 & 1 & 46 & 8 & 12 & 3000 & 1.787003\\\\\n\t 11 & 1 & 49 & 8 &  6 & 2500 & 1.712912\\\\\n\t 11 & 1 & 52 & 2 &  6 & 1200 & 1.736442\\\\\n\t 11 & 0 & 38 & 8 & 12 & 2000 & 1.750827\\\\\n\t 11 & 0 & 45 & 2 & 12 & 2000 & 1.780450\\\\\n\t 11 & 0 & 34 & 2 & 16 & 6000 & 1.711825\\\\\n\t 11 & 1 & 43 & 8 & 10 & 1050 & 1.789012\\\\\n\t 11 & 0 & 53 & 8 & 16 & 7000 & 1.673665\\\\\n\t 11 & 0 & 57 & 2 & 12 & 2000 & 1.715138\\\\\n\t 11 & 1 & 62 & 8 & 12 & 1150 & 1.765973\\\\\n\t 11 & 0 & 69 & 8 &  1 & 3030 & 1.746351\\\\\n\t 11 & 1 & 41 & 8 & 16 & 4000 & 1.660873\\\\\n\t 11 & 0 & 34 & 8 &  5 &  788 & 1.746048\\\\\n\t 11 & 0 & 25 & 8 & 12 & 1000 & 1.726496\\\\\n\t 11 & 0 & 33 & 8 &  9 &  800 & 1.778914\\\\\n\t 11 & 1 & 44 & 8 &  5 &  788 & 1.668638\\\\\n\t 11 & 0 & 33 & 2 & 16 & 1600 & 1.783771\\\\\n\t 11 & 0 & 65 & 2 & 12 & 1700 & 1.873445\\\\\n\t 11 & 0 & 33 & 8 & 14 & 2000 & 1.890250\\\\\n\t 11 & 0 & 32 & 8 & 12 & 2400 & 1.660204\\\\\n\t ⋮ & ⋮ & ⋮ & ⋮ & ⋮ & ⋮ & ⋮\\\\\n\t 53 & 0 & 34 & 4 & 12 &  2500 & 1.802241\\\\\n\t 53 & 1 & 57 & 2 & 11 &  1000 & 1.823047\\\\\n\t 53 & 1 & 32 & 4 & 12 &   788 & 1.681405\\\\\n\t 53 & 0 & 35 & 4 &  9 &  2100 & 1.671112\\\\\n\t 53 & 1 & 49 & 8 & 12 &  5260 & 1.799319\\\\\n\t 53 & 0 & 51 & 8 &  1 &  5000 & 1.599400\\\\\n\t 53 & 0 & 37 & 8 & 12 &   950 & 1.620497\\\\\n\t 53 & 0 & 47 & 8 & 12 &  1109 & 1.920274\\\\\n\t 53 & 0 & 27 & 8 & 10 &   850 & 1.793074\\\\\n\t 53 & 1 & 49 & 8 &  9 &   788 & 1.695710\\\\\n\t 53 & 1 & 27 & 8 & 12 &   866 & 1.729035\\\\\n\t 53 & 0 & 20 & 2 &  8 &  1300 & 1.660409\\\\\n\t 53 & 0 & 49 & 8 & 12 &  8700 & 1.775182\\\\\n\t 53 & 0 & 43 & 8 & 10 &  5000 & 1.584493\\\\\n\t 53 & 0 & 64 & 2 & 12 &  5000 & 1.717452\\\\\n\t 53 & 0 & 55 & 2 & 16 & 13000 & 1.729995\\\\\n\t 53 & 0 & 39 & 2 & 12 &  6000 & 1.739046\\\\\n\t 53 & 1 & 41 & 2 & 16 & 10000 & 1.696208\\\\\n\t 53 & 0 & 62 & 2 & 16 & 10000 & 1.817097\\\\\n\t 53 & 0 & 42 & 8 & 12 & 32000 & 1.788923\\\\\n\t 53 & 0 & 62 & 2 & 16 &  3500 & 1.725379\\\\\n\t 53 & 1 & 44 & 2 & 16 & 30000 & 1.783962\\\\\n\t 53 & 1 & 49 & 2 & 12 &  5000 & 1.757146\\\\\n\t 53 & 0 & 30 & 4 &  6 &  1900 & 1.662560\\\\\n\t 53 & 1 & 35 & 4 &  1 &  1100 & 1.741089\\\\\n\t 53 & 1 & 46 & 2 & 11 &   812 & 1.687030\\\\\n\t 53 & 0 & 30 & 4 &  7 &  1500 & 1.792934\\\\\n\t 53 & 0 & 32 & 8 & 12 &  1300 & 1.830587\\\\\n\t 53 & 0 & 57 & 8 &  4 &  1500 & 1.726344\\\\\n\t 53 & 0 & 38 & 8 &  4 &   900 & 1.658305\\\\\n\\end{tabular}\n",
            "text/markdown": "\nA data.frame: 76840 × 7\n\n| UF &lt;int&gt; | Sexo &lt;int&gt; | Idade &lt;int&gt; | Cor &lt;int&gt; | Anos.de.Estudo &lt;int&gt; | Renda &lt;int&gt; | Altura &lt;dbl&gt; |\n|---|---|---|---|---|---|---|\n| 11 | 0 | 23 | 8 | 12 |  800 | 1.603808 |\n| 11 | 1 | 23 | 2 | 12 | 1150 | 1.739790 |\n| 11 | 1 | 35 | 8 | 15 |  880 | 1.760444 |\n| 11 | 0 | 46 | 2 |  6 | 3500 | 1.783158 |\n| 11 | 1 | 47 | 8 |  9 |  150 | 1.690631 |\n| 11 | 1 | 34 | 8 | 12 |  790 | 1.637906 |\n| 11 | 0 | 57 | 8 | 12 | 3150 | 1.570078 |\n| 11 | 1 | 60 | 8 | 12 | 1700 | 1.608495 |\n| 11 | 1 | 50 | 4 | 14 | 1800 | 1.780329 |\n| 11 | 0 | 26 | 8 | 12 | 1150 | 1.793203 |\n| 11 | 1 | 46 | 8 | 12 | 3000 | 1.787003 |\n| 11 | 1 | 49 | 8 |  6 | 2500 | 1.712912 |\n| 11 | 1 | 52 | 2 |  6 | 1200 | 1.736442 |\n| 11 | 0 | 38 | 8 | 12 | 2000 | 1.750827 |\n| 11 | 0 | 45 | 2 | 12 | 2000 | 1.780450 |\n| 11 | 0 | 34 | 2 | 16 | 6000 | 1.711825 |\n| 11 | 1 | 43 | 8 | 10 | 1050 | 1.789012 |\n| 11 | 0 | 53 | 8 | 16 | 7000 | 1.673665 |\n| 11 | 0 | 57 | 2 | 12 | 2000 | 1.715138 |\n| 11 | 1 | 62 | 8 | 12 | 1150 | 1.765973 |\n| 11 | 0 | 69 | 8 |  1 | 3030 | 1.746351 |\n| 11 | 1 | 41 | 8 | 16 | 4000 | 1.660873 |\n| 11 | 0 | 34 | 8 |  5 |  788 | 1.746048 |\n| 11 | 0 | 25 | 8 | 12 | 1000 | 1.726496 |\n| 11 | 0 | 33 | 8 |  9 |  800 | 1.778914 |\n| 11 | 1 | 44 | 8 |  5 |  788 | 1.668638 |\n| 11 | 0 | 33 | 2 | 16 | 1600 | 1.783771 |\n| 11 | 0 | 65 | 2 | 12 | 1700 | 1.873445 |\n| 11 | 0 | 33 | 8 | 14 | 2000 | 1.890250 |\n| 11 | 0 | 32 | 8 | 12 | 2400 | 1.660204 |\n| ⋮ | ⋮ | ⋮ | ⋮ | ⋮ | ⋮ | ⋮ |\n| 53 | 0 | 34 | 4 | 12 |  2500 | 1.802241 |\n| 53 | 1 | 57 | 2 | 11 |  1000 | 1.823047 |\n| 53 | 1 | 32 | 4 | 12 |   788 | 1.681405 |\n| 53 | 0 | 35 | 4 |  9 |  2100 | 1.671112 |\n| 53 | 1 | 49 | 8 | 12 |  5260 | 1.799319 |\n| 53 | 0 | 51 | 8 |  1 |  5000 | 1.599400 |\n| 53 | 0 | 37 | 8 | 12 |   950 | 1.620497 |\n| 53 | 0 | 47 | 8 | 12 |  1109 | 1.920274 |\n| 53 | 0 | 27 | 8 | 10 |   850 | 1.793074 |\n| 53 | 1 | 49 | 8 |  9 |   788 | 1.695710 |\n| 53 | 1 | 27 | 8 | 12 |   866 | 1.729035 |\n| 53 | 0 | 20 | 2 |  8 |  1300 | 1.660409 |\n| 53 | 0 | 49 | 8 | 12 |  8700 | 1.775182 |\n| 53 | 0 | 43 | 8 | 10 |  5000 | 1.584493 |\n| 53 | 0 | 64 | 2 | 12 |  5000 | 1.717452 |\n| 53 | 0 | 55 | 2 | 16 | 13000 | 1.729995 |\n| 53 | 0 | 39 | 2 | 12 |  6000 | 1.739046 |\n| 53 | 1 | 41 | 2 | 16 | 10000 | 1.696208 |\n| 53 | 0 | 62 | 2 | 16 | 10000 | 1.817097 |\n| 53 | 0 | 42 | 8 | 12 | 32000 | 1.788923 |\n| 53 | 0 | 62 | 2 | 16 |  3500 | 1.725379 |\n| 53 | 1 | 44 | 2 | 16 | 30000 | 1.783962 |\n| 53 | 1 | 49 | 2 | 12 |  5000 | 1.757146 |\n| 53 | 0 | 30 | 4 |  6 |  1900 | 1.662560 |\n| 53 | 1 | 35 | 4 |  1 |  1100 | 1.741089 |\n| 53 | 1 | 46 | 2 | 11 |   812 | 1.687030 |\n| 53 | 0 | 30 | 4 |  7 |  1500 | 1.792934 |\n| 53 | 0 | 32 | 8 | 12 |  1300 | 1.830587 |\n| 53 | 0 | 57 | 8 |  4 |  1500 | 1.726344 |\n| 53 | 0 | 38 | 8 |  4 |   900 | 1.658305 |\n\n",
            "text/html": [
              "<table>\n",
              "<caption>A data.frame: 76840 × 7</caption>\n",
              "<thead>\n",
              "\t<tr><th scope=col>UF</th><th scope=col>Sexo</th><th scope=col>Idade</th><th scope=col>Cor</th><th scope=col>Anos.de.Estudo</th><th scope=col>Renda</th><th scope=col>Altura</th></tr>\n",
              "\t<tr><th scope=col>&lt;int&gt;</th><th scope=col>&lt;int&gt;</th><th scope=col>&lt;int&gt;</th><th scope=col>&lt;int&gt;</th><th scope=col>&lt;int&gt;</th><th scope=col>&lt;int&gt;</th><th scope=col>&lt;dbl&gt;</th></tr>\n",
              "</thead>\n",
              "<tbody>\n",
              "\t<tr><td>11</td><td>0</td><td>23</td><td>8</td><td>12</td><td> 800</td><td>1.603808</td></tr>\n",
              "\t<tr><td>11</td><td>1</td><td>23</td><td>2</td><td>12</td><td>1150</td><td>1.739790</td></tr>\n",
              "\t<tr><td>11</td><td>1</td><td>35</td><td>8</td><td>15</td><td> 880</td><td>1.760444</td></tr>\n",
              "\t<tr><td>11</td><td>0</td><td>46</td><td>2</td><td> 6</td><td>3500</td><td>1.783158</td></tr>\n",
              "\t<tr><td>11</td><td>1</td><td>47</td><td>8</td><td> 9</td><td> 150</td><td>1.690631</td></tr>\n",
              "\t<tr><td>11</td><td>1</td><td>34</td><td>8</td><td>12</td><td> 790</td><td>1.637906</td></tr>\n",
              "\t<tr><td>11</td><td>0</td><td>57</td><td>8</td><td>12</td><td>3150</td><td>1.570078</td></tr>\n",
              "\t<tr><td>11</td><td>1</td><td>60</td><td>8</td><td>12</td><td>1700</td><td>1.608495</td></tr>\n",
              "\t<tr><td>11</td><td>1</td><td>50</td><td>4</td><td>14</td><td>1800</td><td>1.780329</td></tr>\n",
              "\t<tr><td>11</td><td>0</td><td>26</td><td>8</td><td>12</td><td>1150</td><td>1.793203</td></tr>\n",
              "\t<tr><td>11</td><td>1</td><td>46</td><td>8</td><td>12</td><td>3000</td><td>1.787003</td></tr>\n",
              "\t<tr><td>11</td><td>1</td><td>49</td><td>8</td><td> 6</td><td>2500</td><td>1.712912</td></tr>\n",
              "\t<tr><td>11</td><td>1</td><td>52</td><td>2</td><td> 6</td><td>1200</td><td>1.736442</td></tr>\n",
              "\t<tr><td>11</td><td>0</td><td>38</td><td>8</td><td>12</td><td>2000</td><td>1.750827</td></tr>\n",
              "\t<tr><td>11</td><td>0</td><td>45</td><td>2</td><td>12</td><td>2000</td><td>1.780450</td></tr>\n",
              "\t<tr><td>11</td><td>0</td><td>34</td><td>2</td><td>16</td><td>6000</td><td>1.711825</td></tr>\n",
              "\t<tr><td>11</td><td>1</td><td>43</td><td>8</td><td>10</td><td>1050</td><td>1.789012</td></tr>\n",
              "\t<tr><td>11</td><td>0</td><td>53</td><td>8</td><td>16</td><td>7000</td><td>1.673665</td></tr>\n",
              "\t<tr><td>11</td><td>0</td><td>57</td><td>2</td><td>12</td><td>2000</td><td>1.715138</td></tr>\n",
              "\t<tr><td>11</td><td>1</td><td>62</td><td>8</td><td>12</td><td>1150</td><td>1.765973</td></tr>\n",
              "\t<tr><td>11</td><td>0</td><td>69</td><td>8</td><td> 1</td><td>3030</td><td>1.746351</td></tr>\n",
              "\t<tr><td>11</td><td>1</td><td>41</td><td>8</td><td>16</td><td>4000</td><td>1.660873</td></tr>\n",
              "\t<tr><td>11</td><td>0</td><td>34</td><td>8</td><td> 5</td><td> 788</td><td>1.746048</td></tr>\n",
              "\t<tr><td>11</td><td>0</td><td>25</td><td>8</td><td>12</td><td>1000</td><td>1.726496</td></tr>\n",
              "\t<tr><td>11</td><td>0</td><td>33</td><td>8</td><td> 9</td><td> 800</td><td>1.778914</td></tr>\n",
              "\t<tr><td>11</td><td>1</td><td>44</td><td>8</td><td> 5</td><td> 788</td><td>1.668638</td></tr>\n",
              "\t<tr><td>11</td><td>0</td><td>33</td><td>2</td><td>16</td><td>1600</td><td>1.783771</td></tr>\n",
              "\t<tr><td>11</td><td>0</td><td>65</td><td>2</td><td>12</td><td>1700</td><td>1.873445</td></tr>\n",
              "\t<tr><td>11</td><td>0</td><td>33</td><td>8</td><td>14</td><td>2000</td><td>1.890250</td></tr>\n",
              "\t<tr><td>11</td><td>0</td><td>32</td><td>8</td><td>12</td><td>2400</td><td>1.660204</td></tr>\n",
              "\t<tr><td>⋮</td><td>⋮</td><td>⋮</td><td>⋮</td><td>⋮</td><td>⋮</td><td>⋮</td></tr>\n",
              "\t<tr><td>53</td><td>0</td><td>34</td><td>4</td><td>12</td><td> 2500</td><td>1.802241</td></tr>\n",
              "\t<tr><td>53</td><td>1</td><td>57</td><td>2</td><td>11</td><td> 1000</td><td>1.823047</td></tr>\n",
              "\t<tr><td>53</td><td>1</td><td>32</td><td>4</td><td>12</td><td>  788</td><td>1.681405</td></tr>\n",
              "\t<tr><td>53</td><td>0</td><td>35</td><td>4</td><td> 9</td><td> 2100</td><td>1.671112</td></tr>\n",
              "\t<tr><td>53</td><td>1</td><td>49</td><td>8</td><td>12</td><td> 5260</td><td>1.799319</td></tr>\n",
              "\t<tr><td>53</td><td>0</td><td>51</td><td>8</td><td> 1</td><td> 5000</td><td>1.599400</td></tr>\n",
              "\t<tr><td>53</td><td>0</td><td>37</td><td>8</td><td>12</td><td>  950</td><td>1.620497</td></tr>\n",
              "\t<tr><td>53</td><td>0</td><td>47</td><td>8</td><td>12</td><td> 1109</td><td>1.920274</td></tr>\n",
              "\t<tr><td>53</td><td>0</td><td>27</td><td>8</td><td>10</td><td>  850</td><td>1.793074</td></tr>\n",
              "\t<tr><td>53</td><td>1</td><td>49</td><td>8</td><td> 9</td><td>  788</td><td>1.695710</td></tr>\n",
              "\t<tr><td>53</td><td>1</td><td>27</td><td>8</td><td>12</td><td>  866</td><td>1.729035</td></tr>\n",
              "\t<tr><td>53</td><td>0</td><td>20</td><td>2</td><td> 8</td><td> 1300</td><td>1.660409</td></tr>\n",
              "\t<tr><td>53</td><td>0</td><td>49</td><td>8</td><td>12</td><td> 8700</td><td>1.775182</td></tr>\n",
              "\t<tr><td>53</td><td>0</td><td>43</td><td>8</td><td>10</td><td> 5000</td><td>1.584493</td></tr>\n",
              "\t<tr><td>53</td><td>0</td><td>64</td><td>2</td><td>12</td><td> 5000</td><td>1.717452</td></tr>\n",
              "\t<tr><td>53</td><td>0</td><td>55</td><td>2</td><td>16</td><td>13000</td><td>1.729995</td></tr>\n",
              "\t<tr><td>53</td><td>0</td><td>39</td><td>2</td><td>12</td><td> 6000</td><td>1.739046</td></tr>\n",
              "\t<tr><td>53</td><td>1</td><td>41</td><td>2</td><td>16</td><td>10000</td><td>1.696208</td></tr>\n",
              "\t<tr><td>53</td><td>0</td><td>62</td><td>2</td><td>16</td><td>10000</td><td>1.817097</td></tr>\n",
              "\t<tr><td>53</td><td>0</td><td>42</td><td>8</td><td>12</td><td>32000</td><td>1.788923</td></tr>\n",
              "\t<tr><td>53</td><td>0</td><td>62</td><td>2</td><td>16</td><td> 3500</td><td>1.725379</td></tr>\n",
              "\t<tr><td>53</td><td>1</td><td>44</td><td>2</td><td>16</td><td>30000</td><td>1.783962</td></tr>\n",
              "\t<tr><td>53</td><td>1</td><td>49</td><td>2</td><td>12</td><td> 5000</td><td>1.757146</td></tr>\n",
              "\t<tr><td>53</td><td>0</td><td>30</td><td>4</td><td> 6</td><td> 1900</td><td>1.662560</td></tr>\n",
              "\t<tr><td>53</td><td>1</td><td>35</td><td>4</td><td> 1</td><td> 1100</td><td>1.741089</td></tr>\n",
              "\t<tr><td>53</td><td>1</td><td>46</td><td>2</td><td>11</td><td>  812</td><td>1.687030</td></tr>\n",
              "\t<tr><td>53</td><td>0</td><td>30</td><td>4</td><td> 7</td><td> 1500</td><td>1.792934</td></tr>\n",
              "\t<tr><td>53</td><td>0</td><td>32</td><td>8</td><td>12</td><td> 1300</td><td>1.830587</td></tr>\n",
              "\t<tr><td>53</td><td>0</td><td>57</td><td>8</td><td> 4</td><td> 1500</td><td>1.726344</td></tr>\n",
              "\t<tr><td>53</td><td>0</td><td>38</td><td>8</td><td> 4</td><td>  900</td><td>1.658305</td></tr>\n",
              "</tbody>\n",
              "</table>\n"
            ]
          },
          "metadata": {
            "tags": []
          }
        }
      ]
    },
    {
      "cell_type": "code",
      "metadata": {
        "id": "GsC_WhLFjQKq",
        "scrolled": false,
        "outputId": "fadb49a8-5b73-4c5b-e49f-f7dcff394fc2",
        "colab": {
          "base_uri": "https://localhost:8080/",
          "height": 183
        }
      },
      "source": [
        "head(dados, 5)"
      ],
      "execution_count": null,
      "outputs": [
        {
          "output_type": "display_data",
          "data": {
            "text/plain": [
              "  UF Sexo Idade Cor Anos.de.Estudo Renda Altura  \n",
              "1 11 0    23    8   12              800  1.603808\n",
              "2 11 1    23    2   12             1150  1.739790\n",
              "3 11 1    35    8   15              880  1.760444\n",
              "4 11 0    46    2    6             3500  1.783158\n",
              "5 11 1    47    8    9              150  1.690631"
            ],
            "text/latex": "A data.frame: 5 × 7\n\\begin{tabular}{r|lllllll}\n  & UF & Sexo & Idade & Cor & Anos.de.Estudo & Renda & Altura\\\\\n  & <int> & <int> & <int> & <int> & <int> & <int> & <dbl>\\\\\n\\hline\n\t1 & 11 & 0 & 23 & 8 & 12 &  800 & 1.603808\\\\\n\t2 & 11 & 1 & 23 & 2 & 12 & 1150 & 1.739790\\\\\n\t3 & 11 & 1 & 35 & 8 & 15 &  880 & 1.760444\\\\\n\t4 & 11 & 0 & 46 & 2 &  6 & 3500 & 1.783158\\\\\n\t5 & 11 & 1 & 47 & 8 &  9 &  150 & 1.690631\\\\\n\\end{tabular}\n",
            "text/markdown": "\nA data.frame: 5 × 7\n\n| <!--/--> | UF &lt;int&gt; | Sexo &lt;int&gt; | Idade &lt;int&gt; | Cor &lt;int&gt; | Anos.de.Estudo &lt;int&gt; | Renda &lt;int&gt; | Altura &lt;dbl&gt; |\n|---|---|---|---|---|---|---|---|\n| 1 | 11 | 0 | 23 | 8 | 12 |  800 | 1.603808 |\n| 2 | 11 | 1 | 23 | 2 | 12 | 1150 | 1.739790 |\n| 3 | 11 | 1 | 35 | 8 | 15 |  880 | 1.760444 |\n| 4 | 11 | 0 | 46 | 2 |  6 | 3500 | 1.783158 |\n| 5 | 11 | 1 | 47 | 8 |  9 |  150 | 1.690631 |\n\n",
            "text/html": [
              "<table>\n",
              "<caption>A data.frame: 5 × 7</caption>\n",
              "<thead>\n",
              "\t<tr><th></th><th scope=col>UF</th><th scope=col>Sexo</th><th scope=col>Idade</th><th scope=col>Cor</th><th scope=col>Anos.de.Estudo</th><th scope=col>Renda</th><th scope=col>Altura</th></tr>\n",
              "\t<tr><th></th><th scope=col>&lt;int&gt;</th><th scope=col>&lt;int&gt;</th><th scope=col>&lt;int&gt;</th><th scope=col>&lt;int&gt;</th><th scope=col>&lt;int&gt;</th><th scope=col>&lt;int&gt;</th><th scope=col>&lt;dbl&gt;</th></tr>\n",
              "</thead>\n",
              "<tbody>\n",
              "\t<tr><th scope=row>1</th><td>11</td><td>0</td><td>23</td><td>8</td><td>12</td><td> 800</td><td>1.603808</td></tr>\n",
              "\t<tr><th scope=row>2</th><td>11</td><td>1</td><td>23</td><td>2</td><td>12</td><td>1150</td><td>1.739790</td></tr>\n",
              "\t<tr><th scope=row>3</th><td>11</td><td>1</td><td>35</td><td>8</td><td>15</td><td> 880</td><td>1.760444</td></tr>\n",
              "\t<tr><th scope=row>4</th><td>11</td><td>0</td><td>46</td><td>2</td><td> 6</td><td>3500</td><td>1.783158</td></tr>\n",
              "\t<tr><th scope=row>5</th><td>11</td><td>1</td><td>47</td><td>8</td><td> 9</td><td> 150</td><td>1.690631</td></tr>\n",
              "</tbody>\n",
              "</table>\n"
            ]
          },
          "metadata": {
            "tags": []
          }
        }
      ]
    },
    {
      "cell_type": "markdown",
      "metadata": {
        "id": "E3Mx0tVqjQKs"
      },
      "source": [
        "## <font color=green>1.2 Tipos de dados</font>\n",
        "***"
      ]
    },
    {
      "cell_type": "markdown",
      "metadata": {
        "id": "oB4TCBFojQKt"
      },
      "source": [
        "### Variáveis qualitativas ordinais\n",
        "\n",
        "► Variáveis que podem ser ordenadas ou hierarquizardas"
      ]
    },
    {
      "cell_type": "markdown",
      "metadata": {
        "id": "XPPMG_CL9_Xb"
      },
      "source": [
        "### <font color=red>Documentações:\n",
        "\n",
        "- [**select**](https://www.rdocumentation.org/packages/dplyr/versions/0.7.8/topics/select)\n",
        "- [**unique**](https://www.rdocumentation.org/packages/base/versions/3.6.1/topics/unique)\n",
        "- [**arrange**](https://www.rdocumentation.org/packages/dplyr/versions/0.7.8/topics/arrange)\n",
        "- [**c**](https://www.rdocumentation.org/packages/base/versions/3.6.1/topics/c)\n",
        "- [**sprintf**](https://www.rdocumentation.org/packages/base/versions/3.6.1/topics/sprintf)\n",
        "- [**glue**](https://www.rdocumentation.org/packages/glue/versions/1.3.1/topics/glue)\n",
        "- [**min e max**](https://www.rdocumentation.org/packages/base/versions/3.6.1/topics/Extremes)"
      ]
    },
    {
      "cell_type": "code",
      "metadata": {
        "scrolled": true,
        "id": "-vCBsRCL9_Xb",
        "outputId": "e3d8d48b-fa37-489a-be3d-97ed5a5c129c",
        "colab": {
          "base_uri": "https://localhost:8080/",
          "height": 183
        }
      },
      "source": [
        "head(dados, 5)"
      ],
      "execution_count": null,
      "outputs": [
        {
          "output_type": "display_data",
          "data": {
            "text/plain": [
              "  UF Sexo Idade Cor Anos.de.Estudo Renda Altura  \n",
              "1 11 0    23    8   12              800  1.603808\n",
              "2 11 1    23    2   12             1150  1.739790\n",
              "3 11 1    35    8   15              880  1.760444\n",
              "4 11 0    46    2    6             3500  1.783158\n",
              "5 11 1    47    8    9              150  1.690631"
            ],
            "text/latex": "A data.frame: 5 × 7\n\\begin{tabular}{r|lllllll}\n  & UF & Sexo & Idade & Cor & Anos.de.Estudo & Renda & Altura\\\\\n  & <int> & <int> & <int> & <int> & <int> & <int> & <dbl>\\\\\n\\hline\n\t1 & 11 & 0 & 23 & 8 & 12 &  800 & 1.603808\\\\\n\t2 & 11 & 1 & 23 & 2 & 12 & 1150 & 1.739790\\\\\n\t3 & 11 & 1 & 35 & 8 & 15 &  880 & 1.760444\\\\\n\t4 & 11 & 0 & 46 & 2 &  6 & 3500 & 1.783158\\\\\n\t5 & 11 & 1 & 47 & 8 &  9 &  150 & 1.690631\\\\\n\\end{tabular}\n",
            "text/markdown": "\nA data.frame: 5 × 7\n\n| <!--/--> | UF &lt;int&gt; | Sexo &lt;int&gt; | Idade &lt;int&gt; | Cor &lt;int&gt; | Anos.de.Estudo &lt;int&gt; | Renda &lt;int&gt; | Altura &lt;dbl&gt; |\n|---|---|---|---|---|---|---|---|\n| 1 | 11 | 0 | 23 | 8 | 12 |  800 | 1.603808 |\n| 2 | 11 | 1 | 23 | 2 | 12 | 1150 | 1.739790 |\n| 3 | 11 | 1 | 35 | 8 | 15 |  880 | 1.760444 |\n| 4 | 11 | 0 | 46 | 2 |  6 | 3500 | 1.783158 |\n| 5 | 11 | 1 | 47 | 8 |  9 |  150 | 1.690631 |\n\n",
            "text/html": [
              "<table>\n",
              "<caption>A data.frame: 5 × 7</caption>\n",
              "<thead>\n",
              "\t<tr><th></th><th scope=col>UF</th><th scope=col>Sexo</th><th scope=col>Idade</th><th scope=col>Cor</th><th scope=col>Anos.de.Estudo</th><th scope=col>Renda</th><th scope=col>Altura</th></tr>\n",
              "\t<tr><th></th><th scope=col>&lt;int&gt;</th><th scope=col>&lt;int&gt;</th><th scope=col>&lt;int&gt;</th><th scope=col>&lt;int&gt;</th><th scope=col>&lt;int&gt;</th><th scope=col>&lt;int&gt;</th><th scope=col>&lt;dbl&gt;</th></tr>\n",
              "</thead>\n",
              "<tbody>\n",
              "\t<tr><th scope=row>1</th><td>11</td><td>0</td><td>23</td><td>8</td><td>12</td><td> 800</td><td>1.603808</td></tr>\n",
              "\t<tr><th scope=row>2</th><td>11</td><td>1</td><td>23</td><td>2</td><td>12</td><td>1150</td><td>1.739790</td></tr>\n",
              "\t<tr><th scope=row>3</th><td>11</td><td>1</td><td>35</td><td>8</td><td>15</td><td> 880</td><td>1.760444</td></tr>\n",
              "\t<tr><th scope=row>4</th><td>11</td><td>0</td><td>46</td><td>2</td><td> 6</td><td>3500</td><td>1.783158</td></tr>\n",
              "\t<tr><th scope=row>5</th><td>11</td><td>1</td><td>47</td><td>8</td><td> 9</td><td> 150</td><td>1.690631</td></tr>\n",
              "</tbody>\n",
              "</table>\n"
            ]
          },
          "metadata": {
            "tags": []
          }
        }
      ]
    },
    {
      "cell_type": "code",
      "metadata": {
        "scrolled": true,
        "id": "Uo34V2a39_Xf",
        "outputId": "42e45d6d-dc5a-4104-c6e9-5350bbb4a7fc",
        "colab": {
          "base_uri": "https://localhost:8080/",
          "height": 1000
        }
      },
      "source": [
        "select(dados, Anos.de.Estudo)"
      ],
      "execution_count": null,
      "outputs": [
        {
          "output_type": "display_data",
          "data": {
            "text/plain": [
              "      Anos.de.Estudo\n",
              "1     12            \n",
              "2     12            \n",
              "3     15            \n",
              "4      6            \n",
              "5      9            \n",
              "6     12            \n",
              "7     12            \n",
              "8     12            \n",
              "9     14            \n",
              "10    12            \n",
              "11    12            \n",
              "12     6            \n",
              "13     6            \n",
              "14    12            \n",
              "15    12            \n",
              "16    16            \n",
              "17    10            \n",
              "18    16            \n",
              "19    12            \n",
              "20    12            \n",
              "21     1            \n",
              "22    16            \n",
              "23     5            \n",
              "24    12            \n",
              "25     9            \n",
              "26     5            \n",
              "27    16            \n",
              "28    12            \n",
              "29    14            \n",
              "30    12            \n",
              "⋮     ⋮             \n",
              "76811 12            \n",
              "76812 11            \n",
              "76813 12            \n",
              "76814  9            \n",
              "76815 12            \n",
              "76816  1            \n",
              "76817 12            \n",
              "76818 12            \n",
              "76819 10            \n",
              "76820  9            \n",
              "76821 12            \n",
              "76822  8            \n",
              "76823 12            \n",
              "76824 10            \n",
              "76825 12            \n",
              "76826 16            \n",
              "76827 12            \n",
              "76828 16            \n",
              "76829 16            \n",
              "76830 12            \n",
              "76831 16            \n",
              "76832 16            \n",
              "76833 12            \n",
              "76834  6            \n",
              "76835  1            \n",
              "76836 11            \n",
              "76837  7            \n",
              "76838 12            \n",
              "76839  4            \n",
              "76840  4            "
            ],
            "text/latex": "A data.frame: 76840 × 1\n\\begin{tabular}{l}\n Anos.de.Estudo\\\\\n <int>\\\\\n\\hline\n\t 12\\\\\n\t 12\\\\\n\t 15\\\\\n\t  6\\\\\n\t  9\\\\\n\t 12\\\\\n\t 12\\\\\n\t 12\\\\\n\t 14\\\\\n\t 12\\\\\n\t 12\\\\\n\t  6\\\\\n\t  6\\\\\n\t 12\\\\\n\t 12\\\\\n\t 16\\\\\n\t 10\\\\\n\t 16\\\\\n\t 12\\\\\n\t 12\\\\\n\t  1\\\\\n\t 16\\\\\n\t  5\\\\\n\t 12\\\\\n\t  9\\\\\n\t  5\\\\\n\t 16\\\\\n\t 12\\\\\n\t 14\\\\\n\t 12\\\\\n\t ⋮\\\\\n\t 12\\\\\n\t 11\\\\\n\t 12\\\\\n\t  9\\\\\n\t 12\\\\\n\t  1\\\\\n\t 12\\\\\n\t 12\\\\\n\t 10\\\\\n\t  9\\\\\n\t 12\\\\\n\t  8\\\\\n\t 12\\\\\n\t 10\\\\\n\t 12\\\\\n\t 16\\\\\n\t 12\\\\\n\t 16\\\\\n\t 16\\\\\n\t 12\\\\\n\t 16\\\\\n\t 16\\\\\n\t 12\\\\\n\t  6\\\\\n\t  1\\\\\n\t 11\\\\\n\t  7\\\\\n\t 12\\\\\n\t  4\\\\\n\t  4\\\\\n\\end{tabular}\n",
            "text/markdown": "\nA data.frame: 76840 × 1\n\n| Anos.de.Estudo &lt;int&gt; |\n|---|\n| 12 |\n| 12 |\n| 15 |\n|  6 |\n|  9 |\n| 12 |\n| 12 |\n| 12 |\n| 14 |\n| 12 |\n| 12 |\n|  6 |\n|  6 |\n| 12 |\n| 12 |\n| 16 |\n| 10 |\n| 16 |\n| 12 |\n| 12 |\n|  1 |\n| 16 |\n|  5 |\n| 12 |\n|  9 |\n|  5 |\n| 16 |\n| 12 |\n| 14 |\n| 12 |\n| ⋮ |\n| 12 |\n| 11 |\n| 12 |\n|  9 |\n| 12 |\n|  1 |\n| 12 |\n| 12 |\n| 10 |\n|  9 |\n| 12 |\n|  8 |\n| 12 |\n| 10 |\n| 12 |\n| 16 |\n| 12 |\n| 16 |\n| 16 |\n| 12 |\n| 16 |\n| 16 |\n| 12 |\n|  6 |\n|  1 |\n| 11 |\n|  7 |\n| 12 |\n|  4 |\n|  4 |\n\n",
            "text/html": [
              "<table>\n",
              "<caption>A data.frame: 76840 × 1</caption>\n",
              "<thead>\n",
              "\t<tr><th scope=col>Anos.de.Estudo</th></tr>\n",
              "\t<tr><th scope=col>&lt;int&gt;</th></tr>\n",
              "</thead>\n",
              "<tbody>\n",
              "\t<tr><td>12</td></tr>\n",
              "\t<tr><td>12</td></tr>\n",
              "\t<tr><td>15</td></tr>\n",
              "\t<tr><td> 6</td></tr>\n",
              "\t<tr><td> 9</td></tr>\n",
              "\t<tr><td>12</td></tr>\n",
              "\t<tr><td>12</td></tr>\n",
              "\t<tr><td>12</td></tr>\n",
              "\t<tr><td>14</td></tr>\n",
              "\t<tr><td>12</td></tr>\n",
              "\t<tr><td>12</td></tr>\n",
              "\t<tr><td> 6</td></tr>\n",
              "\t<tr><td> 6</td></tr>\n",
              "\t<tr><td>12</td></tr>\n",
              "\t<tr><td>12</td></tr>\n",
              "\t<tr><td>16</td></tr>\n",
              "\t<tr><td>10</td></tr>\n",
              "\t<tr><td>16</td></tr>\n",
              "\t<tr><td>12</td></tr>\n",
              "\t<tr><td>12</td></tr>\n",
              "\t<tr><td> 1</td></tr>\n",
              "\t<tr><td>16</td></tr>\n",
              "\t<tr><td> 5</td></tr>\n",
              "\t<tr><td>12</td></tr>\n",
              "\t<tr><td> 9</td></tr>\n",
              "\t<tr><td> 5</td></tr>\n",
              "\t<tr><td>16</td></tr>\n",
              "\t<tr><td>12</td></tr>\n",
              "\t<tr><td>14</td></tr>\n",
              "\t<tr><td>12</td></tr>\n",
              "\t<tr><td>⋮</td></tr>\n",
              "\t<tr><td>12</td></tr>\n",
              "\t<tr><td>11</td></tr>\n",
              "\t<tr><td>12</td></tr>\n",
              "\t<tr><td> 9</td></tr>\n",
              "\t<tr><td>12</td></tr>\n",
              "\t<tr><td> 1</td></tr>\n",
              "\t<tr><td>12</td></tr>\n",
              "\t<tr><td>12</td></tr>\n",
              "\t<tr><td>10</td></tr>\n",
              "\t<tr><td> 9</td></tr>\n",
              "\t<tr><td>12</td></tr>\n",
              "\t<tr><td> 8</td></tr>\n",
              "\t<tr><td>12</td></tr>\n",
              "\t<tr><td>10</td></tr>\n",
              "\t<tr><td>12</td></tr>\n",
              "\t<tr><td>16</td></tr>\n",
              "\t<tr><td>12</td></tr>\n",
              "\t<tr><td>16</td></tr>\n",
              "\t<tr><td>16</td></tr>\n",
              "\t<tr><td>12</td></tr>\n",
              "\t<tr><td>16</td></tr>\n",
              "\t<tr><td>16</td></tr>\n",
              "\t<tr><td>12</td></tr>\n",
              "\t<tr><td> 6</td></tr>\n",
              "\t<tr><td> 1</td></tr>\n",
              "\t<tr><td>11</td></tr>\n",
              "\t<tr><td> 7</td></tr>\n",
              "\t<tr><td>12</td></tr>\n",
              "\t<tr><td> 4</td></tr>\n",
              "\t<tr><td> 4</td></tr>\n",
              "</tbody>\n",
              "</table>\n"
            ]
          },
          "metadata": {
            "tags": []
          }
        }
      ]
    },
    {
      "cell_type": "code",
      "metadata": {
        "scrolled": true,
        "id": "lPPsHn-P9_Xj",
        "outputId": "05d3f4e1-9153-443e-8cd2-26a480bbe46b",
        "colab": {
          "base_uri": "https://localhost:8080/",
          "height": 435
        }
      },
      "source": [
        "unique(select(dados, Anos.de.Estudo))"
      ],
      "execution_count": null,
      "outputs": [
        {
          "output_type": "display_data",
          "data": {
            "text/plain": [
              "    Anos.de.Estudo\n",
              "1   12            \n",
              "3   15            \n",
              "4    6            \n",
              "5    9            \n",
              "9   14            \n",
              "16  16            \n",
              "17  10            \n",
              "21   1            \n",
              "23   5            \n",
              "37   7            \n",
              "38   3            \n",
              "44   2            \n",
              "50   4            \n",
              "51   8            \n",
              "63  11            \n",
              "75  17            \n",
              "161 13            "
            ],
            "text/latex": "A data.frame: 17 × 1\n\\begin{tabular}{r|l}\n  & Anos.de.Estudo\\\\\n  & <int>\\\\\n\\hline\n\t1 & 12\\\\\n\t3 & 15\\\\\n\t4 &  6\\\\\n\t5 &  9\\\\\n\t9 & 14\\\\\n\t16 & 16\\\\\n\t17 & 10\\\\\n\t21 &  1\\\\\n\t23 &  5\\\\\n\t37 &  7\\\\\n\t38 &  3\\\\\n\t44 &  2\\\\\n\t50 &  4\\\\\n\t51 &  8\\\\\n\t63 & 11\\\\\n\t75 & 17\\\\\n\t161 & 13\\\\\n\\end{tabular}\n",
            "text/markdown": "\nA data.frame: 17 × 1\n\n| <!--/--> | Anos.de.Estudo &lt;int&gt; |\n|---|---|\n| 1 | 12 |\n| 3 | 15 |\n| 4 |  6 |\n| 5 |  9 |\n| 9 | 14 |\n| 16 | 16 |\n| 17 | 10 |\n| 21 |  1 |\n| 23 |  5 |\n| 37 |  7 |\n| 38 |  3 |\n| 44 |  2 |\n| 50 |  4 |\n| 51 |  8 |\n| 63 | 11 |\n| 75 | 17 |\n| 161 | 13 |\n\n",
            "text/html": [
              "<table>\n",
              "<caption>A data.frame: 17 × 1</caption>\n",
              "<thead>\n",
              "\t<tr><th></th><th scope=col>Anos.de.Estudo</th></tr>\n",
              "\t<tr><th></th><th scope=col>&lt;int&gt;</th></tr>\n",
              "</thead>\n",
              "<tbody>\n",
              "\t<tr><th scope=row>1</th><td>12</td></tr>\n",
              "\t<tr><th scope=row>3</th><td>15</td></tr>\n",
              "\t<tr><th scope=row>4</th><td> 6</td></tr>\n",
              "\t<tr><th scope=row>5</th><td> 9</td></tr>\n",
              "\t<tr><th scope=row>9</th><td>14</td></tr>\n",
              "\t<tr><th scope=row>16</th><td>16</td></tr>\n",
              "\t<tr><th scope=row>17</th><td>10</td></tr>\n",
              "\t<tr><th scope=row>21</th><td> 1</td></tr>\n",
              "\t<tr><th scope=row>23</th><td> 5</td></tr>\n",
              "\t<tr><th scope=row>37</th><td> 7</td></tr>\n",
              "\t<tr><th scope=row>38</th><td> 3</td></tr>\n",
              "\t<tr><th scope=row>44</th><td> 2</td></tr>\n",
              "\t<tr><th scope=row>50</th><td> 4</td></tr>\n",
              "\t<tr><th scope=row>51</th><td> 8</td></tr>\n",
              "\t<tr><th scope=row>63</th><td>11</td></tr>\n",
              "\t<tr><th scope=row>75</th><td>17</td></tr>\n",
              "\t<tr><th scope=row>161</th><td>13</td></tr>\n",
              "</tbody>\n",
              "</table>\n"
            ]
          },
          "metadata": {
            "tags": []
          }
        }
      ]
    },
    {
      "cell_type": "code",
      "metadata": {
        "scrolled": true,
        "id": "Bj7O7ASJ9_Xn",
        "outputId": "cf5de418-d547-49ef-9b09-073caf5f7a57",
        "colab": {
          "base_uri": "https://localhost:8080/",
          "height": 452
        }
      },
      "source": [
        "arrange(unique(select(dados, Anos.de.Estudo)), Anos.de.Estudo)"
      ],
      "execution_count": null,
      "outputs": [
        {
          "output_type": "display_data",
          "data": {
            "text/plain": [
              "   Anos.de.Estudo\n",
              "1   1            \n",
              "2   2            \n",
              "3   3            \n",
              "4   4            \n",
              "5   5            \n",
              "6   6            \n",
              "7   7            \n",
              "8   8            \n",
              "9   9            \n",
              "10 10            \n",
              "11 11            \n",
              "12 12            \n",
              "13 13            \n",
              "14 14            \n",
              "15 15            \n",
              "16 16            \n",
              "17 17            "
            ],
            "text/latex": "A data.frame: 17 × 1\n\\begin{tabular}{l}\n Anos.de.Estudo\\\\\n <int>\\\\\n\\hline\n\t  1\\\\\n\t  2\\\\\n\t  3\\\\\n\t  4\\\\\n\t  5\\\\\n\t  6\\\\\n\t  7\\\\\n\t  8\\\\\n\t  9\\\\\n\t 10\\\\\n\t 11\\\\\n\t 12\\\\\n\t 13\\\\\n\t 14\\\\\n\t 15\\\\\n\t 16\\\\\n\t 17\\\\\n\\end{tabular}\n",
            "text/markdown": "\nA data.frame: 17 × 1\n\n| Anos.de.Estudo &lt;int&gt; |\n|---|\n|  1 |\n|  2 |\n|  3 |\n|  4 |\n|  5 |\n|  6 |\n|  7 |\n|  8 |\n|  9 |\n| 10 |\n| 11 |\n| 12 |\n| 13 |\n| 14 |\n| 15 |\n| 16 |\n| 17 |\n\n",
            "text/html": [
              "<table>\n",
              "<caption>A data.frame: 17 × 1</caption>\n",
              "<thead>\n",
              "\t<tr><th scope=col>Anos.de.Estudo</th></tr>\n",
              "\t<tr><th scope=col>&lt;int&gt;</th></tr>\n",
              "</thead>\n",
              "<tbody>\n",
              "\t<tr><td> 1</td></tr>\n",
              "\t<tr><td> 2</td></tr>\n",
              "\t<tr><td> 3</td></tr>\n",
              "\t<tr><td> 4</td></tr>\n",
              "\t<tr><td> 5</td></tr>\n",
              "\t<tr><td> 6</td></tr>\n",
              "\t<tr><td> 7</td></tr>\n",
              "\t<tr><td> 8</td></tr>\n",
              "\t<tr><td> 9</td></tr>\n",
              "\t<tr><td>10</td></tr>\n",
              "\t<tr><td>11</td></tr>\n",
              "\t<tr><td>12</td></tr>\n",
              "\t<tr><td>13</td></tr>\n",
              "\t<tr><td>14</td></tr>\n",
              "\t<tr><td>15</td></tr>\n",
              "\t<tr><td>16</td></tr>\n",
              "\t<tr><td>17</td></tr>\n",
              "</tbody>\n",
              "</table>\n"
            ]
          },
          "metadata": {
            "tags": []
          }
        }
      ]
    },
    {
      "cell_type": "code",
      "metadata": {
        "id": "3DaDT4oi9_Xs",
        "outputId": "5abe252b-a3ce-4d85-a525-f516385d6bbb",
        "colab": {
          "base_uri": "https://localhost:8080/",
          "height": 51
        }
      },
      "source": [
        "c(arrange(unique(select(dados, Anos.de.Estudo)), Anos.de.Estudo))"
      ],
      "execution_count": null,
      "outputs": [
        {
          "output_type": "display_data",
          "data": {
            "text/plain": [
              "$Anos.de.Estudo\n",
              " [1]  1  2  3  4  5  6  7  8  9 10 11 12 13 14 15 16 17\n"
            ],
            "text/latex": "\\textbf{\\$Anos.de.Estudo} = \\begin{enumerate*}\n\\item 1\n\\item 2\n\\item 3\n\\item 4\n\\item 5\n\\item 6\n\\item 7\n\\item 8\n\\item 9\n\\item 10\n\\item 11\n\\item 12\n\\item 13\n\\item 14\n\\item 15\n\\item 16\n\\item 17\n\\end{enumerate*}\n",
            "text/markdown": "**$Anos.de.Estudo** = 1. 1\n2. 2\n3. 3\n4. 4\n5. 5\n6. 6\n7. 7\n8. 8\n9. 9\n10. 10\n11. 11\n12. 12\n13. 13\n14. 14\n15. 15\n16. 16\n17. 17\n\n\n",
            "text/html": [
              "<strong>$Anos.de.Estudo</strong> = <style>\n",
              ".list-inline {list-style: none; margin:0; padding: 0}\n",
              ".list-inline>li {display: inline-block}\n",
              ".list-inline>li:not(:last-child)::after {content: \"\\00b7\"; padding: 0 .5ex}\n",
              "</style>\n",
              "<ol class=list-inline><li>1</li><li>2</li><li>3</li><li>4</li><li>5</li><li>6</li><li>7</li><li>8</li><li>9</li><li>10</li><li>11</li><li>12</li><li>13</li><li>14</li><li>15</li><li>16</li><li>17</li></ol>\n"
            ]
          },
          "metadata": {
            "tags": []
          }
        }
      ]
    },
    {
      "cell_type": "markdown",
      "metadata": {
        "id": "i2mCIMyojQKv"
      },
      "source": [
        "### Variáveis qualitativas nominais\n",
        "\n",
        "► Variáveis que não podem ser ordenadas ou hierarquizardas"
      ]
    },
    {
      "cell_type": "code",
      "metadata": {
        "scrolled": true,
        "id": "lh6ThRbr9_Xw",
        "outputId": "27a9fc7c-2140-4f65-a42f-2a7993249348",
        "colab": {
          "base_uri": "https://localhost:8080/",
          "height": 68
        }
      },
      "source": [
        "c(arrange(unique(select(dados, UF)), UF))"
      ],
      "execution_count": null,
      "outputs": [
        {
          "output_type": "display_data",
          "data": {
            "text/plain": [
              "$UF\n",
              " [1] 11 12 13 14 15 16 17 21 22 23 24 25 26 27 28 29 31 32 33 35 41 42 43 50 51\n",
              "[26] 52 53\n"
            ],
            "text/latex": "\\textbf{\\$UF} = \\begin{enumerate*}\n\\item 11\n\\item 12\n\\item 13\n\\item 14\n\\item 15\n\\item 16\n\\item 17\n\\item 21\n\\item 22\n\\item 23\n\\item 24\n\\item 25\n\\item 26\n\\item 27\n\\item 28\n\\item 29\n\\item 31\n\\item 32\n\\item 33\n\\item 35\n\\item 41\n\\item 42\n\\item 43\n\\item 50\n\\item 51\n\\item 52\n\\item 53\n\\end{enumerate*}\n",
            "text/markdown": "**$UF** = 1. 11\n2. 12\n3. 13\n4. 14\n5. 15\n6. 16\n7. 17\n8. 21\n9. 22\n10. 23\n11. 24\n12. 25\n13. 26\n14. 27\n15. 28\n16. 29\n17. 31\n18. 32\n19. 33\n20. 35\n21. 41\n22. 42\n23. 43\n24. 50\n25. 51\n26. 52\n27. 53\n\n\n",
            "text/html": [
              "<strong>$UF</strong> = <style>\n",
              ".list-inline {list-style: none; margin:0; padding: 0}\n",
              ".list-inline>li {display: inline-block}\n",
              ".list-inline>li:not(:last-child)::after {content: \"\\00b7\"; padding: 0 .5ex}\n",
              "</style>\n",
              "<ol class=list-inline><li>11</li><li>12</li><li>13</li><li>14</li><li>15</li><li>16</li><li>17</li><li>21</li><li>22</li><li>23</li><li>24</li><li>25</li><li>26</li><li>27</li><li>28</li><li>29</li><li>31</li><li>32</li><li>33</li><li>35</li><li>41</li><li>42</li><li>43</li><li>50</li><li>51</li><li>52</li><li>53</li></ol>\n"
            ]
          },
          "metadata": {
            "tags": []
          }
        }
      ]
    },
    {
      "cell_type": "code",
      "metadata": {
        "id": "fZxvdbdc9_X0",
        "outputId": "0539849d-e69e-4081-8082-32146e904299",
        "colab": {
          "base_uri": "https://localhost:8080/",
          "height": 51
        }
      },
      "source": [
        "c(arrange(unique(select(dados, Sexo)), Sexo))"
      ],
      "execution_count": null,
      "outputs": [
        {
          "output_type": "display_data",
          "data": {
            "text/plain": [
              "$Sexo\n",
              "[1] 0 1\n"
            ],
            "text/latex": "\\textbf{\\$Sexo} = \\begin{enumerate*}\n\\item 0\n\\item 1\n\\end{enumerate*}\n",
            "text/markdown": "**$Sexo** = 1. 0\n2. 1\n\n\n",
            "text/html": [
              "<strong>$Sexo</strong> = <style>\n",
              ".list-inline {list-style: none; margin:0; padding: 0}\n",
              ".list-inline>li {display: inline-block}\n",
              ".list-inline>li:not(:last-child)::after {content: \"\\00b7\"; padding: 0 .5ex}\n",
              "</style>\n",
              "<ol class=list-inline><li>0</li><li>1</li></ol>\n"
            ]
          },
          "metadata": {
            "tags": []
          }
        }
      ]
    },
    {
      "cell_type": "code",
      "metadata": {
        "id": "9sPE_9xi9_X5",
        "outputId": "2f986bed-a5c0-4181-92ad-4d2523d61071",
        "colab": {
          "base_uri": "https://localhost:8080/",
          "height": 51
        }
      },
      "source": [
        "c(arrange(unique(select(dados, Cor)), Cor))"
      ],
      "execution_count": null,
      "outputs": [
        {
          "output_type": "display_data",
          "data": {
            "text/plain": [
              "$Cor\n",
              "[1] 0 2 4 6 8\n"
            ],
            "text/latex": "\\textbf{\\$Cor} = \\begin{enumerate*}\n\\item 0\n\\item 2\n\\item 4\n\\item 6\n\\item 8\n\\end{enumerate*}\n",
            "text/markdown": "**$Cor** = 1. 0\n2. 2\n3. 4\n4. 6\n5. 8\n\n\n",
            "text/html": [
              "<strong>$Cor</strong> = <style>\n",
              ".list-inline {list-style: none; margin:0; padding: 0}\n",
              ".list-inline>li {display: inline-block}\n",
              ".list-inline>li:not(:last-child)::after {content: \"\\00b7\"; padding: 0 .5ex}\n",
              "</style>\n",
              "<ol class=list-inline><li>0</li><li>2</li><li>4</li><li>6</li><li>8</li></ol>\n"
            ]
          },
          "metadata": {
            "tags": []
          }
        }
      ]
    },
    {
      "cell_type": "markdown",
      "metadata": {
        "id": "FQhi81LsjQK5"
      },
      "source": [
        "### Variáveis quantitativas discretas\n",
        "\n",
        "► Variáveis que representam uma contagem onde os valores possíveis formam um conjunto finito ou enumerável."
      ]
    },
    {
      "cell_type": "code",
      "metadata": {
        "id": "B-Rxhf6e9_YA",
        "outputId": "5d1433ad-6cfe-47d2-8402-6191e45e9904",
        "colab": {
          "base_uri": "https://localhost:8080/",
          "height": 34
        }
      },
      "source": [
        "sprintf(\"De %s até %s anos\", min(dados$Idade), max(dados$Idade))"
      ],
      "execution_count": null,
      "outputs": [
        {
          "output_type": "display_data",
          "data": {
            "text/plain": [
              "[1] \"De 13 até 99 anos\""
            ],
            "text/latex": "'De 13 até 99 anos'",
            "text/markdown": "'De 13 até 99 anos'",
            "text/html": [
              "'De 13 até 99 anos'"
            ]
          },
          "metadata": {
            "tags": []
          }
        }
      ]
    },
    {
      "cell_type": "code",
      "metadata": {
        "id": "D0jkmzCK9_YG"
      },
      "source": [
        "library(glue)"
      ],
      "execution_count": null,
      "outputs": []
    },
    {
      "cell_type": "code",
      "metadata": {
        "id": "Pt8NsoSt9_YJ",
        "outputId": "213019f5-8c94-43c2-9659-e10c761e245b",
        "colab": {
          "base_uri": "https://localhost:8080/",
          "height": 34
        }
      },
      "source": [
        "glue('De {min(dados$Idade)} até {max(dados$Idade)}')"
      ],
      "execution_count": null,
      "outputs": [
        {
          "output_type": "display_data",
          "data": {
            "text/plain": [
              "De 13 até 99"
            ],
            "text/latex": "'De 13 até 99'",
            "text/markdown": "'De 13 até 99'",
            "text/html": [
              "'De 13 até 99'"
            ]
          },
          "metadata": {
            "tags": []
          }
        }
      ]
    },
    {
      "cell_type": "markdown",
      "metadata": {
        "id": "7mMXLTukjQK-"
      },
      "source": [
        "#### <font color='red'>Observação</font>\n",
        "***\n",
        "> A variável idade pode ser classificada de três formas distintas:\n",
        "> 1. <b>QUANTITATIVA DISCRETA</b> - quando representa anos completos (números inteiros);\n",
        "> 2. <b>QUANTITATIVA CONTÍNUA</b> - quando representa a idade exata, sendo representado por frações de anos; e\n",
        "> 3. <b>QUALITATIVA ORDINAL</b> - quando representa faixas de idade."
      ]
    },
    {
      "cell_type": "markdown",
      "metadata": {
        "id": "J0L2OkaQjQK7"
      },
      "source": [
        "### Variáveis quantitativas contínuas\n",
        "\n",
        "► Variáveis que representam uma contagem ou mensuração que assumem valores em uma escala contínua (números reais)."
      ]
    },
    {
      "cell_type": "code",
      "metadata": {
        "id": "Ts1Vobs_9_YO",
        "outputId": "a06516ca-2b1e-4160-c760-e3ad82ca1d47",
        "colab": {
          "base_uri": "https://localhost:8080/",
          "height": 34
        }
      },
      "source": [
        "glue(\"De {min(dados$Altura)} até {max(dados$Altura)} metros\")"
      ],
      "execution_count": null,
      "outputs": [
        {
          "output_type": "display_data",
          "data": {
            "text/plain": [
              "De 1.339244614 até 2.028496765 metros"
            ],
            "text/latex": "'De 1.339244614 até 2.028496765 metros'",
            "text/markdown": "'De 1.339244614 até 2.028496765 metros'",
            "text/html": [
              "'De 1.339244614 até 2.028496765 metros'"
            ]
          },
          "metadata": {
            "tags": []
          }
        }
      ]
    },
    {
      "cell_type": "markdown",
      "metadata": {
        "id": "d_LW5gMIjQK_"
      },
      "source": [
        "### Classificação de uma variável\n",
        "<img src='https://caelum-online-public.s3.amazonaws.com/1177-estatistica-parte1/01/img001.png' width='70%'>"
      ]
    },
    {
      "cell_type": "markdown",
      "metadata": {
        "id": "PNIg_4VEjQK_"
      },
      "source": [
        "# <font color=green>2 DISTRIBUIÇÃO DE FREQUÊNCIAS</font>\n",
        "***\n",
        "\n",
        "O primeiro passo em um trabalho de análise é o conhecimento do comportamento das variáveis envolvidas no estudo. Utilizando técnicas estatísticas como as análises das <b>DISTRIBUIÇÕES DE FREQUÊNCIAS</b> e <b>HISTOGRAMAS</b> podemos avaliar melhor a forma como os fenômenos em estudo se distribuem."
      ]
    },
    {
      "cell_type": "markdown",
      "metadata": {
        "id": "JhpyjkEFjQLA"
      },
      "source": [
        "## <font color=green>2.1 Distribuição de frequências para variáveis qualitativas</font>\n",
        "***"
      ]
    },
    {
      "cell_type": "markdown",
      "metadata": {
        "id": "SsN3ikjqjQLB"
      },
      "source": [
        "### Método 1"
      ]
    },
    {
      "cell_type": "markdown",
      "metadata": {
        "id": "NYxYD-np9_YU"
      },
      "source": [
        "### <font color=red>Documentações:\n",
        "\n",
        "- [**table**](https://www.rdocumentation.org/packages/base/versions/3.6.1/topics/table)\n",
        "- [**prop.table**](https://www.rdocumentation.org/packages/base/versions/3.6.1/topics/prop.table)\n",
        "- [**cbind**](https://www.rdocumentation.org/packages/base/versions/3.6.1/topics/cbind)\n",
        "- [**row+colnames**](https://www.rdocumentation.org/packages/base/versions/3.6.1/topics/row%2Bcolnames)"
      ]
    },
    {
      "cell_type": "code",
      "metadata": {
        "id": "nF1IHmyW9_YV",
        "outputId": "9c3f8324-f3c9-4309-edd5-7cff961411be",
        "colab": {
          "base_uri": "https://localhost:8080/",
          "height": 68
        }
      },
      "source": [
        "table(dados$Sexo)"
      ],
      "execution_count": null,
      "outputs": [
        {
          "output_type": "display_data",
          "data": {
            "text/plain": [
              "\n",
              "    0     1 \n",
              "53250 23590 "
            ]
          },
          "metadata": {
            "tags": []
          }
        }
      ]
    },
    {
      "cell_type": "code",
      "metadata": {
        "id": "_b9TSgFO9_YZ",
        "outputId": "3e40cee6-0c6b-4461-ce70-1bf1f07b92cf",
        "colab": {
          "base_uri": "https://localhost:8080/",
          "height": 116
        }
      },
      "source": [
        "dist_freq_qualitativas <- cbind(freq = table(dados$Sexo), percent = prop.table(table(dados$Sexo)) * 100)\n",
        "dist_freq_qualitativas"
      ],
      "execution_count": null,
      "outputs": [
        {
          "output_type": "display_data",
          "data": {
            "text/plain": [
              "  freq  percent \n",
              "0 53250 69.29984\n",
              "1 23590 30.70016"
            ],
            "text/latex": "A matrix: 2 × 2 of type dbl\n\\begin{tabular}{r|ll}\n  & freq & percent\\\\\n\\hline\n\t0 & 53250 & 69.29984\\\\\n\t1 & 23590 & 30.70016\\\\\n\\end{tabular}\n",
            "text/markdown": "\nA matrix: 2 × 2 of type dbl\n\n| <!--/--> | freq | percent |\n|---|---|---|\n| 0 | 53250 | 69.29984 |\n| 1 | 23590 | 30.70016 |\n\n",
            "text/html": [
              "<table>\n",
              "<caption>A matrix: 2 × 2 of type dbl</caption>\n",
              "<thead>\n",
              "\t<tr><th></th><th scope=col>freq</th><th scope=col>percent</th></tr>\n",
              "</thead>\n",
              "<tbody>\n",
              "\t<tr><th scope=row>0</th><td>53250</td><td>69.29984</td></tr>\n",
              "\t<tr><th scope=row>1</th><td>23590</td><td>30.70016</td></tr>\n",
              "</tbody>\n",
              "</table>\n"
            ]
          },
          "metadata": {
            "tags": []
          }
        }
      ]
    },
    {
      "cell_type": "code",
      "metadata": {
        "id": "uKiucjMS9_Yd",
        "outputId": "5cb55f80-a58f-4c0f-b3b3-1e3a7eed9e46",
        "colab": {
          "base_uri": "https://localhost:8080/",
          "height": 99
        }
      },
      "source": [
        "colnames(dist_freq_qualitativas) <- c('Frequência', 'Porcentagem (%)')\n",
        "dist_freq_qualitativas"
      ],
      "execution_count": null,
      "outputs": [
        {
          "output_type": "display_data",
          "data": {
            "text/plain": [
              "  Frequência Porcentagem (%)\n",
              "0 53250      69.29984       \n",
              "1 23590      30.70016       "
            ],
            "text/latex": "A matrix: 2 × 2 of type dbl\n\\begin{tabular}{r|ll}\n  & Frequência & Porcentagem (\\%)\\\\\n\\hline\n\t0 & 53250 & 69.29984\\\\\n\t1 & 23590 & 30.70016\\\\\n\\end{tabular}\n",
            "text/markdown": "\nA matrix: 2 × 2 of type dbl\n\n| <!--/--> | Frequência | Porcentagem (%) |\n|---|---|---|\n| 0 | 53250 | 69.29984 |\n| 1 | 23590 | 30.70016 |\n\n",
            "text/html": [
              "<table>\n",
              "<caption>A matrix: 2 × 2 of type dbl</caption>\n",
              "<thead>\n",
              "\t<tr><th></th><th scope=col>Frequência</th><th scope=col>Porcentagem (%)</th></tr>\n",
              "</thead>\n",
              "<tbody>\n",
              "\t<tr><th scope=row>0</th><td>53250</td><td>69.29984</td></tr>\n",
              "\t<tr><th scope=row>1</th><td>23590</td><td>30.70016</td></tr>\n",
              "</tbody>\n",
              "</table>\n"
            ]
          },
          "metadata": {
            "tags": []
          }
        }
      ]
    },
    {
      "cell_type": "code",
      "metadata": {
        "id": "fyvZDFYH9_Yh",
        "outputId": "d473d29e-03c6-42da-9206-800cb34adb05",
        "colab": {
          "base_uri": "https://localhost:8080/",
          "height": 99
        }
      },
      "source": [
        "rownames(dist_freq_qualitativas) <- c('Masculino', 'Feminino')\n",
        "dist_freq_qualitativas"
      ],
      "execution_count": null,
      "outputs": [
        {
          "output_type": "display_data",
          "data": {
            "text/plain": [
              "          Frequência Porcentagem (%)\n",
              "Masculino 53250      69.29984       \n",
              "Feminino  23590      30.70016       "
            ],
            "text/latex": "A matrix: 2 × 2 of type dbl\n\\begin{tabular}{r|ll}\n  & Frequência & Porcentagem (\\%)\\\\\n\\hline\n\tMasculino & 53250 & 69.29984\\\\\n\tFeminino & 23590 & 30.70016\\\\\n\\end{tabular}\n",
            "text/markdown": "\nA matrix: 2 × 2 of type dbl\n\n| <!--/--> | Frequência | Porcentagem (%) |\n|---|---|---|\n| Masculino | 53250 | 69.29984 |\n| Feminino | 23590 | 30.70016 |\n\n",
            "text/html": [
              "<table>\n",
              "<caption>A matrix: 2 × 2 of type dbl</caption>\n",
              "<thead>\n",
              "\t<tr><th></th><th scope=col>Frequência</th><th scope=col>Porcentagem (%)</th></tr>\n",
              "</thead>\n",
              "<tbody>\n",
              "\t<tr><th scope=row>Masculino</th><td>53250</td><td>69.29984</td></tr>\n",
              "\t<tr><th scope=row>Feminino</th><td>23590</td><td>30.70016</td></tr>\n",
              "</tbody>\n",
              "</table>\n"
            ]
          },
          "metadata": {
            "tags": []
          }
        }
      ]
    },
    {
      "cell_type": "markdown",
      "metadata": {
        "id": "D82ocp_djQLR"
      },
      "source": [
        "### Método 2"
      ]
    },
    {
      "cell_type": "markdown",
      "metadata": {
        "id": "HGPpfDKi9_Yl"
      },
      "source": [
        "### <font color=red>Documentações:\n",
        "\n",
        "- [**tapply**](https://www.rdocumentation.org/packages/base/versions/3.6.1/topics/tapply)"
      ]
    },
    {
      "cell_type": "code",
      "metadata": {
        "id": "JDwcfDTw9_Ym",
        "outputId": "ca08c696-8bec-4c78-f787-2f6c587603db",
        "colab": {
          "base_uri": "https://localhost:8080/",
          "height": 85
        }
      },
      "source": [
        "frequencia <- table(dados$Sexo, dados$Cor)\n",
        "frequencia"
      ],
      "execution_count": null,
      "outputs": [
        {
          "output_type": "display_data",
          "data": {
            "text/plain": [
              "   \n",
              "        0     2     4     6     8\n",
              "  0   256 22194  5502   235 25063\n",
              "  1   101  9621  2889   117 10862"
            ]
          },
          "metadata": {
            "tags": []
          }
        }
      ]
    },
    {
      "cell_type": "code",
      "metadata": {
        "id": "d8XMZiEfjQLS",
        "outputId": "933d05ba-52ec-4a49-e861-d0f521e5ebd9",
        "colab": {
          "base_uri": "https://localhost:8080/",
          "height": 85
        }
      },
      "source": [
        "rownames(frequencia) <- c('Masculino', 'Feminino')\n",
        "colnames(frequencia) <- c('Indígena', 'Branca', 'Preta', 'Amarela', 'Parda')\n",
        "frequencia"
      ],
      "execution_count": null,
      "outputs": [
        {
          "output_type": "display_data",
          "data": {
            "text/plain": [
              "           \n",
              "            Indígena Branca Preta Amarela Parda\n",
              "  Masculino      256  22194  5502     235 25063\n",
              "  Feminino       101   9621  2889     117 10862"
            ]
          },
          "metadata": {
            "tags": []
          }
        }
      ]
    },
    {
      "cell_type": "code",
      "metadata": {
        "id": "YLCyOKYcjQLU",
        "outputId": "ba93b31f-57f0-44f0-a2b8-6234a4106cd8",
        "colab": {
          "base_uri": "https://localhost:8080/",
          "height": 85
        }
      },
      "source": [
        "percentual <- prop.table(frequencia) * 100\n",
        "percentual"
      ],
      "execution_count": null,
      "outputs": [
        {
          "output_type": "display_data",
          "data": {
            "text/plain": [
              "           \n",
              "              Indígena     Branca      Preta    Amarela      Parda\n",
              "  Masculino  0.3331598 28.8833941  7.1603332  0.3058303 32.6171265\n",
              "  Feminino   0.1314420 12.5208225  3.7597605  0.1522644 14.1358667"
            ]
          },
          "metadata": {
            "tags": []
          }
        }
      ]
    },
    {
      "cell_type": "code",
      "metadata": {
        "id": "GnIKzecC9_Yx",
        "outputId": "8d76ff7c-906b-4e69-f7d3-effb256c5c9b",
        "colab": {
          "base_uri": "https://localhost:8080/",
          "height": 79
        }
      },
      "source": [
        "list(c(1, 2, 3, 4), c(5, 6, 7))"
      ],
      "execution_count": null,
      "outputs": [
        {
          "output_type": "display_data",
          "data": {
            "text/plain": [
              "[[1]]\n",
              "[1] 1 2 3 4\n",
              "\n",
              "[[2]]\n",
              "[1] 5 6 7\n"
            ],
            "text/latex": "\\begin{enumerate}\n\\item \\begin{enumerate*}\n\\item 1\n\\item 2\n\\item 3\n\\item 4\n\\end{enumerate*}\n\n\\item \\begin{enumerate*}\n\\item 5\n\\item 6\n\\item 7\n\\end{enumerate*}\n\n\\end{enumerate}\n",
            "text/markdown": "1. 1. 1\n2. 2\n3. 3\n4. 4\n\n\n\n2. 1. 5\n2. 6\n3. 7\n\n\n\n\n\n",
            "text/html": [
              "<ol>\n",
              "\t<li><style>\n",
              ".list-inline {list-style: none; margin:0; padding: 0}\n",
              ".list-inline>li {display: inline-block}\n",
              ".list-inline>li:not(:last-child)::after {content: \"\\00b7\"; padding: 0 .5ex}\n",
              "</style>\n",
              "<ol class=list-inline><li>1</li><li>2</li><li>3</li><li>4</li></ol>\n",
              "</li>\n",
              "\t<li><style>\n",
              ".list-inline {list-style: none; margin:0; padding: 0}\n",
              ".list-inline>li {display: inline-block}\n",
              ".list-inline>li:not(:last-child)::after {content: \"\\00b7\"; padding: 0 .5ex}\n",
              "</style>\n",
              "<ol class=list-inline><li>5</li><li>6</li><li>7</li></ol>\n",
              "</li>\n",
              "</ol>\n"
            ]
          },
          "metadata": {
            "tags": []
          }
        }
      ]
    },
    {
      "cell_type": "code",
      "metadata": {
        "id": "GPu08ioE9_Y1",
        "outputId": "65f11300-b469-4496-bca1-7e26a7ab0dbc",
        "colab": {
          "base_uri": "https://localhost:8080/",
          "height": 99
        }
      },
      "source": [
        "medias <- tapply(dados$Renda, list(dados$Sexo, dados$Cor), mean)\n",
        "rownames(medias) <- c('Masculino', 'Feminino')\n",
        "colnames(medias) <- c('Indígena', 'Branca', 'Preta', 'Amarela', 'Parda')\n",
        "medias"
      ],
      "execution_count": null,
      "outputs": [
        {
          "output_type": "display_data",
          "data": {
            "text/plain": [
              "          Indígena Branca   Preta    Amarela  Parda   \n",
              "Masculino 1081.711 2925.744 1603.862 4758.251 1659.577\n",
              "Feminino  2464.386 2109.867 1134.596 3027.342 1176.759"
            ],
            "text/latex": "A matrix: 2 × 5 of type dbl\n\\begin{tabular}{r|lllll}\n  & Indígena & Branca & Preta & Amarela & Parda\\\\\n\\hline\n\tMasculino & 1081.711 & 2925.744 & 1603.862 & 4758.251 & 1659.577\\\\\n\tFeminino & 2464.386 & 2109.867 & 1134.596 & 3027.342 & 1176.759\\\\\n\\end{tabular}\n",
            "text/markdown": "\nA matrix: 2 × 5 of type dbl\n\n| <!--/--> | Indígena | Branca | Preta | Amarela | Parda |\n|---|---|---|---|---|---|\n| Masculino | 1081.711 | 2925.744 | 1603.862 | 4758.251 | 1659.577 |\n| Feminino | 2464.386 | 2109.867 | 1134.596 | 3027.342 | 1176.759 |\n\n",
            "text/html": [
              "<table>\n",
              "<caption>A matrix: 2 × 5 of type dbl</caption>\n",
              "<thead>\n",
              "\t<tr><th></th><th scope=col>Indígena</th><th scope=col>Branca</th><th scope=col>Preta</th><th scope=col>Amarela</th><th scope=col>Parda</th></tr>\n",
              "</thead>\n",
              "<tbody>\n",
              "\t<tr><th scope=row>Masculino</th><td>1081.711</td><td>2925.744</td><td>1603.862</td><td>4758.251</td><td>1659.577</td></tr>\n",
              "\t<tr><th scope=row>Feminino</th><td>2464.386</td><td>2109.867</td><td>1134.596</td><td>3027.342</td><td>1176.759</td></tr>\n",
              "</tbody>\n",
              "</table>\n"
            ]
          },
          "metadata": {
            "tags": []
          }
        }
      ]
    },
    {
      "cell_type": "markdown",
      "metadata": {
        "id": "eaXQUxnXjQLa"
      },
      "source": [
        "## <font color=green>2.2 Distribuição de frequências para variáveis quantitativas (classes personalizadas)</font>\n",
        "***"
      ]
    },
    {
      "cell_type": "markdown",
      "metadata": {
        "id": "kuRb2eZZ9_Y4"
      },
      "source": [
        "### <font color=red>Documentações:\n",
        "\n",
        "- [**cut**](https://www.rdocumentation.org/packages/base/versions/3.6.1/topics/cut)\n",
        "- [**order**](https://www.rdocumentation.org/packages/base/versions/3.6.1/topics/order)\n",
        "- [**row.names**](https://www.rdocumentation.org/packages/base/versions/3.6.1/topics/row.names)"
      ]
    },
    {
      "cell_type": "markdown",
      "metadata": {
        "id": "wxsSD-VVjQLb"
      },
      "source": [
        "### Passo 1 - Especificar os limites de cada classe\n",
        "\n",
        "Utilizar a seguinte classificação:\n",
        "\n",
        "<b>A</b> ► Acima de 20 SM\n",
        "\n",
        "<b>B</b> ► De 10 a 20 SM\n",
        "\n",
        "<b>C</b> ► De 4 a 10 SM\n",
        "\n",
        "<b>D</b> ► De 2 a 4 SM\n",
        "\n",
        "<b>E</b> ► Até 2 SM\n",
        "\n",
        "onde <b>SM</b> é o valor do salário mínimo na época. Em nosso caso <b>R$ 788,00</b> (2015):\n",
        "\n",
        "<b>A</b> ► Acima de 15.760\n",
        "\n",
        "<b>B</b> ► De 7.880 a 15.760\n",
        "\n",
        "<b>C</b> ► De 3.152 a 7.880\n",
        "\n",
        "<b>D</b> ► De 1.576 a 3.152\n",
        "\n",
        "<b>E</b> ► Até 1.576\n"
      ]
    },
    {
      "cell_type": "code",
      "metadata": {
        "id": "Z08790GUjQLc",
        "outputId": "e3423820-4165-4b52-fecd-02f73bc9a7fc",
        "colab": {
          "base_uri": "https://localhost:8080/",
          "height": 34
        }
      },
      "source": [
        "min(dados$Renda)"
      ],
      "execution_count": null,
      "outputs": [
        {
          "output_type": "display_data",
          "data": {
            "text/plain": [
              "[1] 0"
            ],
            "text/latex": "0",
            "text/markdown": "0",
            "text/html": [
              "0"
            ]
          },
          "metadata": {
            "tags": []
          }
        }
      ]
    },
    {
      "cell_type": "code",
      "metadata": {
        "id": "5q2V5-0FjQLe",
        "outputId": "52dde278-ec94-4a7d-f846-316d6e17cfcc",
        "colab": {
          "base_uri": "https://localhost:8080/",
          "height": 34
        }
      },
      "source": [
        "max(dados$Renda)"
      ],
      "execution_count": null,
      "outputs": [
        {
          "output_type": "display_data",
          "data": {
            "text/plain": [
              "[1] 200000"
            ],
            "text/latex": "200000",
            "text/markdown": "200000",
            "text/html": [
              "200000"
            ]
          },
          "metadata": {
            "tags": []
          }
        }
      ]
    },
    {
      "cell_type": "code",
      "metadata": {
        "id": "Qt5F5w2UjQLg"
      },
      "source": [
        "classes <- c(0, 1576, 3152, 7880, 15760, 200000)"
      ],
      "execution_count": null,
      "outputs": []
    },
    {
      "cell_type": "code",
      "metadata": {
        "id": "DKPIGOLLjQLi"
      },
      "source": [
        "labels <- c('E', 'D', 'C', 'B', 'A')"
      ],
      "execution_count": null,
      "outputs": []
    },
    {
      "cell_type": "markdown",
      "metadata": {
        "id": "IQhlvrQUjQLk"
      },
      "source": [
        "### Passo 2 - Criar a tabela de frequências"
      ]
    },
    {
      "cell_type": "code",
      "metadata": {
        "id": "htJ_r7u69_ZM",
        "outputId": "e2250f4d-9345-48df-db3a-4ec5abd37898",
        "colab": {
          "base_uri": "https://localhost:8080/",
          "height": 68
        }
      },
      "source": [
        "frequencia <- table(\n",
        "  cut(\n",
        "    x = dados$Renda,\n",
        "    breaks = classes,\n",
        "    labels = labels,\n",
        "    include.lowest = TRUE\n",
        "  )\n",
        ")\n",
        "frequencia"
      ],
      "execution_count": null,
      "outputs": [
        {
          "output_type": "display_data",
          "data": {
            "text/plain": [
              "\n",
              "    E     D     C     B     A \n",
              "49755 16700  7599  2178   608 "
            ]
          },
          "metadata": {
            "tags": []
          }
        }
      ]
    },
    {
      "cell_type": "code",
      "metadata": {
        "id": "WrZ2m2GajQLo",
        "outputId": "2fe310c0-4492-42f0-eeff-be94d6bbf32a",
        "colab": {
          "base_uri": "https://localhost:8080/",
          "height": 68
        }
      },
      "source": [
        "percentual <- prop.table(frequencia) * 100\n",
        "percentual"
      ],
      "execution_count": null,
      "outputs": [
        {
          "output_type": "display_data",
          "data": {
            "text/plain": [
              "\n",
              "         E          D          C          B          A \n",
              "64.7514315 21.7334721  9.8893805  2.8344612  0.7912546 "
            ]
          },
          "metadata": {
            "tags": []
          }
        }
      ]
    },
    {
      "cell_type": "code",
      "metadata": {
        "id": "btKoxJDujQLp",
        "outputId": "b19a293a-4477-4420-b8f4-e19f2ef705f9",
        "colab": {
          "base_uri": "https://localhost:8080/",
          "height": 162
        }
      },
      "source": [
        "dist_freq_quantitativas_personalizadas = cbind(\"Frequência\" = frequencia, \"Porcentagem (%)\" = percentual)\n",
        "dist_freq_quantitativas_personalizadas"
      ],
      "execution_count": null,
      "outputs": [
        {
          "output_type": "display_data",
          "data": {
            "text/plain": [
              "  Frequência Porcentagem (%)\n",
              "E 49755      64.7514315     \n",
              "D 16700      21.7334721     \n",
              "C  7599       9.8893805     \n",
              "B  2178       2.8344612     \n",
              "A   608       0.7912546     "
            ],
            "text/latex": "A matrix: 5 × 2 of type dbl\n\\begin{tabular}{r|ll}\n  & Frequência & Porcentagem (\\%)\\\\\n\\hline\n\tE & 49755 & 64.7514315\\\\\n\tD & 16700 & 21.7334721\\\\\n\tC &  7599 &  9.8893805\\\\\n\tB &  2178 &  2.8344612\\\\\n\tA &   608 &  0.7912546\\\\\n\\end{tabular}\n",
            "text/markdown": "\nA matrix: 5 × 2 of type dbl\n\n| <!--/--> | Frequência | Porcentagem (%) |\n|---|---|---|\n| E | 49755 | 64.7514315 |\n| D | 16700 | 21.7334721 |\n| C |  7599 |  9.8893805 |\n| B |  2178 |  2.8344612 |\n| A |   608 |  0.7912546 |\n\n",
            "text/html": [
              "<table>\n",
              "<caption>A matrix: 5 × 2 of type dbl</caption>\n",
              "<thead>\n",
              "\t<tr><th></th><th scope=col>Frequência</th><th scope=col>Porcentagem (%)</th></tr>\n",
              "</thead>\n",
              "<tbody>\n",
              "\t<tr><th scope=row>E</th><td>49755</td><td>64.7514315</td></tr>\n",
              "\t<tr><th scope=row>D</th><td>16700</td><td>21.7334721</td></tr>\n",
              "\t<tr><th scope=row>C</th><td> 7599</td><td> 9.8893805</td></tr>\n",
              "\t<tr><th scope=row>B</th><td> 2178</td><td> 2.8344612</td></tr>\n",
              "\t<tr><th scope=row>A</th><td>  608</td><td> 0.7912546</td></tr>\n",
              "</tbody>\n",
              "</table>\n"
            ]
          },
          "metadata": {
            "tags": []
          }
        }
      ]
    },
    {
      "cell_type": "code",
      "metadata": {
        "id": "uTMEJXUHjQLs",
        "outputId": "d4b2f87c-4a70-46fb-82a2-b5fa93ff62ee",
        "colab": {
          "base_uri": "https://localhost:8080/",
          "height": 162
        }
      },
      "source": [
        "dist_freq_quantitativas_personalizadas[\n",
        "  order(row.names(dist_freq_quantitativas_personalizadas)),\n",
        "]"
      ],
      "execution_count": null,
      "outputs": [
        {
          "output_type": "display_data",
          "data": {
            "text/plain": [
              "  Frequência Porcentagem (%)\n",
              "A   608       0.7912546     \n",
              "B  2178       2.8344612     \n",
              "C  7599       9.8893805     \n",
              "D 16700      21.7334721     \n",
              "E 49755      64.7514315     "
            ],
            "text/latex": "A matrix: 5 × 2 of type dbl\n\\begin{tabular}{r|ll}\n  & Frequência & Porcentagem (\\%)\\\\\n\\hline\n\tA &   608 &  0.7912546\\\\\n\tB &  2178 &  2.8344612\\\\\n\tC &  7599 &  9.8893805\\\\\n\tD & 16700 & 21.7334721\\\\\n\tE & 49755 & 64.7514315\\\\\n\\end{tabular}\n",
            "text/markdown": "\nA matrix: 5 × 2 of type dbl\n\n| <!--/--> | Frequência | Porcentagem (%) |\n|---|---|---|\n| A |   608 |  0.7912546 |\n| B |  2178 |  2.8344612 |\n| C |  7599 |  9.8893805 |\n| D | 16700 | 21.7334721 |\n| E | 49755 | 64.7514315 |\n\n",
            "text/html": [
              "<table>\n",
              "<caption>A matrix: 5 × 2 of type dbl</caption>\n",
              "<thead>\n",
              "\t<tr><th></th><th scope=col>Frequência</th><th scope=col>Porcentagem (%)</th></tr>\n",
              "</thead>\n",
              "<tbody>\n",
              "\t<tr><th scope=row>A</th><td>  608</td><td> 0.7912546</td></tr>\n",
              "\t<tr><th scope=row>B</th><td> 2178</td><td> 2.8344612</td></tr>\n",
              "\t<tr><th scope=row>C</th><td> 7599</td><td> 9.8893805</td></tr>\n",
              "\t<tr><th scope=row>D</th><td>16700</td><td>21.7334721</td></tr>\n",
              "\t<tr><th scope=row>E</th><td>49755</td><td>64.7514315</td></tr>\n",
              "</tbody>\n",
              "</table>\n"
            ]
          },
          "metadata": {
            "tags": []
          }
        }
      ]
    },
    {
      "cell_type": "markdown",
      "metadata": {
        "id": "ViJYvvjujQLu"
      },
      "source": [
        "## <font color=green>2.3 Distribuição de frequências para variáveis quantitativas (classes de amplitude fixa)</font>\n",
        "***"
      ]
    },
    {
      "cell_type": "markdown",
      "metadata": {
        "id": "Ha3OUYU39_Zj"
      },
      "source": [
        "### <font color=red>Documentações:\n",
        "\n",
        "- [**nrow**](https://www.rdocumentation.org/packages/base/versions/3.6.1/topics/nrow)\n",
        "- [**log**](https://www.rdocumentation.org/packages/base/versions/3.6.1/topics/log)\n",
        "- [**round**](https://www.rdocumentation.org/packages/base/versions/3.6.1/topics/Round)"
      ]
    },
    {
      "cell_type": "markdown",
      "metadata": {
        "id": "s9UGNaMzjQLy"
      },
      "source": [
        "### Passo 1 - Definindo o número de classes"
      ]
    },
    {
      "cell_type": "markdown",
      "metadata": {
        "id": "p268tvNHjQLy"
      },
      "source": [
        "#### Regra de Sturges\n",
        "\n",
        "# $$k = 1 + \\frac {10}{3}\\log_{10}n$$"
      ]
    },
    {
      "cell_type": "code",
      "metadata": {
        "id": "wgLH6gGqjQLz",
        "outputId": "acb55824-e93b-4fa5-f92c-db4daa1d8140",
        "colab": {
          "base_uri": "https://localhost:8080/",
          "height": 34
        }
      },
      "source": [
        "n <- nrow(dados)\n",
        "n"
      ],
      "execution_count": null,
      "outputs": [
        {
          "output_type": "display_data",
          "data": {
            "text/plain": [
              "[1] 76840"
            ],
            "text/latex": "76840",
            "text/markdown": "76840",
            "text/html": [
              "76840"
            ]
          },
          "metadata": {
            "tags": []
          }
        }
      ]
    },
    {
      "cell_type": "code",
      "metadata": {
        "id": "uTuVep-8jQL0",
        "outputId": "4e089094-b58d-4ac5-bb7b-f3c72d03afce",
        "colab": {
          "base_uri": "https://localhost:8080/",
          "height": 34
        }
      },
      "source": [
        "k <- 1 + (10 / 3) * log10(n)\n",
        "k"
      ],
      "execution_count": null,
      "outputs": [
        {
          "output_type": "display_data",
          "data": {
            "text/plain": [
              "[1] 17.28529"
            ],
            "text/latex": "17.2852911872989",
            "text/markdown": "17.2852911872989",
            "text/html": [
              "17.2852911872989"
            ]
          },
          "metadata": {
            "tags": []
          }
        }
      ]
    },
    {
      "cell_type": "code",
      "metadata": {
        "id": "B_Y66_KFjQL4",
        "outputId": "f7550734-b61a-4d91-f0a2-45229d59633b",
        "colab": {
          "base_uri": "https://localhost:8080/",
          "height": 34
        }
      },
      "source": [
        "k <- round(k)\n",
        "k"
      ],
      "execution_count": null,
      "outputs": [
        {
          "output_type": "display_data",
          "data": {
            "text/plain": [
              "[1] 17"
            ],
            "text/latex": "17",
            "text/markdown": "17",
            "text/html": [
              "17"
            ]
          },
          "metadata": {
            "tags": []
          }
        }
      ]
    },
    {
      "cell_type": "markdown",
      "metadata": {
        "id": "5eO-RhaljQL6"
      },
      "source": [
        "### Passo 2 - Criar a tabela de frequências"
      ]
    },
    {
      "cell_type": "code",
      "metadata": {
        "id": "6AmJnDp79_Z5"
      },
      "source": [
        "labels <- c(\n",
        "    '      0.00 |—|  11,764.70', \n",
        "    ' 11,764.70  —|  23,529.40', \n",
        "    ' 23,529.40  —|  35,294.10', \n",
        "    ' 35,294.10  —|  47,058.80', \n",
        "    ' 47,058.80  —|  58,823.50', \n",
        "    ' 58,823.50  —|  70,588.20', \n",
        "    ' 70,588.20  —|  82,352.90', \n",
        "    ' 82,352.90  —|  94,117.60', \n",
        "    ' 94,117.60  —| 105,882.00', \n",
        "    '105,882.00  —| 117,647.00', \n",
        "    '117,647.00  —| 129,412.00', \n",
        "    '129,412.00  —| 141,176.00', \n",
        "    '141,176.00  —| 152,941.00', \n",
        "    '152,941.00  —| 164,706.00', \n",
        "    '164,706.00  —| 176,471.00', \n",
        "    '176,471.00  —| 188,235.00', \n",
        "    '188,235.00  —| 200,000.00'\n",
        ")"
      ],
      "execution_count": null,
      "outputs": []
    },
    {
      "cell_type": "code",
      "metadata": {
        "id": "sVVA-jvDjQL7",
        "outputId": "68457fe8-08b4-4095-e720-5f8416e3b2ae",
        "colab": {
          "base_uri": "https://localhost:8080/",
          "height": 238
        }
      },
      "source": [
        "frequencia <- table(\n",
        "  cut(\n",
        "    x = dados$Renda,\n",
        "    breaks = k,\n",
        "    labels = labels,\n",
        "    include.lowest = TRUE\n",
        "  )\n",
        ")\n",
        "frequencia"
      ],
      "execution_count": null,
      "outputs": [
        {
          "output_type": "display_data",
          "data": {
            "text/plain": [
              "\n",
              "      0.00 |—|  11,764.70  11,764.70  —|  23,529.40  23,529.40  —|  35,294.10 \n",
              "                    75594                      1022                       169 \n",
              " 35,294.10  —|  47,058.80  47,058.80  —|  58,823.50  58,823.50  —|  70,588.20 \n",
              "                       19                        16                         5 \n",
              " 70,588.20  —|  82,352.90  82,352.90  —|  94,117.60  94,117.60  —| 105,882.00 \n",
              "                        4                         1                         6 \n",
              "105,882.00  —| 117,647.00 117,647.00  —| 129,412.00 129,412.00  —| 141,176.00 \n",
              "                        0                         1                         0 \n",
              "141,176.00  —| 152,941.00 152,941.00  —| 164,706.00 164,706.00  —| 176,471.00 \n",
              "                        0                         0                         0 \n",
              "176,471.00  —| 188,235.00 188,235.00  —| 200,000.00 \n",
              "                        0                         3 "
            ]
          },
          "metadata": {
            "tags": []
          }
        }
      ]
    },
    {
      "cell_type": "code",
      "metadata": {
        "id": "-ylxSip1jQL9",
        "outputId": "98cfb57b-d3af-4e72-b963-ee2688b07874",
        "colab": {
          "base_uri": "https://localhost:8080/",
          "height": 238
        }
      },
      "source": [
        "percentual <- prop.table(frequencia) * 100\n",
        "percentual"
      ],
      "execution_count": null,
      "outputs": [
        {
          "output_type": "display_data",
          "data": {
            "text/plain": [
              "\n",
              "      0.00 |—|  11,764.70  11,764.70  —|  23,529.40  23,529.40  —|  35,294.10 \n",
              "             98.378448725               1.330036439               0.219937533 \n",
              " 35,294.10  —|  47,058.80  47,058.80  —|  58,823.50  58,823.50  —|  70,588.20 \n",
              "              0.024726705               0.020822488               0.006507028 \n",
              " 70,588.20  —|  82,352.90  82,352.90  —|  94,117.60  94,117.60  —| 105,882.00 \n",
              "              0.005205622               0.001301406               0.007808433 \n",
              "105,882.00  —| 117,647.00 117,647.00  —| 129,412.00 129,412.00  —| 141,176.00 \n",
              "              0.000000000               0.001301406               0.000000000 \n",
              "141,176.00  —| 152,941.00 152,941.00  —| 164,706.00 164,706.00  —| 176,471.00 \n",
              "              0.000000000               0.000000000               0.000000000 \n",
              "176,471.00  —| 188,235.00 188,235.00  —| 200,000.00 \n",
              "              0.000000000               0.003904217 "
            ]
          },
          "metadata": {
            "tags": []
          }
        }
      ]
    },
    {
      "cell_type": "code",
      "metadata": {
        "id": "n9kkJ0WTjQL_",
        "outputId": "faef2415-d5d0-4dda-9933-bd72f0a72b70",
        "colab": {
          "base_uri": "https://localhost:8080/",
          "height": 414
        }
      },
      "source": [
        "dist_freq_quantitativas_amplitude_fixa <- cbind(\"Frequência\" = frequencia, \"Porcentagem (%)\" = percentual)\n",
        "dist_freq_quantitativas_amplitude_fixa"
      ],
      "execution_count": null,
      "outputs": [
        {
          "output_type": "display_data",
          "data": {
            "text/plain": [
              "                          Frequência Porcentagem (%)\n",
              "      0.00 |—|  11,764.70 75594      98.378448725   \n",
              " 11,764.70  —|  23,529.40  1022       1.330036439   \n",
              " 23,529.40  —|  35,294.10   169       0.219937533   \n",
              " 35,294.10  —|  47,058.80    19       0.024726705   \n",
              " 47,058.80  —|  58,823.50    16       0.020822488   \n",
              " 58,823.50  —|  70,588.20     5       0.006507028   \n",
              " 70,588.20  —|  82,352.90     4       0.005205622   \n",
              " 82,352.90  —|  94,117.60     1       0.001301406   \n",
              " 94,117.60  —| 105,882.00     6       0.007808433   \n",
              "105,882.00  —| 117,647.00     0       0.000000000   \n",
              "117,647.00  —| 129,412.00     1       0.001301406   \n",
              "129,412.00  —| 141,176.00     0       0.000000000   \n",
              "141,176.00  —| 152,941.00     0       0.000000000   \n",
              "152,941.00  —| 164,706.00     0       0.000000000   \n",
              "164,706.00  —| 176,471.00     0       0.000000000   \n",
              "176,471.00  —| 188,235.00     0       0.000000000   \n",
              "188,235.00  —| 200,000.00     3       0.003904217   "
            ],
            "text/latex": "A matrix: 17 × 2 of type dbl\n\\begin{tabular}{r|ll}\n  & Frequência & Porcentagem (\\%)\\\\\n\\hline\n\t      0.00 \\textbar{}—\\textbar{}  11,764.70 & 75594 & 98.378448725\\\\\n\t 11,764.70  —\\textbar{}  23,529.40 &  1022 &  1.330036439\\\\\n\t 23,529.40  —\\textbar{}  35,294.10 &   169 &  0.219937533\\\\\n\t 35,294.10  —\\textbar{}  47,058.80 &    19 &  0.024726705\\\\\n\t 47,058.80  —\\textbar{}  58,823.50 &    16 &  0.020822488\\\\\n\t 58,823.50  —\\textbar{}  70,588.20 &     5 &  0.006507028\\\\\n\t 70,588.20  —\\textbar{}  82,352.90 &     4 &  0.005205622\\\\\n\t 82,352.90  —\\textbar{}  94,117.60 &     1 &  0.001301406\\\\\n\t 94,117.60  —\\textbar{} 105,882.00 &     6 &  0.007808433\\\\\n\t105,882.00  —\\textbar{} 117,647.00 &     0 &  0.000000000\\\\\n\t117,647.00  —\\textbar{} 129,412.00 &     1 &  0.001301406\\\\\n\t129,412.00  —\\textbar{} 141,176.00 &     0 &  0.000000000\\\\\n\t141,176.00  —\\textbar{} 152,941.00 &     0 &  0.000000000\\\\\n\t152,941.00  —\\textbar{} 164,706.00 &     0 &  0.000000000\\\\\n\t164,706.00  —\\textbar{} 176,471.00 &     0 &  0.000000000\\\\\n\t176,471.00  —\\textbar{} 188,235.00 &     0 &  0.000000000\\\\\n\t188,235.00  —\\textbar{} 200,000.00 &     3 &  0.003904217\\\\\n\\end{tabular}\n",
            "text/markdown": "\nA matrix: 17 × 2 of type dbl\n\n| <!--/--> | Frequência | Porcentagem (%) |\n|---|---|---|\n|       0.00 |—|  11,764.70 | 75594 | 98.378448725 |\n|  11,764.70  —|  23,529.40 |  1022 |  1.330036439 |\n|  23,529.40  —|  35,294.10 |   169 |  0.219937533 |\n|  35,294.10  —|  47,058.80 |    19 |  0.024726705 |\n|  47,058.80  —|  58,823.50 |    16 |  0.020822488 |\n|  58,823.50  —|  70,588.20 |     5 |  0.006507028 |\n|  70,588.20  —|  82,352.90 |     4 |  0.005205622 |\n|  82,352.90  —|  94,117.60 |     1 |  0.001301406 |\n|  94,117.60  —| 105,882.00 |     6 |  0.007808433 |\n| 105,882.00  —| 117,647.00 |     0 |  0.000000000 |\n| 117,647.00  —| 129,412.00 |     1 |  0.001301406 |\n| 129,412.00  —| 141,176.00 |     0 |  0.000000000 |\n| 141,176.00  —| 152,941.00 |     0 |  0.000000000 |\n| 152,941.00  —| 164,706.00 |     0 |  0.000000000 |\n| 164,706.00  —| 176,471.00 |     0 |  0.000000000 |\n| 176,471.00  —| 188,235.00 |     0 |  0.000000000 |\n| 188,235.00  —| 200,000.00 |     3 |  0.003904217 |\n\n",
            "text/html": [
              "<table>\n",
              "<caption>A matrix: 17 × 2 of type dbl</caption>\n",
              "<thead>\n",
              "\t<tr><th></th><th scope=col>Frequência</th><th scope=col>Porcentagem (%)</th></tr>\n",
              "</thead>\n",
              "<tbody>\n",
              "\t<tr><th scope=row>      0.00 |—|  11,764.70</th><td>75594</td><td>98.378448725</td></tr>\n",
              "\t<tr><th scope=row> 11,764.70  —|  23,529.40</th><td> 1022</td><td> 1.330036439</td></tr>\n",
              "\t<tr><th scope=row> 23,529.40  —|  35,294.10</th><td>  169</td><td> 0.219937533</td></tr>\n",
              "\t<tr><th scope=row> 35,294.10  —|  47,058.80</th><td>   19</td><td> 0.024726705</td></tr>\n",
              "\t<tr><th scope=row> 47,058.80  —|  58,823.50</th><td>   16</td><td> 0.020822488</td></tr>\n",
              "\t<tr><th scope=row> 58,823.50  —|  70,588.20</th><td>    5</td><td> 0.006507028</td></tr>\n",
              "\t<tr><th scope=row> 70,588.20  —|  82,352.90</th><td>    4</td><td> 0.005205622</td></tr>\n",
              "\t<tr><th scope=row> 82,352.90  —|  94,117.60</th><td>    1</td><td> 0.001301406</td></tr>\n",
              "\t<tr><th scope=row> 94,117.60  —| 105,882.00</th><td>    6</td><td> 0.007808433</td></tr>\n",
              "\t<tr><th scope=row>105,882.00  —| 117,647.00</th><td>    0</td><td> 0.000000000</td></tr>\n",
              "\t<tr><th scope=row>117,647.00  —| 129,412.00</th><td>    1</td><td> 0.001301406</td></tr>\n",
              "\t<tr><th scope=row>129,412.00  —| 141,176.00</th><td>    0</td><td> 0.000000000</td></tr>\n",
              "\t<tr><th scope=row>141,176.00  —| 152,941.00</th><td>    0</td><td> 0.000000000</td></tr>\n",
              "\t<tr><th scope=row>152,941.00  —| 164,706.00</th><td>    0</td><td> 0.000000000</td></tr>\n",
              "\t<tr><th scope=row>164,706.00  —| 176,471.00</th><td>    0</td><td> 0.000000000</td></tr>\n",
              "\t<tr><th scope=row>176,471.00  —| 188,235.00</th><td>    0</td><td> 0.000000000</td></tr>\n",
              "\t<tr><th scope=row>188,235.00  —| 200,000.00</th><td>    3</td><td> 0.003904217</td></tr>\n",
              "</tbody>\n",
              "</table>\n"
            ]
          },
          "metadata": {
            "tags": []
          }
        }
      ]
    },
    {
      "cell_type": "markdown",
      "metadata": {
        "id": "Js9iLwNkjQME"
      },
      "source": [
        "## <font color=green>2.4 Histograma</font>\n",
        "***\n",
        "\n",
        "O <b>HISTOGRAMA</b> é a representação gráfica de uma distribuição de frequências. É um gráfico formado por um conjunto de retângulos colocados lado a lado, onde a área de cada retângulo é proporcional à frequência da classe que ele representa."
      ]
    },
    {
      "cell_type": "markdown",
      "metadata": {
        "id": "EzbtUG8K9_aJ"
      },
      "source": [
        "### <font color=red>Documentações:\n",
        "\n",
        "- [***package* graphics**](https://www.rdocumentation.org/packages/graphics)\n",
        "- [**hist**](https://www.rdocumentation.org/packages/graphics/versions/3.6.1/topics/hist)\n",
        "- [***package* ggplot2**](https://www.rdocumentation.org/packages/ggplot2)\n",
        "- [**data.frame**](https://www.rdocumentation.org/packages/base/versions/3.6.1/topics/data.frame)"
      ]
    },
    {
      "cell_type": "code",
      "metadata": {
        "id": "ghUydsD69_aK"
      },
      "source": [
        "options(repr.plot.width = 7, repr.plot.height = 4)"
      ],
      "execution_count": null,
      "outputs": []
    },
    {
      "cell_type": "code",
      "metadata": {
        "id": "PYRaBCnxjQME",
        "outputId": "05b8dfc4-cf0d-4926-81a5-bcc9bceca948",
        "colab": {
          "base_uri": "https://localhost:8080/",
          "height": 257
        }
      },
      "source": [
        "hist(dados$Altura)"
      ],
      "execution_count": null,
      "outputs": [
        {
          "output_type": "display_data",
          "data": {
            "image/png": "[encoded data removed]",
            "text/plain": [
              "Plot with title “Histogram of dados$Altura”"
            ]
          },
          "metadata": {
            "tags": [],
            "image/png": {
              "width": 420,
              "height": 240
            }
          }
        }
      ]
    },
    {
      "cell_type": "code",
      "metadata": {
        "id": "AK2PFffm9_aS",
        "outputId": "49f290b8-c69b-44b3-a631-8afb9c1f9128",
        "colab": {
          "base_uri": "https://localhost:8080/",
          "height": 257
        }
      },
      "source": [
        "hist(\n",
        "    x = dados$Altura,\n",
        "    breaks = 'Sturges',\n",
        "    col = 'lightblue',\n",
        "    main = 'Histograma das Alturas',\n",
        "    xlab = 'Altura',\n",
        "    ylab = 'Frequências',\n",
        "    prob = TRUE,\n",
        "    las = 1\n",
        ")"
      ],
      "execution_count": null,
      "outputs": [
        {
          "output_type": "display_data",
          "data": {
            "image/png": "[encoded data removed]",
            "text/plain": [
              "Plot with title “Histograma das Alturas”"
            ]
          },
          "metadata": {
            "tags": [],
            "image/png": {
              "width": 420,
              "height": 240
            }
          }
        }
      ]
    },
    {
      "cell_type": "code",
      "metadata": {
        "id": "tZ4em9Ni9_aY"
      },
      "source": [
        "library(ggplot2)"
      ],
      "execution_count": null,
      "outputs": []
    },
    {
      "cell_type": "code",
      "metadata": {
        "id": "j8GpGa8V9_ag",
        "outputId": "d1fe883c-56ae-445c-f4fe-a2be95022347",
        "colab": {
          "base_uri": "https://localhost:8080/",
          "height": 257
        }
      },
      "source": [
        "ggplot(dados, aes(x = Altura)) + \n",
        "    geom_histogram(binwidth = 0.02, color = \"black\", alpha = 0.9) + \n",
        "    ylab(\"Frequência\") + \n",
        "    xlab(\"Alturas\") + \n",
        "    ggtitle('Histograma das Alturas') +\n",
        "    theme(\n",
        "        plot.title = element_text(size = 14, hjust = 0.5),\n",
        "        axis.title.y = element_text(size = 12, vjust = +0.2),\n",
        "        axis.title.x = element_text(size = 12, vjust = -0.2),\n",
        "        axis.text.y = element_text(size = 10),\n",
        "        axis.text.x = element_text(size = 10)\n",
        "    )"
      ],
      "execution_count": null,
      "outputs": [
        {
          "output_type": "display_data",
          "data": {
            "image/png": "[encoded data removed]",
            "text/plain": [
              "plot without title"
            ]
          },
          "metadata": {
            "tags": [],
            "image/png": {
              "width": 420,
              "height": 240
            }
          }
        }
      ]
    },
    {
      "cell_type": "code",
      "metadata": {
        "id": "h5zuJCYO9_al"
      },
      "source": [
        "formatos <- theme(\n",
        "        plot.title = element_text(size = 14, hjust = 0.5),\n",
        "        axis.title.y = element_text(size = 12, vjust = +0.2),\n",
        "        axis.title.x = element_text(size = 12, vjust = -0.2),\n",
        "        axis.text.y = element_text(size = 10),\n",
        "        axis.text.x = element_text(size = 10)\n",
        "    )"
      ],
      "execution_count": null,
      "outputs": []
    },
    {
      "cell_type": "code",
      "metadata": {
        "id": "krXQWwge9_ap",
        "outputId": "03c2d032-bdec-41d3-f1ff-db36274a39d7",
        "colab": {
          "base_uri": "https://localhost:8080/",
          "height": 257
        }
      },
      "source": [
        "ggplot(dados, aes(x = Altura, y = ..density..)) + \n",
        "    geom_histogram(binwidth = 0.02, color = \"black\", alpha = 0.9) + \n",
        "    geom_density(color = 'green') +\n",
        "    ylab(\"Frequência\") + \n",
        "    xlab(\"Alturas\") + \n",
        "    ggtitle('Histograma das Alturas') +\n",
        "    formatos"
      ],
      "execution_count": null,
      "outputs": [
        {
          "output_type": "display_data",
          "data": {
            "image/png": "[encoded data removed]",
            "text/plain": [
              "plot without title"
            ]
          },
          "metadata": {
            "tags": [],
            "image/png": {
              "width": 420,
              "height": 240
            }
          }
        }
      ]
    },
    {
      "cell_type": "code",
      "metadata": {
        "id": "0HcLhLYtjQMM",
        "outputId": "907e05e3-5f05-44bc-8964-a27120282fba",
        "colab": {
          "base_uri": "https://localhost:8080/",
          "height": 183
        }
      },
      "source": [
        "bar_chart <- data.frame(dist_freq_quantitativas_personalizadas)\n",
        "bar_chart"
      ],
      "execution_count": null,
      "outputs": [
        {
          "output_type": "display_data",
          "data": {
            "text/plain": [
              "  Frequência Porcentagem....\n",
              "E 49755      64.7514315     \n",
              "D 16700      21.7334721     \n",
              "C  7599       9.8893805     \n",
              "B  2178       2.8344612     \n",
              "A   608       0.7912546     "
            ],
            "text/latex": "A data.frame: 5 × 2\n\\begin{tabular}{r|ll}\n  & Frequência & Porcentagem....\\\\\n  & <dbl> & <dbl>\\\\\n\\hline\n\tE & 49755 & 64.7514315\\\\\n\tD & 16700 & 21.7334721\\\\\n\tC &  7599 &  9.8893805\\\\\n\tB &  2178 &  2.8344612\\\\\n\tA &   608 &  0.7912546\\\\\n\\end{tabular}\n",
            "text/markdown": "\nA data.frame: 5 × 2\n\n| <!--/--> | Frequência &lt;dbl&gt; | Porcentagem.... &lt;dbl&gt; |\n|---|---|---|\n| E | 49755 | 64.7514315 |\n| D | 16700 | 21.7334721 |\n| C |  7599 |  9.8893805 |\n| B |  2178 |  2.8344612 |\n| A |   608 |  0.7912546 |\n\n",
            "text/html": [
              "<table>\n",
              "<caption>A data.frame: 5 × 2</caption>\n",
              "<thead>\n",
              "\t<tr><th></th><th scope=col>Frequência</th><th scope=col>Porcentagem....</th></tr>\n",
              "\t<tr><th></th><th scope=col>&lt;dbl&gt;</th><th scope=col>&lt;dbl&gt;</th></tr>\n",
              "</thead>\n",
              "<tbody>\n",
              "\t<tr><th scope=row>E</th><td>49755</td><td>64.7514315</td></tr>\n",
              "\t<tr><th scope=row>D</th><td>16700</td><td>21.7334721</td></tr>\n",
              "\t<tr><th scope=row>C</th><td> 7599</td><td> 9.8893805</td></tr>\n",
              "\t<tr><th scope=row>B</th><td> 2178</td><td> 2.8344612</td></tr>\n",
              "\t<tr><th scope=row>A</th><td>  608</td><td> 0.7912546</td></tr>\n",
              "</tbody>\n",
              "</table>\n"
            ]
          },
          "metadata": {
            "tags": []
          }
        }
      ]
    },
    {
      "cell_type": "code",
      "metadata": {
        "id": "DqgmN7o-9_ax",
        "outputId": "9528f224-f852-48fd-f2a2-35e69c5e36e1",
        "colab": {
          "base_uri": "https://localhost:8080/",
          "height": 291
        }
      },
      "source": [
        "ggplot(bar_chart, aes(x = row.names(bar_chart), y = bar_chart$Frequência)) + \n",
        "    geom_bar(stat = \"identity\") + \n",
        "    ylab(\"Frequência\") + \n",
        "    xlab(\"Classes de Renda\") + \n",
        "    ggtitle('Gráfico Classes de Renda') +\n",
        "    formatos"
      ],
      "execution_count": null,
      "outputs": [
        {
          "output_type": "stream",
          "text": [
            "Warning message:\n",
            "“Use of `bar_chart$Frequência` is discouraged. Use `Frequência` instead.”\n"
          ],
          "name": "stderr"
        },
        {
          "output_type": "display_data",
          "data": {
            "image/png": "[encoded data removed]",
            "text/plain": [
              "plot without title"
            ]
          },
          "metadata": {
            "tags": [],
            "image/png": {
              "width": 420,
              "height": 240
            }
          }
        }
      ]
    },
    {
      "cell_type": "markdown",
      "metadata": {
        "id": "uIb17Es3jQMP"
      },
      "source": [
        "# <font color=green>3 MEDIDAS DE TENDÊNCIA CENTRAL</font>\n",
        "***"
      ]
    },
    {
      "cell_type": "markdown",
      "metadata": {
        "id": "Wrya4suEX7H-"
      },
      "source": [
        "## DataFrame de exemplo"
      ]
    },
    {
      "cell_type": "code",
      "metadata": {
        "id": "I4CJp2X89_a4"
      },
      "source": [
        "materias <- c('Matemática', 'Português', 'Inglês', 'Geografia', 'História', 'Física', 'Química')\n",
        "Fulano <- c(8, 10, 4, 8, 6, 10, 8)\n",
        "Beltrano <- c(10, 2, 0.5, 1, 3, 9.5, 10)\n",
        "Sicrano <- c(7.5, 8, 7, 8, 8, 8.5, 7)"
      ],
      "execution_count": null,
      "outputs": []
    },
    {
      "cell_type": "code",
      "metadata": {
        "id": "VNZCh2qc9_a6",
        "outputId": "a97c6d19-f82d-4406-b52c-0d62f75d8214",
        "colab": {
          "base_uri": "https://localhost:8080/",
          "height": 225
        }
      },
      "source": [
        "df <- data.frame(Fulano, Beltrano, Sicrano, row.names = materias)\n",
        "df"
      ],
      "execution_count": null,
      "outputs": [
        {
          "output_type": "display_data",
          "data": {
            "text/plain": [
              "           Fulano Beltrano Sicrano\n",
              "Matemática  8     10.0     7.5    \n",
              "Português  10      2.0     8.0    \n",
              "Inglês      4      0.5     7.0    \n",
              "Geografia   8      1.0     8.0    \n",
              "História    6      3.0     8.0    \n",
              "Física     10      9.5     8.5    \n",
              "Química     8     10.0     7.0    "
            ],
            "text/latex": "A data.frame: 7 × 3\n\\begin{tabular}{r|lll}\n  & Fulano & Beltrano & Sicrano\\\\\n  & <dbl> & <dbl> & <dbl>\\\\\n\\hline\n\tMatemática &  8 & 10.0 & 7.5\\\\\n\tPortuguês & 10 &  2.0 & 8.0\\\\\n\tInglês &  4 &  0.5 & 7.0\\\\\n\tGeografia &  8 &  1.0 & 8.0\\\\\n\tHistória &  6 &  3.0 & 8.0\\\\\n\tFísica & 10 &  9.5 & 8.5\\\\\n\tQuímica &  8 & 10.0 & 7.0\\\\\n\\end{tabular}\n",
            "text/markdown": "\nA data.frame: 7 × 3\n\n| <!--/--> | Fulano &lt;dbl&gt; | Beltrano &lt;dbl&gt; | Sicrano &lt;dbl&gt; |\n|---|---|---|---|\n| Matemática |  8 | 10.0 | 7.5 |\n| Português | 10 |  2.0 | 8.0 |\n| Inglês |  4 |  0.5 | 7.0 |\n| Geografia |  8 |  1.0 | 8.0 |\n| História |  6 |  3.0 | 8.0 |\n| Física | 10 |  9.5 | 8.5 |\n| Química |  8 | 10.0 | 7.0 |\n\n",
            "text/html": [
              "<table>\n",
              "<caption>A data.frame: 7 × 3</caption>\n",
              "<thead>\n",
              "\t<tr><th></th><th scope=col>Fulano</th><th scope=col>Beltrano</th><th scope=col>Sicrano</th></tr>\n",
              "\t<tr><th></th><th scope=col>&lt;dbl&gt;</th><th scope=col>&lt;dbl&gt;</th><th scope=col>&lt;dbl&gt;</th></tr>\n",
              "</thead>\n",
              "<tbody>\n",
              "\t<tr><th scope=row>Matemática</th><td> 8</td><td>10.0</td><td>7.5</td></tr>\n",
              "\t<tr><th scope=row>Português</th><td>10</td><td> 2.0</td><td>8.0</td></tr>\n",
              "\t<tr><th scope=row>Inglês</th><td> 4</td><td> 0.5</td><td>7.0</td></tr>\n",
              "\t<tr><th scope=row>Geografia</th><td> 8</td><td> 1.0</td><td>8.0</td></tr>\n",
              "\t<tr><th scope=row>História</th><td> 6</td><td> 3.0</td><td>8.0</td></tr>\n",
              "\t<tr><th scope=row>Física</th><td>10</td><td> 9.5</td><td>8.5</td></tr>\n",
              "\t<tr><th scope=row>Química</th><td> 8</td><td>10.0</td><td>7.0</td></tr>\n",
              "</tbody>\n",
              "</table>\n"
            ]
          },
          "metadata": {
            "tags": []
          }
        }
      ]
    },
    {
      "cell_type": "markdown",
      "metadata": {
        "id": "kcHJFW-YjQMP"
      },
      "source": [
        "## <font color=green>3.1 Média aritmética</font>\n",
        "***\n",
        "\n",
        "É representada por $\\mu$ quando se refere à população e por $\\bar{X}$ quando se refere à amostra\n",
        "\n",
        "# $$\\mu = \\frac 1n\\sum_{i=1}^{n}X_i$$\n",
        "\n",
        "onde \n",
        "\n",
        "$n$ = número de observações (registros)\n",
        "\n",
        "$X_i$ = valor da i-ésima observação (registro)"
      ]
    },
    {
      "cell_type": "markdown",
      "metadata": {
        "id": "uI5vkV4f9_a-"
      },
      "source": [
        "### <font color=red>Documentações:\n",
        "\n",
        "- [**mean**](https://www.rdocumentation.org/packages/base/versions/3.6.1/topics/mean)\n",
        "- [**aggregate**](https://www.rdocumentation.org/packages/stats/versions/3.6.1/topics/aggregate)\n",
        "- [**list**](https://www.rdocumentation.org/packages/base/versions/3.6.1/topics/list)"
      ]
    },
    {
      "cell_type": "code",
      "metadata": {
        "id": "QW4JPcBmX7IA",
        "outputId": "47d19f59-49b5-4476-acca-23bb64c7cffd",
        "colab": {
          "base_uri": "https://localhost:8080/",
          "height": 34
        }
      },
      "source": [
        "(8 + 10 + 4 + 8 + 6 + 10 + 8) / 7"
      ],
      "execution_count": null,
      "outputs": [
        {
          "output_type": "display_data",
          "data": {
            "text/plain": [
              "[1] 7.714286"
            ],
            "text/latex": "7.71428571428571",
            "text/markdown": "7.71428571428571",
            "text/html": [
              "7.71428571428571"
            ]
          },
          "metadata": {
            "tags": []
          }
        }
      ]
    },
    {
      "cell_type": "code",
      "metadata": {
        "id": "LuT8WNy5X7IB",
        "outputId": "8eccb1d2-d0a7-4c05-e1f2-36ed31752334",
        "colab": {
          "base_uri": "https://localhost:8080/",
          "height": 34
        }
      },
      "source": [
        "mean(df$Fulano)"
      ],
      "execution_count": null,
      "outputs": [
        {
          "output_type": "display_data",
          "data": {
            "text/plain": [
              "[1] 7.714286"
            ],
            "text/latex": "7.71428571428571",
            "text/markdown": "7.71428571428571",
            "text/html": [
              "7.71428571428571"
            ]
          },
          "metadata": {
            "tags": []
          }
        }
      ]
    },
    {
      "cell_type": "code",
      "metadata": {
        "id": "8M_xGj659_bF",
        "outputId": "96ae0bab-fe8f-44a9-a205-78d0043a3969",
        "colab": {
          "base_uri": "https://localhost:8080/",
          "height": 34
        }
      },
      "source": [
        "mean(dados$Renda)"
      ],
      "execution_count": null,
      "outputs": [
        {
          "output_type": "display_data",
          "data": {
            "text/plain": [
              "[1] 2000.383"
            ],
            "text/latex": "2000.38319885476",
            "text/markdown": "2000.38319885476",
            "text/html": [
              "2000.38319885476"
            ]
          },
          "metadata": {
            "tags": []
          }
        }
      ]
    },
    {
      "cell_type": "code",
      "metadata": {
        "id": "JoQFdOD_9_bJ",
        "outputId": "ac803831-96ce-4987-fc01-604924f96f3b",
        "colab": {
          "base_uri": "https://localhost:8080/",
          "height": 137
        }
      },
      "source": [
        "aggregate(list(Renda = dados$Renda), list(Sexo = dados$Sexo), mean)"
      ],
      "execution_count": null,
      "outputs": [
        {
          "output_type": "display_data",
          "data": {
            "text/plain": [
              "  Sexo Renda   \n",
              "1 0    2192.442\n",
              "2 1    1566.847"
            ],
            "text/latex": "A data.frame: 2 × 2\n\\begin{tabular}{ll}\n Sexo & Renda\\\\\n <int> & <dbl>\\\\\n\\hline\n\t 0 & 2192.442\\\\\n\t 1 & 1566.847\\\\\n\\end{tabular}\n",
            "text/markdown": "\nA data.frame: 2 × 2\n\n| Sexo &lt;int&gt; | Renda &lt;dbl&gt; |\n|---|---|\n| 0 | 2192.442 |\n| 1 | 1566.847 |\n\n",
            "text/html": [
              "<table>\n",
              "<caption>A data.frame: 2 × 2</caption>\n",
              "<thead>\n",
              "\t<tr><th scope=col>Sexo</th><th scope=col>Renda</th></tr>\n",
              "\t<tr><th scope=col>&lt;int&gt;</th><th scope=col>&lt;dbl&gt;</th></tr>\n",
              "</thead>\n",
              "<tbody>\n",
              "\t<tr><td>0</td><td>2192.442</td></tr>\n",
              "\t<tr><td>1</td><td>1566.847</td></tr>\n",
              "</tbody>\n",
              "</table>\n"
            ]
          },
          "metadata": {
            "tags": []
          }
        }
      ]
    },
    {
      "cell_type": "markdown",
      "metadata": {
        "id": "9geu3UcKjQMS"
      },
      "source": [
        "## <font color=green>3.2 Mediana</font>\n",
        "***\n",
        "\n",
        "Para obtermos a mediana de uma conjunto de dados devemos proceder da seguinte maneira:\n",
        "1. Ordenar o conjunto de dados;\n",
        "2. Identificar o número de observações (registros) do conjunto de dados ($n$);\n",
        "3. Identicar o elemento mediano:\n",
        "\n",
        "> Quando $n$ for ímpar, a posição do elemento mediano será obtida da seguinte forma:\n",
        "\n",
        "\n",
        "# $$Elemento_{Md} = \\frac{n+1}2$$\n",
        "\n",
        "> Quando $n$ for par, a posição do elemento mediano será obtida da seguinte forma:\n",
        "\n",
        "\n",
        "# $$Elemento_{Md} = \\frac{n}2$$\n",
        "\n",
        "4. Obter a mediana:\n",
        "\n",
        "> Quando $n$ for ímpar:\n",
        "\n",
        "\n",
        "# $$Md = X_{Elemento_{Md}}$$\n",
        "\n",
        "> Quando $n$ for par:\n",
        "\n",
        "\n",
        "# $$Md = \\frac{X_{Elemento_{Md}} + X_{Elemento_{Md}+1}}2$$\n",
        "***"
      ]
    },
    {
      "cell_type": "markdown",
      "metadata": {
        "id": "v-cBbLTG9_bM"
      },
      "source": [
        "### <font color=red>Documentações:\n",
        "\n",
        "- [**median**](https://www.rdocumentation.org/packages/stats/versions/3.6.1/topics/median)\n",
        "- [**set.seed**](https://www.rdocumentation.org/packages/simEd/versions/1.0.3/topics/set.seed)\n",
        "- [**sample**](https://www.rdocumentation.org/packages/base/versions/3.6.1/topics/sample)"
      ]
    },
    {
      "cell_type": "markdown",
      "metadata": {
        "id": "e0IuYdJFjQMT"
      },
      "source": [
        "### Exemplo 1 - n ímpar\n",
        "\n",
        "<img src='https://caelum-online-public.s3.amazonaws.com/1177-estatistica-parte1/01/img002.png' width='40%' style=\"float:left\">"
      ]
    },
    {
      "cell_type": "code",
      "metadata": {
        "id": "ibgUO9_19_bM",
        "outputId": "726fa4aa-b01c-4803-a15b-3714f415df32",
        "colab": {
          "base_uri": "https://localhost:8080/",
          "height": 225
        }
      },
      "source": [
        "df"
      ],
      "execution_count": null,
      "outputs": [
        {
          "output_type": "display_data",
          "data": {
            "text/plain": [
              "           Fulano Beltrano Sicrano\n",
              "Matemática  8     10.0     7.5    \n",
              "Português  10      2.0     8.0    \n",
              "Inglês      4      0.5     7.0    \n",
              "Geografia   8      1.0     8.0    \n",
              "História    6      3.0     8.0    \n",
              "Física     10      9.5     8.5    \n",
              "Química     8     10.0     7.0    "
            ],
            "text/latex": "A data.frame: 7 × 3\n\\begin{tabular}{r|lll}\n  & Fulano & Beltrano & Sicrano\\\\\n  & <dbl> & <dbl> & <dbl>\\\\\n\\hline\n\tMatemática &  8 & 10.0 & 7.5\\\\\n\tPortuguês & 10 &  2.0 & 8.0\\\\\n\tInglês &  4 &  0.5 & 7.0\\\\\n\tGeografia &  8 &  1.0 & 8.0\\\\\n\tHistória &  6 &  3.0 & 8.0\\\\\n\tFísica & 10 &  9.5 & 8.5\\\\\n\tQuímica &  8 & 10.0 & 7.0\\\\\n\\end{tabular}\n",
            "text/markdown": "\nA data.frame: 7 × 3\n\n| <!--/--> | Fulano &lt;dbl&gt; | Beltrano &lt;dbl&gt; | Sicrano &lt;dbl&gt; |\n|---|---|---|---|\n| Matemática |  8 | 10.0 | 7.5 |\n| Português | 10 |  2.0 | 8.0 |\n| Inglês |  4 |  0.5 | 7.0 |\n| Geografia |  8 |  1.0 | 8.0 |\n| História |  6 |  3.0 | 8.0 |\n| Física | 10 |  9.5 | 8.5 |\n| Química |  8 | 10.0 | 7.0 |\n\n",
            "text/html": [
              "<table>\n",
              "<caption>A data.frame: 7 × 3</caption>\n",
              "<thead>\n",
              "\t<tr><th></th><th scope=col>Fulano</th><th scope=col>Beltrano</th><th scope=col>Sicrano</th></tr>\n",
              "\t<tr><th></th><th scope=col>&lt;dbl&gt;</th><th scope=col>&lt;dbl&gt;</th><th scope=col>&lt;dbl&gt;</th></tr>\n",
              "</thead>\n",
              "<tbody>\n",
              "\t<tr><th scope=row>Matemática</th><td> 8</td><td>10.0</td><td>7.5</td></tr>\n",
              "\t<tr><th scope=row>Português</th><td>10</td><td> 2.0</td><td>8.0</td></tr>\n",
              "\t<tr><th scope=row>Inglês</th><td> 4</td><td> 0.5</td><td>7.0</td></tr>\n",
              "\t<tr><th scope=row>Geografia</th><td> 8</td><td> 1.0</td><td>8.0</td></tr>\n",
              "\t<tr><th scope=row>História</th><td> 6</td><td> 3.0</td><td>8.0</td></tr>\n",
              "\t<tr><th scope=row>Física</th><td>10</td><td> 9.5</td><td>8.5</td></tr>\n",
              "\t<tr><th scope=row>Química</th><td> 8</td><td>10.0</td><td>7.0</td></tr>\n",
              "</tbody>\n",
              "</table>\n"
            ]
          },
          "metadata": {
            "tags": []
          }
        }
      ]
    },
    {
      "cell_type": "code",
      "metadata": {
        "id": "pZlva9VN9_bP",
        "outputId": "0ab18b61-3b4a-4f80-f537-5dac5bede025",
        "colab": {
          "base_uri": "https://localhost:8080/",
          "height": 225
        }
      },
      "source": [
        "df_fulano <- df[order(df$Fulano), ]\n",
        "df_fulano"
      ],
      "execution_count": null,
      "outputs": [
        {
          "output_type": "display_data",
          "data": {
            "text/plain": [
              "           Fulano Beltrano Sicrano\n",
              "Inglês      4      0.5     7.0    \n",
              "História    6      3.0     8.0    \n",
              "Matemática  8     10.0     7.5    \n",
              "Geografia   8      1.0     8.0    \n",
              "Química     8     10.0     7.0    \n",
              "Português  10      2.0     8.0    \n",
              "Física     10      9.5     8.5    "
            ],
            "text/latex": "A data.frame: 7 × 3\n\\begin{tabular}{r|lll}\n  & Fulano & Beltrano & Sicrano\\\\\n  & <dbl> & <dbl> & <dbl>\\\\\n\\hline\n\tInglês &  4 &  0.5 & 7.0\\\\\n\tHistória &  6 &  3.0 & 8.0\\\\\n\tMatemática &  8 & 10.0 & 7.5\\\\\n\tGeografia &  8 &  1.0 & 8.0\\\\\n\tQuímica &  8 & 10.0 & 7.0\\\\\n\tPortuguês & 10 &  2.0 & 8.0\\\\\n\tFísica & 10 &  9.5 & 8.5\\\\\n\\end{tabular}\n",
            "text/markdown": "\nA data.frame: 7 × 3\n\n| <!--/--> | Fulano &lt;dbl&gt; | Beltrano &lt;dbl&gt; | Sicrano &lt;dbl&gt; |\n|---|---|---|---|\n| Inglês |  4 |  0.5 | 7.0 |\n| História |  6 |  3.0 | 8.0 |\n| Matemática |  8 | 10.0 | 7.5 |\n| Geografia |  8 |  1.0 | 8.0 |\n| Química |  8 | 10.0 | 7.0 |\n| Português | 10 |  2.0 | 8.0 |\n| Física | 10 |  9.5 | 8.5 |\n\n",
            "text/html": [
              "<table>\n",
              "<caption>A data.frame: 7 × 3</caption>\n",
              "<thead>\n",
              "\t<tr><th></th><th scope=col>Fulano</th><th scope=col>Beltrano</th><th scope=col>Sicrano</th></tr>\n",
              "\t<tr><th></th><th scope=col>&lt;dbl&gt;</th><th scope=col>&lt;dbl&gt;</th><th scope=col>&lt;dbl&gt;</th></tr>\n",
              "</thead>\n",
              "<tbody>\n",
              "\t<tr><th scope=row>Inglês</th><td> 4</td><td> 0.5</td><td>7.0</td></tr>\n",
              "\t<tr><th scope=row>História</th><td> 6</td><td> 3.0</td><td>8.0</td></tr>\n",
              "\t<tr><th scope=row>Matemática</th><td> 8</td><td>10.0</td><td>7.5</td></tr>\n",
              "\t<tr><th scope=row>Geografia</th><td> 8</td><td> 1.0</td><td>8.0</td></tr>\n",
              "\t<tr><th scope=row>Química</th><td> 8</td><td>10.0</td><td>7.0</td></tr>\n",
              "\t<tr><th scope=row>Português</th><td>10</td><td> 2.0</td><td>8.0</td></tr>\n",
              "\t<tr><th scope=row>Física</th><td>10</td><td> 9.5</td><td>8.5</td></tr>\n",
              "</tbody>\n",
              "</table>\n"
            ]
          },
          "metadata": {
            "tags": []
          }
        }
      ]
    },
    {
      "cell_type": "code",
      "metadata": {
        "id": "XhHKBPan9_bR",
        "outputId": "bd959702-79a9-43d3-d0cf-5c44f10ed2a8",
        "colab": {
          "base_uri": "https://localhost:8080/",
          "height": 34
        }
      },
      "source": [
        "n = nrow(df_fulano)\n",
        "n"
      ],
      "execution_count": null,
      "outputs": [
        {
          "output_type": "display_data",
          "data": {
            "text/plain": [
              "[1] 7"
            ],
            "text/latex": "7",
            "text/markdown": "7",
            "text/html": [
              "7"
            ]
          },
          "metadata": {
            "tags": []
          }
        }
      ]
    },
    {
      "cell_type": "code",
      "metadata": {
        "id": "trC12MHxjQMY",
        "outputId": "a0b42317-bbfd-46c0-de86-3214f5bb106f",
        "colab": {
          "base_uri": "https://localhost:8080/",
          "height": 34
        }
      },
      "source": [
        "elemento_md <- (n + 1) / 2\n",
        "elemento_md"
      ],
      "execution_count": null,
      "outputs": [
        {
          "output_type": "display_data",
          "data": {
            "text/plain": [
              "[1] 4"
            ],
            "text/latex": "4",
            "text/markdown": "4",
            "text/html": [
              "4"
            ]
          },
          "metadata": {
            "tags": []
          }
        }
      ]
    },
    {
      "cell_type": "code",
      "metadata": {
        "id": "NKccffcLjQMZ",
        "outputId": "04e470f7-d0fb-43ff-d0a4-470afb4f8305",
        "colab": {
          "base_uri": "https://localhost:8080/",
          "height": 99
        }
      },
      "source": [
        "df_fulano[elemento_md, ]"
      ],
      "execution_count": null,
      "outputs": [
        {
          "output_type": "display_data",
          "data": {
            "text/plain": [
              "          Fulano Beltrano Sicrano\n",
              "Geografia 8      1        8      "
            ],
            "text/latex": "A data.frame: 1 × 3\n\\begin{tabular}{r|lll}\n  & Fulano & Beltrano & Sicrano\\\\\n  & <dbl> & <dbl> & <dbl>\\\\\n\\hline\n\tGeografia & 8 & 1 & 8\\\\\n\\end{tabular}\n",
            "text/markdown": "\nA data.frame: 1 × 3\n\n| <!--/--> | Fulano &lt;dbl&gt; | Beltrano &lt;dbl&gt; | Sicrano &lt;dbl&gt; |\n|---|---|---|---|\n| Geografia | 8 | 1 | 8 |\n\n",
            "text/html": [
              "<table>\n",
              "<caption>A data.frame: 1 × 3</caption>\n",
              "<thead>\n",
              "\t<tr><th></th><th scope=col>Fulano</th><th scope=col>Beltrano</th><th scope=col>Sicrano</th></tr>\n",
              "\t<tr><th></th><th scope=col>&lt;dbl&gt;</th><th scope=col>&lt;dbl&gt;</th><th scope=col>&lt;dbl&gt;</th></tr>\n",
              "</thead>\n",
              "<tbody>\n",
              "\t<tr><th scope=row>Geografia</th><td>8</td><td>1</td><td>8</td></tr>\n",
              "</tbody>\n",
              "</table>\n"
            ]
          },
          "metadata": {
            "tags": []
          }
        }
      ]
    },
    {
      "cell_type": "code",
      "metadata": {
        "id": "ody5mfXLjQMb",
        "outputId": "6628a34f-d7f5-4483-e250-595bbcc78f53",
        "colab": {
          "base_uri": "https://localhost:8080/",
          "height": 34
        }
      },
      "source": [
        "median(df$Fulano)"
      ],
      "execution_count": null,
      "outputs": [
        {
          "output_type": "display_data",
          "data": {
            "text/plain": [
              "[1] 8"
            ],
            "text/latex": "8",
            "text/markdown": "8",
            "text/html": [
              "8"
            ]
          },
          "metadata": {
            "tags": []
          }
        }
      ]
    },
    {
      "cell_type": "markdown",
      "metadata": {
        "id": "hQHyjfLkjQMe"
      },
      "source": [
        "### Exemplo 2 - n par\n",
        "\n",
        "<img src='https://caelum-online-public.s3.amazonaws.com/1177-estatistica-parte1/01/img003.png' width='50%' style=\"float:left\">"
      ]
    },
    {
      "cell_type": "markdown",
      "metadata": {
        "id": "xP4He80U9_bg"
      },
      "source": [
        "### Obtendo uma amostra aleatória dos dados"
      ]
    },
    {
      "cell_type": "code",
      "metadata": {
        "id": "wDwnJSnz9_bh",
        "outputId": "291394a4-567b-4ad5-d7fc-9213fc5be867",
        "colab": {
          "base_uri": "https://localhost:8080/",
          "height": 225
        }
      },
      "source": [
        "df"
      ],
      "execution_count": null,
      "outputs": [
        {
          "output_type": "display_data",
          "data": {
            "text/plain": [
              "           Fulano Beltrano Sicrano\n",
              "Matemática  8     10.0     7.5    \n",
              "Português  10      2.0     8.0    \n",
              "Inglês      4      0.5     7.0    \n",
              "Geografia   8      1.0     8.0    \n",
              "História    6      3.0     8.0    \n",
              "Física     10      9.5     8.5    \n",
              "Química     8     10.0     7.0    "
            ],
            "text/latex": "A data.frame: 7 × 3\n\\begin{tabular}{r|lll}\n  & Fulano & Beltrano & Sicrano\\\\\n  & <dbl> & <dbl> & <dbl>\\\\\n\\hline\n\tMatemática &  8 & 10.0 & 7.5\\\\\n\tPortuguês & 10 &  2.0 & 8.0\\\\\n\tInglês &  4 &  0.5 & 7.0\\\\\n\tGeografia &  8 &  1.0 & 8.0\\\\\n\tHistória &  6 &  3.0 & 8.0\\\\\n\tFísica & 10 &  9.5 & 8.5\\\\\n\tQuímica &  8 & 10.0 & 7.0\\\\\n\\end{tabular}\n",
            "text/markdown": "\nA data.frame: 7 × 3\n\n| <!--/--> | Fulano &lt;dbl&gt; | Beltrano &lt;dbl&gt; | Sicrano &lt;dbl&gt; |\n|---|---|---|---|\n| Matemática |  8 | 10.0 | 7.5 |\n| Português | 10 |  2.0 | 8.0 |\n| Inglês |  4 |  0.5 | 7.0 |\n| Geografia |  8 |  1.0 | 8.0 |\n| História |  6 |  3.0 | 8.0 |\n| Física | 10 |  9.5 | 8.5 |\n| Química |  8 | 10.0 | 7.0 |\n\n",
            "text/html": [
              "<table>\n",
              "<caption>A data.frame: 7 × 3</caption>\n",
              "<thead>\n",
              "\t<tr><th></th><th scope=col>Fulano</th><th scope=col>Beltrano</th><th scope=col>Sicrano</th></tr>\n",
              "\t<tr><th></th><th scope=col>&lt;dbl&gt;</th><th scope=col>&lt;dbl&gt;</th><th scope=col>&lt;dbl&gt;</th></tr>\n",
              "</thead>\n",
              "<tbody>\n",
              "\t<tr><th scope=row>Matemática</th><td> 8</td><td>10.0</td><td>7.5</td></tr>\n",
              "\t<tr><th scope=row>Português</th><td>10</td><td> 2.0</td><td>8.0</td></tr>\n",
              "\t<tr><th scope=row>Inglês</th><td> 4</td><td> 0.5</td><td>7.0</td></tr>\n",
              "\t<tr><th scope=row>Geografia</th><td> 8</td><td> 1.0</td><td>8.0</td></tr>\n",
              "\t<tr><th scope=row>História</th><td> 6</td><td> 3.0</td><td>8.0</td></tr>\n",
              "\t<tr><th scope=row>Física</th><td>10</td><td> 9.5</td><td>8.5</td></tr>\n",
              "\t<tr><th scope=row>Química</th><td> 8</td><td>10.0</td><td>7.0</td></tr>\n",
              "</tbody>\n",
              "</table>\n"
            ]
          },
          "metadata": {
            "tags": []
          }
        }
      ]
    },
    {
      "cell_type": "code",
      "metadata": {
        "id": "OIKiVPRs9_bj",
        "outputId": "ac806b55-c6c3-4746-e349-34132fa17099",
        "colab": {
          "base_uri": "https://localhost:8080/",
          "height": 34
        }
      },
      "source": [
        "set.seed(101)\n",
        "sample(nrow(df), 6)"
      ],
      "execution_count": null,
      "outputs": [
        {
          "output_type": "display_data",
          "data": {
            "text/plain": [
              "[1] 1 7 6 2 3 5"
            ],
            "text/latex": "\\begin{enumerate*}\n\\item 1\n\\item 7\n\\item 6\n\\item 2\n\\item 3\n\\item 5\n\\end{enumerate*}\n",
            "text/markdown": "1. 1\n2. 7\n3. 6\n4. 2\n5. 3\n6. 5\n\n\n",
            "text/html": [
              "<style>\n",
              ".list-inline {list-style: none; margin:0; padding: 0}\n",
              ".list-inline>li {display: inline-block}\n",
              ".list-inline>li:not(:last-child)::after {content: \"\\00b7\"; padding: 0 .5ex}\n",
              "</style>\n",
              "<ol class=list-inline><li>1</li><li>7</li><li>6</li><li>2</li><li>3</li><li>5</li></ol>\n"
            ]
          },
          "metadata": {
            "tags": []
          }
        }
      ]
    },
    {
      "cell_type": "code",
      "metadata": {
        "id": "-6cUrG3o9_bl",
        "outputId": "aef089f2-f958-43e1-d4f0-b541ecc52ff2",
        "colab": {
          "base_uri": "https://localhost:8080/",
          "height": 204
        }
      },
      "source": [
        "set.seed(101)\n",
        "df_beltrano <- df[sample(nrow(df), 6), ]\n",
        "df_beltrano"
      ],
      "execution_count": null,
      "outputs": [
        {
          "output_type": "display_data",
          "data": {
            "text/plain": [
              "           Fulano Beltrano Sicrano\n",
              "Matemática  8     10.0     7.5    \n",
              "Química     8     10.0     7.0    \n",
              "Física     10      9.5     8.5    \n",
              "Português  10      2.0     8.0    \n",
              "Inglês      4      0.5     7.0    \n",
              "História    6      3.0     8.0    "
            ],
            "text/latex": "A data.frame: 6 × 3\n\\begin{tabular}{r|lll}\n  & Fulano & Beltrano & Sicrano\\\\\n  & <dbl> & <dbl> & <dbl>\\\\\n\\hline\n\tMatemática &  8 & 10.0 & 7.5\\\\\n\tQuímica &  8 & 10.0 & 7.0\\\\\n\tFísica & 10 &  9.5 & 8.5\\\\\n\tPortuguês & 10 &  2.0 & 8.0\\\\\n\tInglês &  4 &  0.5 & 7.0\\\\\n\tHistória &  6 &  3.0 & 8.0\\\\\n\\end{tabular}\n",
            "text/markdown": "\nA data.frame: 6 × 3\n\n| <!--/--> | Fulano &lt;dbl&gt; | Beltrano &lt;dbl&gt; | Sicrano &lt;dbl&gt; |\n|---|---|---|---|\n| Matemática |  8 | 10.0 | 7.5 |\n| Química |  8 | 10.0 | 7.0 |\n| Física | 10 |  9.5 | 8.5 |\n| Português | 10 |  2.0 | 8.0 |\n| Inglês |  4 |  0.5 | 7.0 |\n| História |  6 |  3.0 | 8.0 |\n\n",
            "text/html": [
              "<table>\n",
              "<caption>A data.frame: 6 × 3</caption>\n",
              "<thead>\n",
              "\t<tr><th></th><th scope=col>Fulano</th><th scope=col>Beltrano</th><th scope=col>Sicrano</th></tr>\n",
              "\t<tr><th></th><th scope=col>&lt;dbl&gt;</th><th scope=col>&lt;dbl&gt;</th><th scope=col>&lt;dbl&gt;</th></tr>\n",
              "</thead>\n",
              "<tbody>\n",
              "\t<tr><th scope=row>Matemática</th><td> 8</td><td>10.0</td><td>7.5</td></tr>\n",
              "\t<tr><th scope=row>Química</th><td> 8</td><td>10.0</td><td>7.0</td></tr>\n",
              "\t<tr><th scope=row>Física</th><td>10</td><td> 9.5</td><td>8.5</td></tr>\n",
              "\t<tr><th scope=row>Português</th><td>10</td><td> 2.0</td><td>8.0</td></tr>\n",
              "\t<tr><th scope=row>Inglês</th><td> 4</td><td> 0.5</td><td>7.0</td></tr>\n",
              "\t<tr><th scope=row>História</th><td> 6</td><td> 3.0</td><td>8.0</td></tr>\n",
              "</tbody>\n",
              "</table>\n"
            ]
          },
          "metadata": {
            "tags": []
          }
        }
      ]
    },
    {
      "cell_type": "code",
      "metadata": {
        "id": "CCBfWML79_bq",
        "outputId": "52aa4702-c015-49b8-94a8-b975ecfddb52",
        "colab": {
          "base_uri": "https://localhost:8080/",
          "height": 34
        }
      },
      "source": [
        "n <- nrow(df_beltrano)\n",
        "n"
      ],
      "execution_count": null,
      "outputs": [
        {
          "output_type": "display_data",
          "data": {
            "text/plain": [
              "[1] 6"
            ],
            "text/latex": "6",
            "text/markdown": "6",
            "text/html": [
              "6"
            ]
          },
          "metadata": {
            "tags": []
          }
        }
      ]
    },
    {
      "cell_type": "code",
      "metadata": {
        "id": "6wB1UztBjQMf",
        "outputId": "767b0217-981a-4c3e-e410-b7e77fddf2bd",
        "colab": {
          "base_uri": "https://localhost:8080/",
          "height": 204
        }
      },
      "source": [
        "df_beltrano <- df_beltrano[order(df_beltrano$Beltrano), ]\n",
        "df_beltrano"
      ],
      "execution_count": null,
      "outputs": [
        {
          "output_type": "display_data",
          "data": {
            "text/plain": [
              "           Fulano Beltrano Sicrano\n",
              "Inglês      4      0.5     7.0    \n",
              "Português  10      2.0     8.0    \n",
              "História    6      3.0     8.0    \n",
              "Física     10      9.5     8.5    \n",
              "Matemática  8     10.0     7.5    \n",
              "Química     8     10.0     7.0    "
            ],
            "text/latex": "A data.frame: 6 × 3\n\\begin{tabular}{r|lll}\n  & Fulano & Beltrano & Sicrano\\\\\n  & <dbl> & <dbl> & <dbl>\\\\\n\\hline\n\tInglês &  4 &  0.5 & 7.0\\\\\n\tPortuguês & 10 &  2.0 & 8.0\\\\\n\tHistória &  6 &  3.0 & 8.0\\\\\n\tFísica & 10 &  9.5 & 8.5\\\\\n\tMatemática &  8 & 10.0 & 7.5\\\\\n\tQuímica &  8 & 10.0 & 7.0\\\\\n\\end{tabular}\n",
            "text/markdown": "\nA data.frame: 6 × 3\n\n| <!--/--> | Fulano &lt;dbl&gt; | Beltrano &lt;dbl&gt; | Sicrano &lt;dbl&gt; |\n|---|---|---|---|\n| Inglês |  4 |  0.5 | 7.0 |\n| Português | 10 |  2.0 | 8.0 |\n| História |  6 |  3.0 | 8.0 |\n| Física | 10 |  9.5 | 8.5 |\n| Matemática |  8 | 10.0 | 7.5 |\n| Química |  8 | 10.0 | 7.0 |\n\n",
            "text/html": [
              "<table>\n",
              "<caption>A data.frame: 6 × 3</caption>\n",
              "<thead>\n",
              "\t<tr><th></th><th scope=col>Fulano</th><th scope=col>Beltrano</th><th scope=col>Sicrano</th></tr>\n",
              "\t<tr><th></th><th scope=col>&lt;dbl&gt;</th><th scope=col>&lt;dbl&gt;</th><th scope=col>&lt;dbl&gt;</th></tr>\n",
              "</thead>\n",
              "<tbody>\n",
              "\t<tr><th scope=row>Inglês</th><td> 4</td><td> 0.5</td><td>7.0</td></tr>\n",
              "\t<tr><th scope=row>Português</th><td>10</td><td> 2.0</td><td>8.0</td></tr>\n",
              "\t<tr><th scope=row>História</th><td> 6</td><td> 3.0</td><td>8.0</td></tr>\n",
              "\t<tr><th scope=row>Física</th><td>10</td><td> 9.5</td><td>8.5</td></tr>\n",
              "\t<tr><th scope=row>Matemática</th><td> 8</td><td>10.0</td><td>7.5</td></tr>\n",
              "\t<tr><th scope=row>Química</th><td> 8</td><td>10.0</td><td>7.0</td></tr>\n",
              "</tbody>\n",
              "</table>\n"
            ]
          },
          "metadata": {
            "tags": []
          }
        }
      ]
    },
    {
      "cell_type": "code",
      "metadata": {
        "id": "tEBVXl7CjQMh",
        "outputId": "92bda6ad-4b8f-4662-e1ab-50718cffbe60",
        "colab": {
          "base_uri": "https://localhost:8080/",
          "height": 34
        }
      },
      "source": [
        "elemento_md <- n / 2\n",
        "elemento_md"
      ],
      "execution_count": null,
      "outputs": [
        {
          "output_type": "display_data",
          "data": {
            "text/plain": [
              "[1] 3"
            ],
            "text/latex": "3",
            "text/markdown": "3",
            "text/html": [
              "3"
            ]
          },
          "metadata": {
            "tags": []
          }
        }
      ]
    },
    {
      "cell_type": "code",
      "metadata": {
        "id": "xqMvoBoY9_b2",
        "outputId": "02290991-5a7d-401a-da4f-765147caead8",
        "colab": {
          "base_uri": "https://localhost:8080/",
          "height": 34
        }
      },
      "source": [
        "mean(df_beltrano[c(elemento_md, elemento_md + 1), ]$Beltrano)"
      ],
      "execution_count": null,
      "outputs": [
        {
          "output_type": "display_data",
          "data": {
            "text/plain": [
              "[1] 6.25"
            ],
            "text/latex": "6.25",
            "text/markdown": "6.25",
            "text/html": [
              "6.25"
            ]
          },
          "metadata": {
            "tags": []
          }
        }
      ]
    },
    {
      "cell_type": "code",
      "metadata": {
        "id": "IevBBtrRjQMj",
        "outputId": "0fa1caba-0064-4ddb-aba3-993c57c322cd",
        "colab": {
          "base_uri": "https://localhost:8080/",
          "height": 34
        }
      },
      "source": [
        "median(df_beltrano$Beltrano)"
      ],
      "execution_count": null,
      "outputs": [
        {
          "output_type": "display_data",
          "data": {
            "text/plain": [
              "[1] 6.25"
            ],
            "text/latex": "6.25",
            "text/markdown": "6.25",
            "text/html": [
              "6.25"
            ]
          },
          "metadata": {
            "tags": []
          }
        }
      ]
    },
    {
      "cell_type": "markdown",
      "metadata": {
        "id": "nK27TxrkjQMl"
      },
      "source": [
        "### Obtendo a mediana em nosso dataset"
      ]
    },
    {
      "cell_type": "code",
      "metadata": {
        "id": "dJznpnjUjQMl",
        "outputId": "64d8a6ad-648a-41d2-bf78-f21beaccfab0",
        "colab": {
          "base_uri": "https://localhost:8080/",
          "height": 34
        }
      },
      "source": [
        "median(dados$Renda)"
      ],
      "execution_count": null,
      "outputs": [
        {
          "output_type": "display_data",
          "data": {
            "text/plain": [
              "[1] 1200"
            ],
            "text/latex": "1200",
            "text/markdown": "1200",
            "text/html": [
              "1200"
            ]
          },
          "metadata": {
            "tags": []
          }
        }
      ]
    },
    {
      "cell_type": "markdown",
      "metadata": {
        "id": "CmCu6BXQjQMo"
      },
      "source": [
        "## <font color=green>3.3 Moda</font>\n",
        "***\n",
        "\n",
        "Pode-se definir a moda como sendo o valor mais frequente de um conjunto de dados. A moda é bastante utilizada para dados qualitativos."
      ]
    },
    {
      "cell_type": "markdown",
      "metadata": {
        "id": "_1uxxvxp9_cC"
      },
      "source": [
        "### <font color=red>Documentações:\n",
        "\n",
        "- [**function**](https://www.rdocumentation.org/packages/base/versions/3.6.1/topics/function)"
      ]
    },
    {
      "cell_type": "code",
      "metadata": {
        "id": "BHibMzw8X7Id",
        "outputId": "0608c0fd-5c39-49c2-bd29-4845d0f4d21f",
        "colab": {
          "base_uri": "https://localhost:8080/",
          "height": 225
        }
      },
      "source": [
        "df"
      ],
      "execution_count": null,
      "outputs": [
        {
          "output_type": "display_data",
          "data": {
            "text/plain": [
              "           Fulano Beltrano Sicrano\n",
              "Matemática  8     10.0     7.5    \n",
              "Português  10      2.0     8.0    \n",
              "Inglês      4      0.5     7.0    \n",
              "Geografia   8      1.0     8.0    \n",
              "História    6      3.0     8.0    \n",
              "Física     10      9.5     8.5    \n",
              "Química     8     10.0     7.0    "
            ],
            "text/latex": "A data.frame: 7 × 3\n\\begin{tabular}{r|lll}\n  & Fulano & Beltrano & Sicrano\\\\\n  & <dbl> & <dbl> & <dbl>\\\\\n\\hline\n\tMatemática &  8 & 10.0 & 7.5\\\\\n\tPortuguês & 10 &  2.0 & 8.0\\\\\n\tInglês &  4 &  0.5 & 7.0\\\\\n\tGeografia &  8 &  1.0 & 8.0\\\\\n\tHistória &  6 &  3.0 & 8.0\\\\\n\tFísica & 10 &  9.5 & 8.5\\\\\n\tQuímica &  8 & 10.0 & 7.0\\\\\n\\end{tabular}\n",
            "text/markdown": "\nA data.frame: 7 × 3\n\n| <!--/--> | Fulano &lt;dbl&gt; | Beltrano &lt;dbl&gt; | Sicrano &lt;dbl&gt; |\n|---|---|---|---|\n| Matemática |  8 | 10.0 | 7.5 |\n| Português | 10 |  2.0 | 8.0 |\n| Inglês |  4 |  0.5 | 7.0 |\n| Geografia |  8 |  1.0 | 8.0 |\n| História |  6 |  3.0 | 8.0 |\n| Física | 10 |  9.5 | 8.5 |\n| Química |  8 | 10.0 | 7.0 |\n\n",
            "text/html": [
              "<table>\n",
              "<caption>A data.frame: 7 × 3</caption>\n",
              "<thead>\n",
              "\t<tr><th></th><th scope=col>Fulano</th><th scope=col>Beltrano</th><th scope=col>Sicrano</th></tr>\n",
              "\t<tr><th></th><th scope=col>&lt;dbl&gt;</th><th scope=col>&lt;dbl&gt;</th><th scope=col>&lt;dbl&gt;</th></tr>\n",
              "</thead>\n",
              "<tbody>\n",
              "\t<tr><th scope=row>Matemática</th><td> 8</td><td>10.0</td><td>7.5</td></tr>\n",
              "\t<tr><th scope=row>Português</th><td>10</td><td> 2.0</td><td>8.0</td></tr>\n",
              "\t<tr><th scope=row>Inglês</th><td> 4</td><td> 0.5</td><td>7.0</td></tr>\n",
              "\t<tr><th scope=row>Geografia</th><td> 8</td><td> 1.0</td><td>8.0</td></tr>\n",
              "\t<tr><th scope=row>História</th><td> 6</td><td> 3.0</td><td>8.0</td></tr>\n",
              "\t<tr><th scope=row>Física</th><td>10</td><td> 9.5</td><td>8.5</td></tr>\n",
              "\t<tr><th scope=row>Química</th><td> 8</td><td>10.0</td><td>7.0</td></tr>\n",
              "</tbody>\n",
              "</table>\n"
            ]
          },
          "metadata": {
            "tags": []
          }
        }
      ]
    },
    {
      "cell_type": "code",
      "metadata": {
        "id": "v25ZN0iS9_cH",
        "outputId": "8b2b33a4-bdf8-4ff5-c194-e34641994339",
        "colab": {
          "base_uri": "https://localhost:8080/",
          "height": 34
        }
      },
      "source": [
        "exemplo_moda <- c(1, 2, 2, 3, 4, 4, 5, 6, 7, 7)\n",
        "exemplo_moda"
      ],
      "execution_count": null,
      "outputs": [
        {
          "output_type": "display_data",
          "data": {
            "text/plain": [
              " [1] 1 2 2 3 4 4 5 6 7 7"
            ],
            "text/latex": "\\begin{enumerate*}\n\\item 1\n\\item 2\n\\item 2\n\\item 3\n\\item 4\n\\item 4\n\\item 5\n\\item 6\n\\item 7\n\\item 7\n\\end{enumerate*}\n",
            "text/markdown": "1. 1\n2. 2\n3. 2\n4. 3\n5. 4\n6. 4\n7. 5\n8. 6\n9. 7\n10. 7\n\n\n",
            "text/html": [
              "<style>\n",
              ".list-inline {list-style: none; margin:0; padding: 0}\n",
              ".list-inline>li {display: inline-block}\n",
              ".list-inline>li:not(:last-child)::after {content: \"\\00b7\"; padding: 0 .5ex}\n",
              "</style>\n",
              "<ol class=list-inline><li>1</li><li>2</li><li>2</li><li>3</li><li>4</li><li>4</li><li>5</li><li>6</li><li>7</li><li>7</li></ol>\n"
            ]
          },
          "metadata": {
            "tags": []
          }
        }
      ]
    },
    {
      "cell_type": "code",
      "metadata": {
        "id": "qvhLlQmS9_cK",
        "outputId": "6a1701b0-3da5-4b97-da1e-54e036e01b64",
        "colab": {
          "base_uri": "https://localhost:8080/",
          "height": 68
        }
      },
      "source": [
        "freq <- table(exemplo_moda)\n",
        "freq"
      ],
      "execution_count": null,
      "outputs": [
        {
          "output_type": "display_data",
          "data": {
            "text/plain": [
              "exemplo_moda\n",
              "1 2 3 4 5 6 7 \n",
              "1 2 1 2 1 1 2 "
            ]
          },
          "metadata": {
            "tags": []
          }
        }
      ]
    },
    {
      "cell_type": "code",
      "metadata": {
        "id": "gjRDG-9y9_cR",
        "outputId": "c58585df-c49e-4936-9c2b-0805a28923c9",
        "colab": {
          "base_uri": "https://localhost:8080/",
          "height": 68
        }
      },
      "source": [
        "freq[freq == max(freq)]"
      ],
      "execution_count": null,
      "outputs": [
        {
          "output_type": "display_data",
          "data": {
            "text/plain": [
              "exemplo_moda\n",
              "2 4 7 \n",
              "2 2 2 "
            ]
          },
          "metadata": {
            "tags": []
          }
        }
      ]
    },
    {
      "cell_type": "code",
      "metadata": {
        "id": "5u9FoZI19_cT",
        "outputId": "27688e17-bc14-4fca-f38f-9a563f6a1c5f",
        "colab": {
          "base_uri": "https://localhost:8080/",
          "height": 34
        }
      },
      "source": [
        "names(freq)[freq == max(freq)]"
      ],
      "execution_count": null,
      "outputs": [
        {
          "output_type": "display_data",
          "data": {
            "text/plain": [
              "[1] \"2\" \"4\" \"7\""
            ],
            "text/latex": "\\begin{enumerate*}\n\\item '2'\n\\item '4'\n\\item '7'\n\\end{enumerate*}\n",
            "text/markdown": "1. '2'\n2. '4'\n3. '7'\n\n\n",
            "text/html": [
              "<style>\n",
              ".list-inline {list-style: none; margin:0; padding: 0}\n",
              ".list-inline>li {display: inline-block}\n",
              ".list-inline>li:not(:last-child)::after {content: \"\\00b7\"; padding: 0 .5ex}\n",
              "</style>\n",
              "<ol class=list-inline><li>'2'</li><li>'4'</li><li>'7'</li></ol>\n"
            ]
          },
          "metadata": {
            "tags": []
          }
        }
      ]
    },
    {
      "cell_type": "code",
      "metadata": {
        "id": "uzSotXcK9_cW"
      },
      "source": [
        "Moda <- function(x) {\n",
        "  freq <- table(x)\n",
        "  return (names(freq)[freq == max(freq)])\n",
        "}"
      ],
      "execution_count": null,
      "outputs": []
    },
    {
      "cell_type": "code",
      "metadata": {
        "id": "ugpiddBn9_cX",
        "outputId": "9e0470d9-a153-4f0b-f846-c691d291e5eb",
        "colab": {
          "base_uri": "https://localhost:8080/",
          "height": 34
        }
      },
      "source": [
        "Moda(exemplo_moda)"
      ],
      "execution_count": null,
      "outputs": [
        {
          "output_type": "display_data",
          "data": {
            "text/plain": [
              "[1] \"2\" \"4\" \"7\""
            ],
            "text/latex": "\\begin{enumerate*}\n\\item '2'\n\\item '4'\n\\item '7'\n\\end{enumerate*}\n",
            "text/markdown": "1. '2'\n2. '4'\n3. '7'\n\n\n",
            "text/html": [
              "<style>\n",
              ".list-inline {list-style: none; margin:0; padding: 0}\n",
              ".list-inline>li {display: inline-block}\n",
              ".list-inline>li:not(:last-child)::after {content: \"\\00b7\"; padding: 0 .5ex}\n",
              "</style>\n",
              "<ol class=list-inline><li>'2'</li><li>'4'</li><li>'7'</li></ol>\n"
            ]
          },
          "metadata": {
            "tags": []
          }
        }
      ]
    },
    {
      "cell_type": "code",
      "metadata": {
        "id": "X47H6o_S9_cZ",
        "outputId": "49b1990f-28e0-4777-b309-d30f6424186b",
        "colab": {
          "base_uri": "https://localhost:8080/",
          "height": 34
        }
      },
      "source": [
        "Moda(df$Fulano)"
      ],
      "execution_count": null,
      "outputs": [
        {
          "output_type": "display_data",
          "data": {
            "text/plain": [
              "[1] \"8\""
            ],
            "text/latex": "'8'",
            "text/markdown": "'8'",
            "text/html": [
              "'8'"
            ]
          },
          "metadata": {
            "tags": []
          }
        }
      ]
    },
    {
      "cell_type": "code",
      "metadata": {
        "id": "9FvXttvu9_cb",
        "outputId": "480af022-fd9a-4399-cd73-c25ae4253079",
        "colab": {
          "base_uri": "https://localhost:8080/",
          "height": 34
        }
      },
      "source": [
        "Moda(df$Beltrano)"
      ],
      "execution_count": null,
      "outputs": [
        {
          "output_type": "display_data",
          "data": {
            "text/plain": [
              "[1] \"10\""
            ],
            "text/latex": "'10'",
            "text/markdown": "'10'",
            "text/html": [
              "'10'"
            ]
          },
          "metadata": {
            "tags": []
          }
        }
      ]
    },
    {
      "cell_type": "code",
      "metadata": {
        "id": "SeFFxKDs9_cd",
        "outputId": "ad66bc77-0ab6-4e11-f3be-07016860346e",
        "colab": {
          "base_uri": "https://localhost:8080/",
          "height": 34
        }
      },
      "source": [
        "Moda(df$Sicrano)"
      ],
      "execution_count": null,
      "outputs": [
        {
          "output_type": "display_data",
          "data": {
            "text/plain": [
              "[1] \"8\""
            ],
            "text/latex": "'8'",
            "text/markdown": "'8'",
            "text/html": [
              "'8'"
            ]
          },
          "metadata": {
            "tags": []
          }
        }
      ]
    },
    {
      "cell_type": "markdown",
      "metadata": {
        "id": "YwhBwz-JjQMr"
      },
      "source": [
        "### Obtendo a moda em nosso dataset"
      ]
    },
    {
      "cell_type": "code",
      "metadata": {
        "id": "PbGFIVOF9_cg",
        "outputId": "55c72011-528f-4920-89a7-73ce9390fbe0",
        "colab": {
          "base_uri": "https://localhost:8080/",
          "height": 34
        }
      },
      "source": [
        "Moda(dados$Renda)"
      ],
      "execution_count": null,
      "outputs": [
        {
          "output_type": "display_data",
          "data": {
            "text/plain": [
              "[1] \"788\""
            ],
            "text/latex": "'788'",
            "text/markdown": "'788'",
            "text/html": [
              "'788'"
            ]
          },
          "metadata": {
            "tags": []
          }
        }
      ]
    },
    {
      "cell_type": "code",
      "metadata": {
        "id": "X-6PsHIa9_cj",
        "outputId": "5ab40ea2-0dd0-4c20-cb0d-8c8d076e2e05",
        "colab": {
          "base_uri": "https://localhost:8080/",
          "height": 51
        }
      },
      "source": [
        "Moda(dados$Altura)"
      ],
      "execution_count": null,
      "outputs": [
        {
          "output_type": "display_data",
          "data": {
            "text/plain": [
              "[1] \"1.56812756\"  \"1.671224912\" \"1.681659101\" \"1.692976729\" \"1.708162716\"\n",
              "[6] \"1.708369705\" \"1.753841591\" \"1.779072545\" \"1.796462296\""
            ],
            "text/latex": "\\begin{enumerate*}\n\\item '1.56812756'\n\\item '1.671224912'\n\\item '1.681659101'\n\\item '1.692976729'\n\\item '1.708162716'\n\\item '1.708369705'\n\\item '1.753841591'\n\\item '1.779072545'\n\\item '1.796462296'\n\\end{enumerate*}\n",
            "text/markdown": "1. '1.56812756'\n2. '1.671224912'\n3. '1.681659101'\n4. '1.692976729'\n5. '1.708162716'\n6. '1.708369705'\n7. '1.753841591'\n8. '1.779072545'\n9. '1.796462296'\n\n\n",
            "text/html": [
              "<style>\n",
              ".list-inline {list-style: none; margin:0; padding: 0}\n",
              ".list-inline>li {display: inline-block}\n",
              ".list-inline>li:not(:last-child)::after {content: \"\\00b7\"; padding: 0 .5ex}\n",
              "</style>\n",
              "<ol class=list-inline><li>'1.56812756'</li><li>'1.671224912'</li><li>'1.681659101'</li><li>'1.692976729'</li><li>'1.708162716'</li><li>'1.708369705'</li><li>'1.753841591'</li><li>'1.779072545'</li><li>'1.796462296'</li></ol>\n"
            ]
          },
          "metadata": {
            "tags": []
          }
        }
      ]
    },
    {
      "cell_type": "markdown",
      "metadata": {
        "id": "_-0gjQWFjQMu"
      },
      "source": [
        "## <font color=green>3.4 Relação entre média, mediana e moda</font>\n",
        "***"
      ]
    },
    {
      "cell_type": "markdown",
      "metadata": {
        "id": "0S7pa_jLjQMu"
      },
      "source": [
        "<img src='https://caelum-online-public.s3.amazonaws.com/1177-estatistica-parte1/01/img004.png' width='80%'>"
      ]
    },
    {
      "cell_type": "markdown",
      "metadata": {
        "id": "SUqtT9Hn9_cl"
      },
      "source": [
        "### <font color=red>Documentações:\n",
        "    \n",
        "- [**as.numeric**](https://www.rdocumentation.org/packages/base/versions/3.6.1/topics/numeric)"
      ]
    },
    {
      "cell_type": "markdown",
      "metadata": {
        "id": "b7ZchyFsjQMu"
      },
      "source": [
        "### Avaliando a variável RENDA"
      ]
    },
    {
      "cell_type": "code",
      "metadata": {
        "id": "5OZH7iEV9_cm",
        "outputId": "15aa9beb-b13b-46ee-f0dd-f13d7527a19b",
        "colab": {
          "base_uri": "https://localhost:8080/",
          "height": 257
        }
      },
      "source": [
        "ggplot(dados[dados$Renda < 20000, ], aes(x = Renda, y = ..density..)) + \n",
        "    geom_histogram(binwidth = 500) + \n",
        "    geom_density(color = 'green')"
      ],
      "execution_count": null,
      "outputs": [
        {
          "output_type": "display_data",
          "data": {
            "image/png": "[encoded data removed]",
            "text/plain": [
              "plot without title"
            ]
          },
          "metadata": {
            "tags": [],
            "image/png": {
              "width": 420,
              "height": 240
            }
          }
        }
      ]
    },
    {
      "cell_type": "code",
      "metadata": {
        "id": "KAhfmu2_9_cr",
        "outputId": "30bc27fa-54dc-4a03-be53-4e5288d08b35",
        "colab": {
          "base_uri": "https://localhost:8080/",
          "height": 34
        }
      },
      "source": [
        "moda <- as.numeric(Moda(dados$Renda))\n",
        "moda"
      ],
      "execution_count": null,
      "outputs": [
        {
          "output_type": "display_data",
          "data": {
            "text/plain": [
              "[1] 788"
            ],
            "text/latex": "788",
            "text/markdown": "788",
            "text/html": [
              "788"
            ]
          },
          "metadata": {
            "tags": []
          }
        }
      ]
    },
    {
      "cell_type": "code",
      "metadata": {
        "id": "QhkVRYD69_cs",
        "outputId": "1e9019c4-4375-4e03-8cbb-fdb4d3d36e94",
        "colab": {
          "base_uri": "https://localhost:8080/",
          "height": 34
        }
      },
      "source": [
        "mediana <- median(dados$Renda)\n",
        "mediana"
      ],
      "execution_count": null,
      "outputs": [
        {
          "output_type": "display_data",
          "data": {
            "text/plain": [
              "[1] 1200"
            ],
            "text/latex": "1200",
            "text/markdown": "1200",
            "text/html": [
              "1200"
            ]
          },
          "metadata": {
            "tags": []
          }
        }
      ]
    },
    {
      "cell_type": "code",
      "metadata": {
        "id": "lVG-pt7M9_cv",
        "outputId": "606842bc-9050-47df-93bc-473d6d976642",
        "colab": {
          "base_uri": "https://localhost:8080/",
          "height": 34
        }
      },
      "source": [
        "media <- mean(dados$Renda)\n",
        "media"
      ],
      "execution_count": null,
      "outputs": [
        {
          "output_type": "display_data",
          "data": {
            "text/plain": [
              "[1] 2000.383"
            ],
            "text/latex": "2000.38319885476",
            "text/markdown": "2000.38319885476",
            "text/html": [
              "2000.38319885476"
            ]
          },
          "metadata": {
            "tags": []
          }
        }
      ]
    },
    {
      "cell_type": "code",
      "metadata": {
        "id": "nX6lnCBujQM0",
        "outputId": "19dbf08f-2c7d-415f-fcc0-7f2f95682b8f",
        "colab": {
          "base_uri": "https://localhost:8080/",
          "height": 51
        }
      },
      "source": [
        "moda < mediana\n",
        "mediana < media"
      ],
      "execution_count": null,
      "outputs": [
        {
          "output_type": "display_data",
          "data": {
            "text/plain": [
              "[1] TRUE"
            ],
            "text/latex": "TRUE",
            "text/markdown": "TRUE",
            "text/html": [
              "TRUE"
            ]
          },
          "metadata": {
            "tags": []
          }
        },
        {
          "output_type": "display_data",
          "data": {
            "text/plain": [
              "[1] TRUE"
            ],
            "text/latex": "TRUE",
            "text/markdown": "TRUE",
            "text/html": [
              "TRUE"
            ]
          },
          "metadata": {
            "tags": []
          }
        }
      ]
    },
    {
      "cell_type": "markdown",
      "metadata": {
        "id": "FnLQAxSijQM1"
      },
      "source": [
        "***"
      ]
    },
    {
      "cell_type": "markdown",
      "metadata": {
        "id": "WazchssNjQM1"
      },
      "source": [
        "### Avaliando a variável ALTURA"
      ]
    },
    {
      "cell_type": "code",
      "metadata": {
        "id": "41uJsCk9jQM2",
        "outputId": "72f12b47-d9dc-4f24-ffe5-11a7e49aac06",
        "colab": {
          "base_uri": "https://localhost:8080/",
          "height": 291
        }
      },
      "source": [
        "ggplot(dados, aes(x = Altura, y = ..density..)) + \n",
        "    geom_histogram() + \n",
        "    geom_density(color = 'green')"
      ],
      "execution_count": null,
      "outputs": [
        {
          "output_type": "stream",
          "text": [
            "`stat_bin()` using `bins = 30`. Pick better value with `binwidth`.\n",
            "\n"
          ],
          "name": "stderr"
        },
        {
          "output_type": "display_data",
          "data": {
            "image/png": "[encoded data removed]",
            "text/plain": [
              "plot without title"
            ]
          },
          "metadata": {
            "tags": [],
            "image/png": {
              "width": 420,
              "height": 240
            }
          }
        }
      ]
    },
    {
      "cell_type": "code",
      "metadata": {
        "id": "EkgerGuXjQM3",
        "outputId": "9b773360-93b6-4238-d91b-b8793736054b",
        "colab": {
          "base_uri": "https://localhost:8080/",
          "height": 51
        }
      },
      "source": [
        "moda <- as.numeric(Moda(dados$Altura))\n",
        "moda"
      ],
      "execution_count": null,
      "outputs": [
        {
          "output_type": "display_data",
          "data": {
            "text/plain": [
              "[1] 1.568128 1.671225 1.681659 1.692977 1.708163 1.708370 1.753842 1.779073\n",
              "[9] 1.796462"
            ],
            "text/latex": "\\begin{enumerate*}\n\\item 1.56812756\n\\item 1.671224912\n\\item 1.681659101\n\\item 1.692976729\n\\item 1.708162716\n\\item 1.708369705\n\\item 1.753841591\n\\item 1.779072545\n\\item 1.796462296\n\\end{enumerate*}\n",
            "text/markdown": "1. 1.56812756\n2. 1.671224912\n3. 1.681659101\n4. 1.692976729\n5. 1.708162716\n6. 1.708369705\n7. 1.753841591\n8. 1.779072545\n9. 1.796462296\n\n\n",
            "text/html": [
              "<style>\n",
              ".list-inline {list-style: none; margin:0; padding: 0}\n",
              ".list-inline>li {display: inline-block}\n",
              ".list-inline>li:not(:last-child)::after {content: \"\\00b7\"; padding: 0 .5ex}\n",
              "</style>\n",
              "<ol class=list-inline><li>1.56812756</li><li>1.671224912</li><li>1.681659101</li><li>1.692976729</li><li>1.708162716</li><li>1.708369705</li><li>1.753841591</li><li>1.779072545</li><li>1.796462296</li></ol>\n"
            ]
          },
          "metadata": {
            "tags": []
          }
        }
      ]
    },
    {
      "cell_type": "code",
      "metadata": {
        "id": "Jj6MFUXbjQM4",
        "outputId": "8c0a28b1-54a8-44bb-ac5c-aa1a68bae8c2",
        "colab": {
          "base_uri": "https://localhost:8080/",
          "height": 34
        }
      },
      "source": [
        "mediana <- median(dados$Altura)\n",
        "mediana"
      ],
      "execution_count": null,
      "outputs": [
        {
          "output_type": "display_data",
          "data": {
            "text/plain": [
              "[1] 1.699325"
            ],
            "text/latex": "1.6993247325",
            "text/markdown": "1.6993247325",
            "text/html": [
              "1.6993247325"
            ]
          },
          "metadata": {
            "tags": []
          }
        }
      ]
    },
    {
      "cell_type": "code",
      "metadata": {
        "id": "84X-3AzvjQM5",
        "outputId": "cd411165-caeb-466b-8718-0493c08f4f5f",
        "colab": {
          "base_uri": "https://localhost:8080/",
          "height": 34
        }
      },
      "source": [
        "media <- mean(dados$Altura)\n",
        "media"
      ],
      "execution_count": null,
      "outputs": [
        {
          "output_type": "display_data",
          "data": {
            "text/plain": [
              "[1] 1.699512"
            ],
            "text/latex": "1.69951245405757",
            "text/markdown": "1.69951245405757",
            "text/html": [
              "1.69951245405757"
            ]
          },
          "metadata": {
            "tags": []
          }
        }
      ]
    },
    {
      "cell_type": "markdown",
      "metadata": {
        "id": "PJIMB8i8jQM6"
      },
      "source": [
        "***"
      ]
    },
    {
      "cell_type": "markdown",
      "metadata": {
        "id": "eS4I2H7jjQM7"
      },
      "source": [
        "### Avaliando a variável ANOS DE ESTUDO"
      ]
    },
    {
      "cell_type": "code",
      "metadata": {
        "id": "NPCcjXqPjQM8",
        "outputId": "84dfe39b-16bc-48b2-cd2d-1595801ece80",
        "colab": {
          "base_uri": "https://localhost:8080/",
          "height": 291
        }
      },
      "source": [
        "ggplot(dados, aes(x = Anos.de.Estudo, y = ..density..)) + \n",
        "    geom_histogram() + \n",
        "    geom_density(color = 'green')"
      ],
      "execution_count": null,
      "outputs": [
        {
          "output_type": "stream",
          "text": [
            "`stat_bin()` using `bins = 30`. Pick better value with `binwidth`.\n",
            "\n"
          ],
          "name": "stderr"
        },
        {
          "output_type": "display_data",
          "data": {
            "image/png": "[encoded data removed]",
            "text/plain": [
              "plot without title"
            ]
          },
          "metadata": {
            "tags": [],
            "image/png": {
              "width": 420,
              "height": 240
            }
          }
        }
      ]
    },
    {
      "cell_type": "code",
      "metadata": {
        "id": "PjfvPYUajQM9",
        "outputId": "ab636ad6-5132-4008-a548-c0823d53e1f7",
        "colab": {
          "base_uri": "https://localhost:8080/",
          "height": 34
        }
      },
      "source": [
        "moda <- as.numeric(Moda(dados$Anos.de.Estudo))\n",
        "moda"
      ],
      "execution_count": null,
      "outputs": [
        {
          "output_type": "display_data",
          "data": {
            "text/plain": [
              "[1] 12"
            ],
            "text/latex": "12",
            "text/markdown": "12",
            "text/html": [
              "12"
            ]
          },
          "metadata": {
            "tags": []
          }
        }
      ]
    },
    {
      "cell_type": "code",
      "metadata": {
        "id": "VF_Bj8x2jQM-",
        "outputId": "827b83ed-6954-4d38-87c2-9b16a7c9a8ac",
        "colab": {
          "base_uri": "https://localhost:8080/",
          "height": 34
        }
      },
      "source": [
        "mediana <- median(dados$Anos.de.Estudo)\n",
        "mediana"
      ],
      "execution_count": null,
      "outputs": [
        {
          "output_type": "display_data",
          "data": {
            "text/plain": [
              "[1] 11"
            ],
            "text/latex": "11",
            "text/markdown": "11",
            "text/html": [
              "11"
            ]
          },
          "metadata": {
            "tags": []
          }
        }
      ]
    },
    {
      "cell_type": "code",
      "metadata": {
        "id": "ohqUZ5RsjQNA",
        "outputId": "6a6d2f73-abe5-4f7b-9577-c18a1f90bb28",
        "colab": {
          "base_uri": "https://localhost:8080/",
          "height": 34
        }
      },
      "source": [
        "media = mean(dados$Anos.de.Estudo)\n",
        "media"
      ],
      "execution_count": null,
      "outputs": [
        {
          "output_type": "display_data",
          "data": {
            "text/plain": [
              "[1] 9.469664"
            ],
            "text/latex": "9.46966423737637",
            "text/markdown": "9.46966423737637",
            "text/html": [
              "9.46966423737637"
            ]
          },
          "metadata": {
            "tags": []
          }
        }
      ]
    },
    {
      "cell_type": "code",
      "metadata": {
        "id": "AwM8UvApjQNC",
        "outputId": "0a9247af-08f2-4956-e4fb-3bfe3765ed0f",
        "colab": {
          "base_uri": "https://localhost:8080/",
          "height": 51
        }
      },
      "source": [
        "moda > mediana\n",
        "mediana > media"
      ],
      "execution_count": null,
      "outputs": [
        {
          "output_type": "display_data",
          "data": {
            "text/plain": [
              "[1] TRUE"
            ],
            "text/latex": "TRUE",
            "text/markdown": "TRUE",
            "text/html": [
              "TRUE"
            ]
          },
          "metadata": {
            "tags": []
          }
        },
        {
          "output_type": "display_data",
          "data": {
            "text/plain": [
              "[1] TRUE"
            ],
            "text/latex": "TRUE",
            "text/markdown": "TRUE",
            "text/html": [
              "TRUE"
            ]
          },
          "metadata": {
            "tags": []
          }
        }
      ]
    },
    {
      "cell_type": "markdown",
      "metadata": {
        "id": "vcaIo45UjQND"
      },
      "source": [
        "# <font color=green>4 MEDIDAS SEPARATRIZES</font>\n",
        "***"
      ]
    },
    {
      "cell_type": "markdown",
      "metadata": {
        "id": "f4XrApNxjQNE"
      },
      "source": [
        "## <font color=green>4.1 Quartis, decis e percentis</font>\n",
        "***\n",
        "\n",
        "Há uma série de medidas de posição semelhantes na sua concepção à mediana, embora não sejam medidas de tendência central. Como se sabe, a mediana divide a distribuição em duas partes iguais quanto ao número de elementos de cada parte. Já os quartis permitem dividir a distribuição em quatro partes iguais quanto ao número de elementos de cada uma; os decis em dez partes e os centis em cem partes iguais."
      ]
    },
    {
      "cell_type": "markdown",
      "metadata": {
        "id": "ZufMaz6i9_dR"
      },
      "source": [
        "### <font color=red>Documentações:\n",
        "\n",
        "- [**quantile**](https://www.rdocumentation.org/packages/stats/versions/3.6.1/topics/quantile)\n",
        "- [**for**](https://www.rdocumentation.org/packages/base/versions/3.6.1/topics/Control)\n",
        "- [**length**](https://www.rdocumentation.org/packages/base/versions/3.6.1/topics/length)"
      ]
    },
    {
      "cell_type": "code",
      "metadata": {
        "id": "VmbdUO-ujQNE",
        "outputId": "595295dc-60a7-4909-a01f-20178ba8316c",
        "colab": {
          "base_uri": "https://localhost:8080/",
          "height": 34
        }
      },
      "source": [
        "quantile(dados$Renda, c(0.25, 0.5, 0.75))"
      ],
      "execution_count": null,
      "outputs": [
        {
          "output_type": "display_data",
          "data": {
            "text/plain": [
              " 25%  50%  75% \n",
              " 788 1200 2000 "
            ],
            "text/latex": "\\begin{description*}\n\\item[25\\textbackslash{}\\%] 788\n\\item[50\\textbackslash{}\\%] 1200\n\\item[75\\textbackslash{}\\%] 2000\n\\end{description*}\n",
            "text/markdown": "25%\n:   78850%\n:   120075%\n:   2000\n\n",
            "text/html": [
              "<style>\n",
              ".dl-inline {width: auto; margin:0; padding: 0}\n",
              ".dl-inline>dt, .dl-inline>dd {float: none; width: auto; display: inline-block}\n",
              ".dl-inline>dt::after {content: \":\\0020\"; padding-right: .5ex}\n",
              ".dl-inline>dt:not(:first-of-type) {padding-left: .5ex}\n",
              "</style><dl class=dl-inline><dt>25%</dt><dd>788</dd><dt>50%</dt><dd>1200</dd><dt>75%</dt><dd>2000</dd></dl>\n"
            ]
          },
          "metadata": {
            "tags": []
          }
        }
      ]
    },
    {
      "cell_type": "code",
      "metadata": {
        "id": "U3GDAZMz9_dV",
        "outputId": "651aca7e-95d2-4c66-aa70-7779243a2e86",
        "colab": {
          "base_uri": "https://localhost:8080/",
          "height": 34
        }
      },
      "source": [
        "decis <- c()\n",
        "for(i in 1:9) {\n",
        "  decis <- c(decis, i / 10)\n",
        "}\n",
        "decis"
      ],
      "execution_count": null,
      "outputs": [
        {
          "output_type": "display_data",
          "data": {
            "text/plain": [
              "[1] 0.1 0.2 0.3 0.4 0.5 0.6 0.7 0.8 0.9"
            ],
            "text/latex": "\\begin{enumerate*}\n\\item 0.1\n\\item 0.2\n\\item 0.3\n\\item 0.4\n\\item 0.5\n\\item 0.6\n\\item 0.7\n\\item 0.8\n\\item 0.9\n\\end{enumerate*}\n",
            "text/markdown": "1. 0.1\n2. 0.2\n3. 0.3\n4. 0.4\n5. 0.5\n6. 0.6\n7. 0.7\n8. 0.8\n9. 0.9\n\n\n",
            "text/html": [
              "<style>\n",
              ".list-inline {list-style: none; margin:0; padding: 0}\n",
              ".list-inline>li {display: inline-block}\n",
              ".list-inline>li:not(:last-child)::after {content: \"\\00b7\"; padding: 0 .5ex}\n",
              "</style>\n",
              "<ol class=list-inline><li>0.1</li><li>0.2</li><li>0.3</li><li>0.4</li><li>0.5</li><li>0.6</li><li>0.7</li><li>0.8</li><li>0.9</li></ol>\n"
            ]
          },
          "metadata": {
            "tags": []
          }
        }
      ]
    },
    {
      "cell_type": "code",
      "metadata": {
        "id": "EpRKboV5jQNG",
        "outputId": "cf409b5e-b795-434d-d750-f7b230213374",
        "colab": {
          "base_uri": "https://localhost:8080/",
          "height": 51
        }
      },
      "source": [
        "quantile(dados$Renda, decis)"
      ],
      "execution_count": null,
      "outputs": [
        {
          "output_type": "display_data",
          "data": {
            "text/plain": [
              " 10%  20%  30%  40%  50%  60%  70%  80%  90% \n",
              " 350  788  800 1000 1200 1500 1900 2500 4000 "
            ],
            "text/latex": "\\begin{description*}\n\\item[10\\textbackslash{}\\%] 350\n\\item[20\\textbackslash{}\\%] 788\n\\item[30\\textbackslash{}\\%] 800\n\\item[40\\textbackslash{}\\%] 1000\n\\item[50\\textbackslash{}\\%] 1200\n\\item[60\\textbackslash{}\\%] 1500\n\\item[70\\textbackslash{}\\%] 1900\n\\item[80\\textbackslash{}\\%] 2500\n\\item[90\\textbackslash{}\\%] 4000\n\\end{description*}\n",
            "text/markdown": "10%\n:   35020%\n:   78830%\n:   80040%\n:   100050%\n:   120060%\n:   150070%\n:   190080%\n:   250090%\n:   4000\n\n",
            "text/html": [
              "<style>\n",
              ".dl-inline {width: auto; margin:0; padding: 0}\n",
              ".dl-inline>dt, .dl-inline>dd {float: none; width: auto; display: inline-block}\n",
              ".dl-inline>dt::after {content: \":\\0020\"; padding-right: .5ex}\n",
              ".dl-inline>dt:not(:first-of-type) {padding-left: .5ex}\n",
              "</style><dl class=dl-inline><dt>10%</dt><dd>350</dd><dt>20%</dt><dd>788</dd><dt>30%</dt><dd>800</dd><dt>40%</dt><dd>1000</dd><dt>50%</dt><dd>1200</dd><dt>60%</dt><dd>1500</dd><dt>70%</dt><dd>1900</dd><dt>80%</dt><dd>2500</dd><dt>90%</dt><dd>4000</dd></dl>\n"
            ]
          },
          "metadata": {
            "tags": []
          }
        }
      ]
    },
    {
      "cell_type": "code",
      "metadata": {
        "id": "BnLoLfZa9_dc",
        "outputId": "c27104e2-3e39-488b-b847-082295b41978",
        "colab": {
          "base_uri": "https://localhost:8080/",
          "height": 323
        }
      },
      "source": [
        "centis <- c()\n",
        "for (i in 1:99) {\n",
        "  centis <- c(centis, i / 100)\n",
        "}\n",
        "quantile(dados$Renda, centis)"
      ],
      "execution_count": null,
      "outputs": [
        {
          "output_type": "display_data",
          "data": {
            "text/plain": [
              "   1%    2%    3%    4%    5%    6%    7%    8%    9%   10%   11%   12%   13% \n",
              "    0     0     0    50   100   180   200   280   300   350   400   400   480 \n",
              "  14%   15%   16%   17%   18%   19%   20%   21%   22%   23%   24%   25%   26% \n",
              "  500   500   600   600   700   700   788   788   788   788   788   788   788 \n",
              "  27%   28%   29%   30%   31%   32%   33%   34%   35%   36%   37%   38%   39% \n",
              "  788   788   789   800   800   800   840   870   900   900   920   970  1000 \n",
              "  40%   41%   42%   43%   44%   45%   46%   47%   48%   49%   50%   51%   52% \n",
              " 1000  1000  1000  1000  1014  1100  1100  1150  1200  1200  1200  1200  1200 \n",
              "  53%   54%   55%   56%   57%   58%   59%   60%   61%   62%   63%   64%   65% \n",
              " 1200  1300  1300  1350  1400  1490  1500  1500  1500  1500  1500  1520  1600 \n",
              "  66%   67%   68%   69%   70%   71%   72%   73%   74%   75%   76%   77%   78% \n",
              " 1600  1700  1800  1800  1900  2000  2000  2000  2000  2000  2000  2200  2300 \n",
              "  79%   80%   81%   82%   83%   84%   85%   86%   87%   88%   89%   90%   91% \n",
              " 2400  2500  2500  2600  3000  3000  3000  3000  3400  3500  4000  4000  4200 \n",
              "  92%   93%   94%   95%   96%   97%   98%   99% \n",
              " 5000  5000  5400  6000  7000  8000 10000 15000 "
            ],
            "text/latex": "\\begin{description*}\n\\item[1\\textbackslash{}\\%] 0\n\\item[2\\textbackslash{}\\%] 0\n\\item[3\\textbackslash{}\\%] 0\n\\item[4\\textbackslash{}\\%] 50\n\\item[5\\textbackslash{}\\%] 100\n\\item[6\\textbackslash{}\\%] 180\n\\item[7\\textbackslash{}\\%] 200\n\\item[8\\textbackslash{}\\%] 280\n\\item[9\\textbackslash{}\\%] 300\n\\item[10\\textbackslash{}\\%] 350\n\\item[11\\textbackslash{}\\%] 400\n\\item[12\\textbackslash{}\\%] 400\n\\item[13\\textbackslash{}\\%] 480\n\\item[14\\textbackslash{}\\%] 500\n\\item[15\\textbackslash{}\\%] 500\n\\item[16\\textbackslash{}\\%] 600\n\\item[17\\textbackslash{}\\%] 600\n\\item[18\\textbackslash{}\\%] 700\n\\item[19\\textbackslash{}\\%] 700\n\\item[20\\textbackslash{}\\%] 788\n\\item[21\\textbackslash{}\\%] 788\n\\item[22\\textbackslash{}\\%] 788\n\\item[23\\textbackslash{}\\%] 788\n\\item[24\\textbackslash{}\\%] 788\n\\item[25\\textbackslash{}\\%] 788\n\\item[26\\textbackslash{}\\%] 788\n\\item[27\\textbackslash{}\\%] 788\n\\item[28\\textbackslash{}\\%] 788\n\\item[29\\textbackslash{}\\%] 789\n\\item[30\\textbackslash{}\\%] 800\n\\item[31\\textbackslash{}\\%] 800\n\\item[32\\textbackslash{}\\%] 800\n\\item[33\\textbackslash{}\\%] 840\n\\item[34\\textbackslash{}\\%] 870\n\\item[35\\textbackslash{}\\%] 900\n\\item[36\\textbackslash{}\\%] 900\n\\item[37\\textbackslash{}\\%] 920\n\\item[38\\textbackslash{}\\%] 970\n\\item[39\\textbackslash{}\\%] 1000\n\\item[40\\textbackslash{}\\%] 1000\n\\item[41\\textbackslash{}\\%] 1000\n\\item[42\\textbackslash{}\\%] 1000\n\\item[43\\textbackslash{}\\%] 1000\n\\item[44\\textbackslash{}\\%] 1014\n\\item[45\\textbackslash{}\\%] 1100\n\\item[46\\textbackslash{}\\%] 1100\n\\item[47\\textbackslash{}\\%] 1150\n\\item[48\\textbackslash{}\\%] 1200\n\\item[49\\textbackslash{}\\%] 1200\n\\item[50\\textbackslash{}\\%] 1200\n\\item[51\\textbackslash{}\\%] 1200\n\\item[52\\textbackslash{}\\%] 1200\n\\item[53\\textbackslash{}\\%] 1200\n\\item[54\\textbackslash{}\\%] 1300\n\\item[55\\textbackslash{}\\%] 1300\n\\item[56\\textbackslash{}\\%] 1350\n\\item[57\\textbackslash{}\\%] 1400\n\\item[58\\textbackslash{}\\%] 1490\n\\item[59\\textbackslash{}\\%] 1500\n\\item[60\\textbackslash{}\\%] 1500\n\\item[61\\textbackslash{}\\%] 1500\n\\item[62\\textbackslash{}\\%] 1500\n\\item[63\\textbackslash{}\\%] 1500\n\\item[64\\textbackslash{}\\%] 1520\n\\item[65\\textbackslash{}\\%] 1600\n\\item[66\\textbackslash{}\\%] 1600\n\\item[67\\textbackslash{}\\%] 1700\n\\item[68\\textbackslash{}\\%] 1800\n\\item[69\\textbackslash{}\\%] 1800\n\\item[70\\textbackslash{}\\%] 1900\n\\item[71\\textbackslash{}\\%] 2000\n\\item[72\\textbackslash{}\\%] 2000\n\\item[73\\textbackslash{}\\%] 2000\n\\item[74\\textbackslash{}\\%] 2000\n\\item[75\\textbackslash{}\\%] 2000\n\\item[76\\textbackslash{}\\%] 2000\n\\item[77\\textbackslash{}\\%] 2200\n\\item[78\\textbackslash{}\\%] 2300\n\\item[79\\textbackslash{}\\%] 2400\n\\item[80\\textbackslash{}\\%] 2500\n\\item[81\\textbackslash{}\\%] 2500\n\\item[82\\textbackslash{}\\%] 2600\n\\item[83\\textbackslash{}\\%] 3000\n\\item[84\\textbackslash{}\\%] 3000\n\\item[85\\textbackslash{}\\%] 3000\n\\item[86\\textbackslash{}\\%] 3000\n\\item[87\\textbackslash{}\\%] 3400\n\\item[88\\textbackslash{}\\%] 3500\n\\item[89\\textbackslash{}\\%] 4000\n\\item[90\\textbackslash{}\\%] 4000\n\\item[91\\textbackslash{}\\%] 4200\n\\item[92\\textbackslash{}\\%] 5000\n\\item[93\\textbackslash{}\\%] 5000\n\\item[94\\textbackslash{}\\%] 5400\n\\item[95\\textbackslash{}\\%] 6000\n\\item[96\\textbackslash{}\\%] 7000\n\\item[97\\textbackslash{}\\%] 8000\n\\item[98\\textbackslash{}\\%] 10000\n\\item[99\\textbackslash{}\\%] 15000\n\\end{description*}\n",
            "text/markdown": "1%\n:   02%\n:   03%\n:   04%\n:   505%\n:   1006%\n:   1807%\n:   2008%\n:   2809%\n:   30010%\n:   35011%\n:   40012%\n:   40013%\n:   48014%\n:   50015%\n:   50016%\n:   60017%\n:   60018%\n:   70019%\n:   70020%\n:   78821%\n:   78822%\n:   78823%\n:   78824%\n:   78825%\n:   78826%\n:   78827%\n:   78828%\n:   78829%\n:   78930%\n:   80031%\n:   80032%\n:   80033%\n:   84034%\n:   87035%\n:   90036%\n:   90037%\n:   92038%\n:   97039%\n:   100040%\n:   100041%\n:   100042%\n:   100043%\n:   100044%\n:   101445%\n:   110046%\n:   110047%\n:   115048%\n:   120049%\n:   120050%\n:   120051%\n:   120052%\n:   120053%\n:   120054%\n:   130055%\n:   130056%\n:   135057%\n:   140058%\n:   149059%\n:   150060%\n:   150061%\n:   150062%\n:   150063%\n:   150064%\n:   152065%\n:   160066%\n:   160067%\n:   170068%\n:   180069%\n:   180070%\n:   190071%\n:   200072%\n:   200073%\n:   200074%\n:   200075%\n:   200076%\n:   200077%\n:   220078%\n:   230079%\n:   240080%\n:   250081%\n:   250082%\n:   260083%\n:   300084%\n:   300085%\n:   300086%\n:   300087%\n:   340088%\n:   350089%\n:   400090%\n:   400091%\n:   420092%\n:   500093%\n:   500094%\n:   540095%\n:   600096%\n:   700097%\n:   800098%\n:   1000099%\n:   15000\n\n",
            "text/html": [
              "<style>\n",
              ".dl-inline {width: auto; margin:0; padding: 0}\n",
              ".dl-inline>dt, .dl-inline>dd {float: none; width: auto; display: inline-block}\n",
              ".dl-inline>dt::after {content: \":\\0020\"; padding-right: .5ex}\n",
              ".dl-inline>dt:not(:first-of-type) {padding-left: .5ex}\n",
              "</style><dl class=dl-inline><dt>1%</dt><dd>0</dd><dt>2%</dt><dd>0</dd><dt>3%</dt><dd>0</dd><dt>4%</dt><dd>50</dd><dt>5%</dt><dd>100</dd><dt>6%</dt><dd>180</dd><dt>7%</dt><dd>200</dd><dt>8%</dt><dd>280</dd><dt>9%</dt><dd>300</dd><dt>10%</dt><dd>350</dd><dt>11%</dt><dd>400</dd><dt>12%</dt><dd>400</dd><dt>13%</dt><dd>480</dd><dt>14%</dt><dd>500</dd><dt>15%</dt><dd>500</dd><dt>16%</dt><dd>600</dd><dt>17%</dt><dd>600</dd><dt>18%</dt><dd>700</dd><dt>19%</dt><dd>700</dd><dt>20%</dt><dd>788</dd><dt>21%</dt><dd>788</dd><dt>22%</dt><dd>788</dd><dt>23%</dt><dd>788</dd><dt>24%</dt><dd>788</dd><dt>25%</dt><dd>788</dd><dt>26%</dt><dd>788</dd><dt>27%</dt><dd>788</dd><dt>28%</dt><dd>788</dd><dt>29%</dt><dd>789</dd><dt>30%</dt><dd>800</dd><dt>31%</dt><dd>800</dd><dt>32%</dt><dd>800</dd><dt>33%</dt><dd>840</dd><dt>34%</dt><dd>870</dd><dt>35%</dt><dd>900</dd><dt>36%</dt><dd>900</dd><dt>37%</dt><dd>920</dd><dt>38%</dt><dd>970</dd><dt>39%</dt><dd>1000</dd><dt>40%</dt><dd>1000</dd><dt>41%</dt><dd>1000</dd><dt>42%</dt><dd>1000</dd><dt>43%</dt><dd>1000</dd><dt>44%</dt><dd>1014</dd><dt>45%</dt><dd>1100</dd><dt>46%</dt><dd>1100</dd><dt>47%</dt><dd>1150</dd><dt>48%</dt><dd>1200</dd><dt>49%</dt><dd>1200</dd><dt>50%</dt><dd>1200</dd><dt>51%</dt><dd>1200</dd><dt>52%</dt><dd>1200</dd><dt>53%</dt><dd>1200</dd><dt>54%</dt><dd>1300</dd><dt>55%</dt><dd>1300</dd><dt>56%</dt><dd>1350</dd><dt>57%</dt><dd>1400</dd><dt>58%</dt><dd>1490</dd><dt>59%</dt><dd>1500</dd><dt>60%</dt><dd>1500</dd><dt>61%</dt><dd>1500</dd><dt>62%</dt><dd>1500</dd><dt>63%</dt><dd>1500</dd><dt>64%</dt><dd>1520</dd><dt>65%</dt><dd>1600</dd><dt>66%</dt><dd>1600</dd><dt>67%</dt><dd>1700</dd><dt>68%</dt><dd>1800</dd><dt>69%</dt><dd>1800</dd><dt>70%</dt><dd>1900</dd><dt>71%</dt><dd>2000</dd><dt>72%</dt><dd>2000</dd><dt>73%</dt><dd>2000</dd><dt>74%</dt><dd>2000</dd><dt>75%</dt><dd>2000</dd><dt>76%</dt><dd>2000</dd><dt>77%</dt><dd>2200</dd><dt>78%</dt><dd>2300</dd><dt>79%</dt><dd>2400</dd><dt>80%</dt><dd>2500</dd><dt>81%</dt><dd>2500</dd><dt>82%</dt><dd>2600</dd><dt>83%</dt><dd>3000</dd><dt>84%</dt><dd>3000</dd><dt>85%</dt><dd>3000</dd><dt>86%</dt><dd>3000</dd><dt>87%</dt><dd>3400</dd><dt>88%</dt><dd>3500</dd><dt>89%</dt><dd>4000</dd><dt>90%</dt><dd>4000</dd><dt>91%</dt><dd>4200</dd><dt>92%</dt><dd>5000</dd><dt>93%</dt><dd>5000</dd><dt>94%</dt><dd>5400</dd><dt>95%</dt><dd>6000</dd><dt>96%</dt><dd>7000</dd><dt>97%</dt><dd>8000</dd><dt>98%</dt><dd>10000</dd><dt>99%</dt><dd>15000</dd></dl>\n"
            ]
          },
          "metadata": {
            "tags": []
          }
        }
      ]
    },
    {
      "cell_type": "code",
      "metadata": {
        "id": "TOXHMrjP9_de",
        "outputId": "35b7b11b-196b-4844-d07a-e04abd72ced7",
        "colab": {
          "base_uri": "https://localhost:8080/",
          "height": 291
        }
      },
      "source": [
        "ggplot(data = dados, aes(x = Idade)) + \n",
        "    geom_histogram(\n",
        "        aes(y = cumsum(..count..) / sum(..count..)), \n",
        "        bins = 10\n",
        "    ) + \n",
        "    geom_freqpoly(\n",
        "        aes(y = cumsum(..count..) / sum(..count..)), \n",
        "        color = 'green'\n",
        "    )"
      ],
      "execution_count": null,
      "outputs": [
        {
          "output_type": "stream",
          "text": [
            "`stat_bin()` using `bins = 30`. Pick better value with `binwidth`.\n",
            "\n"
          ],
          "name": "stderr"
        },
        {
          "output_type": "display_data",
          "data": {
            "image/png": "[encoded data removed]",
            "text/plain": [
              "plot without title"
            ]
          },
          "metadata": {
            "tags": [],
            "image/png": {
              "width": 420,
              "height": 240
            }
          }
        }
      ]
    },
    {
      "cell_type": "code",
      "metadata": {
        "id": "beXl0bQV9_df",
        "outputId": "eb5d9ef5-35bf-45b4-b5be-b6a7c8be31c7",
        "colab": {
          "base_uri": "https://localhost:8080/",
          "height": 51
        }
      },
      "source": [
        "decis <- c()\n",
        "for (i in 1:9) {\n",
        "  decis <-c(decis, i / 10)\n",
        "}\n",
        "quantile(dados$Renda, decis)"
      ],
      "execution_count": null,
      "outputs": [
        {
          "output_type": "display_data",
          "data": {
            "text/plain": [
              " 10%  20%  30%  40%  50%  60%  70%  80%  90% \n",
              " 350  788  800 1000 1200 1500 1900 2500 4000 "
            ],
            "text/latex": "\\begin{description*}\n\\item[10\\textbackslash{}\\%] 350\n\\item[20\\textbackslash{}\\%] 788\n\\item[30\\textbackslash{}\\%] 800\n\\item[40\\textbackslash{}\\%] 1000\n\\item[50\\textbackslash{}\\%] 1200\n\\item[60\\textbackslash{}\\%] 1500\n\\item[70\\textbackslash{}\\%] 1900\n\\item[80\\textbackslash{}\\%] 2500\n\\item[90\\textbackslash{}\\%] 4000\n\\end{description*}\n",
            "text/markdown": "10%\n:   35020%\n:   78830%\n:   80040%\n:   100050%\n:   120060%\n:   150070%\n:   190080%\n:   250090%\n:   4000\n\n",
            "text/html": [
              "<style>\n",
              ".dl-inline {width: auto; margin:0; padding: 0}\n",
              ".dl-inline>dt, .dl-inline>dd {float: none; width: auto; display: inline-block}\n",
              ".dl-inline>dt::after {content: \":\\0020\"; padding-right: .5ex}\n",
              ".dl-inline>dt:not(:first-of-type) {padding-left: .5ex}\n",
              "</style><dl class=dl-inline><dt>10%</dt><dd>350</dd><dt>20%</dt><dd>788</dd><dt>30%</dt><dd>800</dd><dt>40%</dt><dd>1000</dd><dt>50%</dt><dd>1200</dd><dt>60%</dt><dd>1500</dd><dt>70%</dt><dd>1900</dd><dt>80%</dt><dd>2500</dd><dt>90%</dt><dd>4000</dd></dl>\n"
            ]
          },
          "metadata": {
            "tags": []
          }
        }
      ]
    },
    {
      "cell_type": "markdown",
      "metadata": {
        "id": "MKs9ptjl9_dh"
      },
      "source": [
        "\n",
        "### Classificação percentual"
      ]
    },
    {
      "cell_type": "code",
      "metadata": {
        "id": "5PzLqOmx9_dh",
        "outputId": "8496f266-ccaf-437a-8af3-d4ff9c61b821",
        "colab": {
          "base_uri": "https://localhost:8080/",
          "height": 34
        }
      },
      "source": [
        "length(dados$Idade[dados$Idade <= 40]) / length(dados$Idade)"
      ],
      "execution_count": null,
      "outputs": [
        {
          "output_type": "display_data",
          "data": {
            "text/plain": [
              "[1] 0.4207574"
            ],
            "text/latex": "0.420757418011452",
            "text/markdown": "0.420757418011452",
            "text/html": [
              "0.420757418011452"
            ]
          },
          "metadata": {
            "tags": []
          }
        }
      ]
    },
    {
      "cell_type": "markdown",
      "metadata": {
        "id": "6gIeZO_CjQNJ"
      },
      "source": [
        "## <font color=green>4.2 Box-plot</font>\n",
        "***\n",
        "\n",
        "O box plot dá uma idéia da posição, dispersão, assimetria, caudas e dados discrepantes (outliers). A posição central é dada pela mediana e a dispersão por $IIQ$. As posições relativas de $Q1$, $Mediana$ e $Q3$ dão uma noção da simetria da distribuição. Os comprimentos das cauda são dados pelas linhas que vão do retângulo aos valores remotos e pelos valores atípicos."
      ]
    },
    {
      "cell_type": "markdown",
      "metadata": {
        "id": "0w8kZDMd9_dj"
      },
      "source": [
        "#### <font color=red>Documentações:\n",
        "\n",
        "- [**geom_boxplot**](https://www.rdocumentation.org/packages/ggplot2/versions/3.2.1/topics/geom_boxplot)\n",
        "- [**factor**](https://www.rdocumentation.org/packages/base/versions/3.6.1/topics/factor)"
      ]
    },
    {
      "cell_type": "markdown",
      "metadata": {
        "id": "VeiTE_gvjQNK"
      },
      "source": [
        "<img src='https://caelum-online-public.s3.amazonaws.com/1177-estatistica-parte1/01/img005.png' width='65%'>"
      ]
    },
    {
      "cell_type": "code",
      "metadata": {
        "id": "GJVxgshM9_dk"
      },
      "source": [
        "sexo = c(\n",
        "    'Masculino', \n",
        "    'Feminino'\n",
        ")\n",
        "cor = c(\n",
        "    'Indígena', \n",
        "    'Branca', \n",
        "    'Preta', \n",
        "    'Amarela', \n",
        "    'Parda'\n",
        ")\n",
        "anos_de_estudo = c(\n",
        "    'Sem instrução e menos de 1 ano', \n",
        "    '1 ano', \n",
        "    '2 anos', \n",
        "    '3 anos', \n",
        "    '4 anos', \n",
        "    '5 anos', \n",
        "    '6 anos', \n",
        "    '7 anos', \n",
        "    '8 anos', \n",
        "    '9 anos', \n",
        "    '10 anos', \n",
        "    '11 anos', \n",
        "    '12 anos', \n",
        "    '13 anos', \n",
        "    '14 anos', \n",
        "    '15 anos ou mais', \n",
        "    'Não determinados'\n",
        ")"
      ],
      "execution_count": null,
      "outputs": []
    },
    {
      "cell_type": "code",
      "metadata": {
        "id": "U16K3LR49_dl",
        "outputId": "f777e9e8-3713-44e9-b37b-a4094acd1a46",
        "colab": {
          "base_uri": "https://localhost:8080/",
          "height": 257
        }
      },
      "source": [
        "ggplot(data = dados, aes(x = \"\", y = Altura)) + \n",
        "    stat_boxplot(geom ='errorbar', width = 0.4) + \n",
        "    geom_boxplot(fill = '#3274A1') + \n",
        "    coord_flip() +\n",
        "    ylab(\"Metros\") + \n",
        "    xlab(\"\") + \n",
        "    ggtitle('Box-plot Alturas') +\n",
        "    formatos"
      ],
      "execution_count": null,
      "outputs": [
        {
          "output_type": "display_data",
          "data": {
            "image/png": "[encoded data removed]",
            "text/plain": [
              "plot without title"
            ]
          },
          "metadata": {
            "tags": [],
            "image/png": {
              "width": 420,
              "height": 240
            }
          }
        }
      ]
    },
    {
      "cell_type": "code",
      "metadata": {
        "id": "8dqoTX8H9_do",
        "outputId": "e9e005d0-5f59-4903-862b-54176b9694ba",
        "colab": {
          "base_uri": "https://localhost:8080/",
          "height": 257
        }
      },
      "source": [
        "ggplot(data = dados, aes(x = Sexo, y = Altura, group = Sexo)) + \n",
        "    stat_boxplot(geom ='errorbar', width = 0.4) + \n",
        "    geom_boxplot(fill = c('#3274A1', \"orange\")) + \n",
        "    coord_flip() +\n",
        "    ylab(\"Metros\") + \n",
        "    xlab(\"Sexo\") + \n",
        "    ggtitle('Box-plot Alturas X Sexo') +\n",
        "    formatos"
      ],
      "execution_count": null,
      "outputs": [
        {
          "output_type": "display_data",
          "data": {
            "image/png": "[encoded data removed]",
            "text/plain": [
              "plot without title"
            ]
          },
          "metadata": {
            "tags": [],
            "image/png": {
              "width": 420,
              "height": 240
            }
          }
        }
      ]
    },
    {
      "cell_type": "code",
      "metadata": {
        "id": "QWL43UXx9_dq"
      },
      "source": [
        "dados$Cat.Sexo <- factor(dados$Sexo)\n",
        "levels(dados$Cat.Sexo) <- sexo"
      ],
      "execution_count": null,
      "outputs": []
    },
    {
      "cell_type": "code",
      "metadata": {
        "id": "44vCd5239_ds",
        "outputId": "ea9f5b84-d32b-4a27-ad84-96c4734864a6",
        "colab": {
          "base_uri": "https://localhost:8080/",
          "height": 204
        }
      },
      "source": [
        "head(dados)"
      ],
      "execution_count": null,
      "outputs": [
        {
          "output_type": "display_data",
          "data": {
            "text/plain": [
              "  UF Sexo Idade Cor Anos.de.Estudo Renda Altura   Cat.Sexo \n",
              "1 11 0    23    8   12              800  1.603808 Masculino\n",
              "2 11 1    23    2   12             1150  1.739790 Feminino \n",
              "3 11 1    35    8   15              880  1.760444 Feminino \n",
              "4 11 0    46    2    6             3500  1.783158 Masculino\n",
              "5 11 1    47    8    9              150  1.690631 Feminino \n",
              "6 11 1    34    8   12              790  1.637906 Feminino "
            ],
            "text/latex": "A data.frame: 6 × 8\n\\begin{tabular}{r|llllllll}\n  & UF & Sexo & Idade & Cor & Anos.de.Estudo & Renda & Altura & Cat.Sexo\\\\\n  & <int> & <int> & <int> & <int> & <int> & <int> & <dbl> & <fct>\\\\\n\\hline\n\t1 & 11 & 0 & 23 & 8 & 12 &  800 & 1.603808 & Masculino\\\\\n\t2 & 11 & 1 & 23 & 2 & 12 & 1150 & 1.739790 & Feminino \\\\\n\t3 & 11 & 1 & 35 & 8 & 15 &  880 & 1.760444 & Feminino \\\\\n\t4 & 11 & 0 & 46 & 2 &  6 & 3500 & 1.783158 & Masculino\\\\\n\t5 & 11 & 1 & 47 & 8 &  9 &  150 & 1.690631 & Feminino \\\\\n\t6 & 11 & 1 & 34 & 8 & 12 &  790 & 1.637906 & Feminino \\\\\n\\end{tabular}\n",
            "text/markdown": "\nA data.frame: 6 × 8\n\n| <!--/--> | UF &lt;int&gt; | Sexo &lt;int&gt; | Idade &lt;int&gt; | Cor &lt;int&gt; | Anos.de.Estudo &lt;int&gt; | Renda &lt;int&gt; | Altura &lt;dbl&gt; | Cat.Sexo &lt;fct&gt; |\n|---|---|---|---|---|---|---|---|---|\n| 1 | 11 | 0 | 23 | 8 | 12 |  800 | 1.603808 | Masculino |\n| 2 | 11 | 1 | 23 | 2 | 12 | 1150 | 1.739790 | Feminino  |\n| 3 | 11 | 1 | 35 | 8 | 15 |  880 | 1.760444 | Feminino  |\n| 4 | 11 | 0 | 46 | 2 |  6 | 3500 | 1.783158 | Masculino |\n| 5 | 11 | 1 | 47 | 8 |  9 |  150 | 1.690631 | Feminino  |\n| 6 | 11 | 1 | 34 | 8 | 12 |  790 | 1.637906 | Feminino  |\n\n",
            "text/html": [
              "<table>\n",
              "<caption>A data.frame: 6 × 8</caption>\n",
              "<thead>\n",
              "\t<tr><th></th><th scope=col>UF</th><th scope=col>Sexo</th><th scope=col>Idade</th><th scope=col>Cor</th><th scope=col>Anos.de.Estudo</th><th scope=col>Renda</th><th scope=col>Altura</th><th scope=col>Cat.Sexo</th></tr>\n",
              "\t<tr><th></th><th scope=col>&lt;int&gt;</th><th scope=col>&lt;int&gt;</th><th scope=col>&lt;int&gt;</th><th scope=col>&lt;int&gt;</th><th scope=col>&lt;int&gt;</th><th scope=col>&lt;int&gt;</th><th scope=col>&lt;dbl&gt;</th><th scope=col>&lt;fct&gt;</th></tr>\n",
              "</thead>\n",
              "<tbody>\n",
              "\t<tr><th scope=row>1</th><td>11</td><td>0</td><td>23</td><td>8</td><td>12</td><td> 800</td><td>1.603808</td><td>Masculino</td></tr>\n",
              "\t<tr><th scope=row>2</th><td>11</td><td>1</td><td>23</td><td>2</td><td>12</td><td>1150</td><td>1.739790</td><td>Feminino </td></tr>\n",
              "\t<tr><th scope=row>3</th><td>11</td><td>1</td><td>35</td><td>8</td><td>15</td><td> 880</td><td>1.760444</td><td>Feminino </td></tr>\n",
              "\t<tr><th scope=row>4</th><td>11</td><td>0</td><td>46</td><td>2</td><td> 6</td><td>3500</td><td>1.783158</td><td>Masculino</td></tr>\n",
              "\t<tr><th scope=row>5</th><td>11</td><td>1</td><td>47</td><td>8</td><td> 9</td><td> 150</td><td>1.690631</td><td>Feminino </td></tr>\n",
              "\t<tr><th scope=row>6</th><td>11</td><td>1</td><td>34</td><td>8</td><td>12</td><td> 790</td><td>1.637906</td><td>Feminino </td></tr>\n",
              "</tbody>\n",
              "</table>\n"
            ]
          },
          "metadata": {
            "tags": []
          }
        }
      ]
    },
    {
      "cell_type": "code",
      "metadata": {
        "id": "esOoQ_FI9_dt",
        "outputId": "06f18f86-3fab-4667-ea5c-85c03dcec02d",
        "colab": {
          "base_uri": "https://localhost:8080/",
          "height": 257
        }
      },
      "source": [
        "ggplot(data = dados, aes(x = Cat.Sexo, y = Altura)) + \n",
        "    stat_boxplot(geom ='errorbar', width = 0.4) + \n",
        "    geom_boxplot(fill = c('#3274A1', \"orange\")) + \n",
        "    coord_flip() +\n",
        "    ylab(\"Metros\") + \n",
        "    xlab(\"Sexo\") + \n",
        "    ggtitle('Box-plot Alturas X Sexo') +\n",
        "    formatos"
      ],
      "execution_count": null,
      "outputs": [
        {
          "output_type": "display_data",
          "data": {
            "image/png": "[encoded data removed]",
            "text/plain": [
              "plot without title"
            ]
          },
          "metadata": {
            "tags": [],
            "image/png": {
              "width": 420,
              "height": 240
            }
          }
        }
      ]
    },
    {
      "cell_type": "code",
      "metadata": {
        "id": "bWJmiqZI9_dv",
        "outputId": "70aa76cb-e8a8-4e6a-94af-eaccc0ed6eeb",
        "colab": {
          "base_uri": "https://localhost:8080/",
          "height": 257
        }
      },
      "source": [
        "ggplot(data = dados[dados$Renda < 10000, ], aes(x = \"\", y = Renda)) + \n",
        "    stat_boxplot(geom ='errorbar', width = 0.4) + \n",
        "    geom_boxplot(fill = '#3274A1') + \n",
        "    coord_flip() +\n",
        "    ylab(\"R$\") + \n",
        "    xlab(\"\") + \n",
        "    ggtitle('Box-plot Renda') +\n",
        "    formatos"
      ],
      "execution_count": null,
      "outputs": [
        {
          "output_type": "display_data",
          "data": {
            "image/png": "[encoded data removed]",
            "text/plain": [
              "plot without title"
            ]
          },
          "metadata": {
            "tags": [],
            "image/png": {
              "width": 420,
              "height": 240
            }
          }
        }
      ]
    },
    {
      "cell_type": "code",
      "metadata": {
        "id": "2hso95LG9_dx",
        "outputId": "dccdbcb1-4752-4cf5-998c-eca3435c4117",
        "colab": {
          "base_uri": "https://localhost:8080/",
          "height": 257
        }
      },
      "source": [
        "ggplot(data = dados[dados$Renda < 10000, ], aes(x = Cat.Sexo, y = Renda)) + \n",
        "    stat_boxplot(geom ='errorbar', width = 0.4) + \n",
        "    geom_boxplot(fill = c('#3274A1', \"orange\")) + \n",
        "    coord_flip() +\n",
        "    ylab(\"R$\") + \n",
        "    xlab(\"Sexo\") + \n",
        "    ggtitle('Box-plot Renda X Sexo') +\n",
        "    formatos"
      ],
      "execution_count": null,
      "outputs": [
        {
          "output_type": "display_data",
          "data": {
            "image/png": "[encoded data removed]",
            "text/plain": [
              "plot without title"
            ]
          },
          "metadata": {
            "tags": [],
            "image/png": {
              "width": 420,
              "height": 240
            }
          }
        }
      ]
    },
    {
      "cell_type": "code",
      "metadata": {
        "id": "-4bdwRYu9_dy"
      },
      "source": [
        "dados$Cat.Anos.de.Estudo <- factor(dados$Anos.de.Estudo, order = TRUE)\n",
        "levels(dados$Cat.Anos.de.Estudo) <- anos_de_estudo"
      ],
      "execution_count": null,
      "outputs": []
    },
    {
      "cell_type": "code",
      "metadata": {
        "id": "4-uqs74e9_dz",
        "outputId": "4a74f2e5-e6c8-4648-d204-24fd0aaf94ee",
        "colab": {
          "base_uri": "https://localhost:8080/",
          "height": 204
        }
      },
      "source": [
        "head(dados)"
      ],
      "execution_count": null,
      "outputs": [
        {
          "output_type": "display_data",
          "data": {
            "text/plain": [
              "  UF Sexo Idade Cor Anos.de.Estudo Renda Altura   Cat.Sexo  Cat.Anos.de.Estudo\n",
              "1 11 0    23    8   12              800  1.603808 Masculino 11 anos           \n",
              "2 11 1    23    2   12             1150  1.739790 Feminino  11 anos           \n",
              "3 11 1    35    8   15              880  1.760444 Feminino  14 anos           \n",
              "4 11 0    46    2    6             3500  1.783158 Masculino 5 anos            \n",
              "5 11 1    47    8    9              150  1.690631 Feminino  8 anos            \n",
              "6 11 1    34    8   12              790  1.637906 Feminino  11 anos           "
            ],
            "text/latex": "A data.frame: 6 × 9\n\\begin{tabular}{r|lllllllll}\n  & UF & Sexo & Idade & Cor & Anos.de.Estudo & Renda & Altura & Cat.Sexo & Cat.Anos.de.Estudo\\\\\n  & <int> & <int> & <int> & <int> & <int> & <int> & <dbl> & <fct> & <ord>\\\\\n\\hline\n\t1 & 11 & 0 & 23 & 8 & 12 &  800 & 1.603808 & Masculino & 11 anos\\\\\n\t2 & 11 & 1 & 23 & 2 & 12 & 1150 & 1.739790 & Feminino  & 11 anos\\\\\n\t3 & 11 & 1 & 35 & 8 & 15 &  880 & 1.760444 & Feminino  & 14 anos\\\\\n\t4 & 11 & 0 & 46 & 2 &  6 & 3500 & 1.783158 & Masculino & 5 anos \\\\\n\t5 & 11 & 1 & 47 & 8 &  9 &  150 & 1.690631 & Feminino  & 8 anos \\\\\n\t6 & 11 & 1 & 34 & 8 & 12 &  790 & 1.637906 & Feminino  & 11 anos\\\\\n\\end{tabular}\n",
            "text/markdown": "\nA data.frame: 6 × 9\n\n| <!--/--> | UF &lt;int&gt; | Sexo &lt;int&gt; | Idade &lt;int&gt; | Cor &lt;int&gt; | Anos.de.Estudo &lt;int&gt; | Renda &lt;int&gt; | Altura &lt;dbl&gt; | Cat.Sexo &lt;fct&gt; | Cat.Anos.de.Estudo &lt;ord&gt; |\n|---|---|---|---|---|---|---|---|---|---|\n| 1 | 11 | 0 | 23 | 8 | 12 |  800 | 1.603808 | Masculino | 11 anos |\n| 2 | 11 | 1 | 23 | 2 | 12 | 1150 | 1.739790 | Feminino  | 11 anos |\n| 3 | 11 | 1 | 35 | 8 | 15 |  880 | 1.760444 | Feminino  | 14 anos |\n| 4 | 11 | 0 | 46 | 2 |  6 | 3500 | 1.783158 | Masculino | 5 anos  |\n| 5 | 11 | 1 | 47 | 8 |  9 |  150 | 1.690631 | Feminino  | 8 anos  |\n| 6 | 11 | 1 | 34 | 8 | 12 |  790 | 1.637906 | Feminino  | 11 anos |\n\n",
            "text/html": [
              "<table>\n",
              "<caption>A data.frame: 6 × 9</caption>\n",
              "<thead>\n",
              "\t<tr><th></th><th scope=col>UF</th><th scope=col>Sexo</th><th scope=col>Idade</th><th scope=col>Cor</th><th scope=col>Anos.de.Estudo</th><th scope=col>Renda</th><th scope=col>Altura</th><th scope=col>Cat.Sexo</th><th scope=col>Cat.Anos.de.Estudo</th></tr>\n",
              "\t<tr><th></th><th scope=col>&lt;int&gt;</th><th scope=col>&lt;int&gt;</th><th scope=col>&lt;int&gt;</th><th scope=col>&lt;int&gt;</th><th scope=col>&lt;int&gt;</th><th scope=col>&lt;int&gt;</th><th scope=col>&lt;dbl&gt;</th><th scope=col>&lt;fct&gt;</th><th scope=col>&lt;ord&gt;</th></tr>\n",
              "</thead>\n",
              "<tbody>\n",
              "\t<tr><th scope=row>1</th><td>11</td><td>0</td><td>23</td><td>8</td><td>12</td><td> 800</td><td>1.603808</td><td>Masculino</td><td>11 anos</td></tr>\n",
              "\t<tr><th scope=row>2</th><td>11</td><td>1</td><td>23</td><td>2</td><td>12</td><td>1150</td><td>1.739790</td><td>Feminino </td><td>11 anos</td></tr>\n",
              "\t<tr><th scope=row>3</th><td>11</td><td>1</td><td>35</td><td>8</td><td>15</td><td> 880</td><td>1.760444</td><td>Feminino </td><td>14 anos</td></tr>\n",
              "\t<tr><th scope=row>4</th><td>11</td><td>0</td><td>46</td><td>2</td><td> 6</td><td>3500</td><td>1.783158</td><td>Masculino</td><td>5 anos </td></tr>\n",
              "\t<tr><th scope=row>5</th><td>11</td><td>1</td><td>47</td><td>8</td><td> 9</td><td> 150</td><td>1.690631</td><td>Feminino </td><td>8 anos </td></tr>\n",
              "\t<tr><th scope=row>6</th><td>11</td><td>1</td><td>34</td><td>8</td><td>12</td><td> 790</td><td>1.637906</td><td>Feminino </td><td>11 anos</td></tr>\n",
              "</tbody>\n",
              "</table>\n"
            ]
          },
          "metadata": {
            "tags": []
          }
        }
      ]
    },
    {
      "cell_type": "code",
      "metadata": {
        "id": "Zk0x2WTw9_d2",
        "outputId": "9f4817c7-a5a7-4a91-9098-578ada285cda",
        "colab": {
          "base_uri": "https://localhost:8080/",
          "height": 257
        }
      },
      "source": [
        "ggplot(data = dados, aes(x = \"\", y = Anos.de.Estudo)) + \n",
        "    stat_boxplot(geom ='errorbar', width = 0.4) + \n",
        "    geom_boxplot(fill = '#3274A1') + \n",
        "    coord_flip() +\n",
        "    ylab(\"Anos\") + \n",
        "    xlab(\"\") + \n",
        "    ggtitle('Box-plot Anos de Estudo') +\n",
        "    formatos"
      ],
      "execution_count": null,
      "outputs": [
        {
          "output_type": "display_data",
          "data": {
            "image/png": "[encoded data removed]",
            "text/plain": [
              "plot without title"
            ]
          },
          "metadata": {
            "tags": [],
            "image/png": {
              "width": 420,
              "height": 240
            }
          }
        }
      ]
    },
    {
      "cell_type": "code",
      "metadata": {
        "id": "ADdC4V959_d5",
        "outputId": "40942833-1b53-4d5a-d0b5-b609383c1ca2",
        "colab": {
          "base_uri": "https://localhost:8080/",
          "height": 257
        }
      },
      "source": [
        "ggplot(data = dados, aes(x = Cat.Sexo, y = Anos.de.Estudo)) + \n",
        "    stat_boxplot(geom ='errorbar', width = 0.4) + \n",
        "    geom_boxplot(fill = c('#3274A1', \"orange\")) + \n",
        "    coord_flip() +\n",
        "    ylab(\"Anos\") + \n",
        "    xlab(\"Sexo\") + \n",
        "    ggtitle('Box-plot Anos de Estudo X Sexo') +\n",
        "    formatos"
      ],
      "execution_count": null,
      "outputs": [
        {
          "output_type": "display_data",
          "data": {
            "image/png": "[encoded data removed]",
            "text/plain": [
              "plot without title"
            ]
          },
          "metadata": {
            "tags": [],
            "image/png": {
              "width": 420,
              "height": 240
            }
          }
        }
      ]
    },
    {
      "cell_type": "markdown",
      "metadata": {
        "id": "amloMZwVjQNN"
      },
      "source": [
        "<img src='https://caelum-online-public.s3.amazonaws.com/1177-estatistica-parte1/01/img006.png' width='80%'>"
      ]
    },
    {
      "cell_type": "markdown",
      "metadata": {
        "id": "aJ6v_NI9jQNN"
      },
      "source": [
        "# <font color=green>5 MEDIDAS DE DISPERSÃO</font>\n",
        "***\n",
        "\n",
        "Embora as medidas de posição forneçam uma sumarização bastante importante dos dados, elas podem não ser suficientes para caracterizar conjuntos distintos, especialmente quando as observações de determinada distribuição apresentarem dados muito dispersos."
      ]
    },
    {
      "cell_type": "markdown",
      "metadata": {
        "id": "D6xVxAQ7jQNO"
      },
      "source": [
        "## <font color=green>5.1 Desvio médio absoluto</font>\n",
        "***\n",
        "\n",
        "\n",
        "# $$DM = \\frac 1n\\sum_{i=1}^{n}|X_i-\\bar{X}|$$"
      ]
    },
    {
      "cell_type": "markdown",
      "metadata": {
        "id": "3cAC1rGf9_d8"
      },
      "source": [
        "### <font color=red>Documentações:\n",
        "\n",
        "- [**sum**](https://www.rdocumentation.org/packages/base/versions/3.6.1/topics/sum)\n",
        "- [**abs**](https://www.rdocumentation.org/packages/base/versions/3.6.1/topics/MathFun)\n",
        "- [**DescTools**](https://www.rdocumentation.org/packages/DescTools/versions/0.99.30)\n",
        "- [**MeanAD**](https://www.rdocumentation.org/packages/DescTools/versions/0.99.30/topics/MeanAD)"
      ]
    },
    {
      "cell_type": "code",
      "metadata": {
        "id": "0sL31blV7nz3",
        "outputId": "3828b67d-fe66-49bd-9048-5095848d9fcb",
        "colab": {
          "base_uri": "https://localhost:8080/",
          "height": 225
        }
      },
      "source": [
        "df"
      ],
      "execution_count": null,
      "outputs": [
        {
          "output_type": "display_data",
          "data": {
            "text/plain": [
              "           Fulano Beltrano Sicrano\n",
              "Matemática  8     10.0     7.5    \n",
              "Português  10      2.0     8.0    \n",
              "Inglês      4      0.5     7.0    \n",
              "Geografia   8      1.0     8.0    \n",
              "História    6      3.0     8.0    \n",
              "Física     10      9.5     8.5    \n",
              "Química     8     10.0     7.0    "
            ],
            "text/latex": "A data.frame: 7 × 3\n\\begin{tabular}{r|lll}\n  & Fulano & Beltrano & Sicrano\\\\\n  & <dbl> & <dbl> & <dbl>\\\\\n\\hline\n\tMatemática &  8 & 10.0 & 7.5\\\\\n\tPortuguês & 10 &  2.0 & 8.0\\\\\n\tInglês &  4 &  0.5 & 7.0\\\\\n\tGeografia &  8 &  1.0 & 8.0\\\\\n\tHistória &  6 &  3.0 & 8.0\\\\\n\tFísica & 10 &  9.5 & 8.5\\\\\n\tQuímica &  8 & 10.0 & 7.0\\\\\n\\end{tabular}\n",
            "text/markdown": "\nA data.frame: 7 × 3\n\n| <!--/--> | Fulano &lt;dbl&gt; | Beltrano &lt;dbl&gt; | Sicrano &lt;dbl&gt; |\n|---|---|---|---|\n| Matemática |  8 | 10.0 | 7.5 |\n| Português | 10 |  2.0 | 8.0 |\n| Inglês |  4 |  0.5 | 7.0 |\n| Geografia |  8 |  1.0 | 8.0 |\n| História |  6 |  3.0 | 8.0 |\n| Física | 10 |  9.5 | 8.5 |\n| Química |  8 | 10.0 | 7.0 |\n\n",
            "text/html": [
              "<table>\n",
              "<caption>A data.frame: 7 × 3</caption>\n",
              "<thead>\n",
              "\t<tr><th></th><th scope=col>Fulano</th><th scope=col>Beltrano</th><th scope=col>Sicrano</th></tr>\n",
              "\t<tr><th></th><th scope=col>&lt;dbl&gt;</th><th scope=col>&lt;dbl&gt;</th><th scope=col>&lt;dbl&gt;</th></tr>\n",
              "</thead>\n",
              "<tbody>\n",
              "\t<tr><th scope=row>Matemática</th><td> 8</td><td>10.0</td><td>7.5</td></tr>\n",
              "\t<tr><th scope=row>Português</th><td>10</td><td> 2.0</td><td>8.0</td></tr>\n",
              "\t<tr><th scope=row>Inglês</th><td> 4</td><td> 0.5</td><td>7.0</td></tr>\n",
              "\t<tr><th scope=row>Geografia</th><td> 8</td><td> 1.0</td><td>8.0</td></tr>\n",
              "\t<tr><th scope=row>História</th><td> 6</td><td> 3.0</td><td>8.0</td></tr>\n",
              "\t<tr><th scope=row>Física</th><td>10</td><td> 9.5</td><td>8.5</td></tr>\n",
              "\t<tr><th scope=row>Química</th><td> 8</td><td>10.0</td><td>7.0</td></tr>\n",
              "</tbody>\n",
              "</table>\n"
            ]
          },
          "metadata": {
            "tags": []
          }
        }
      ]
    },
    {
      "cell_type": "code",
      "metadata": {
        "id": "2h1YvZbn9_d9",
        "outputId": "d108af34-3ba5-4b65-80e5-c74c65e83cd6",
        "colab": {
          "base_uri": "https://localhost:8080/",
          "height": 225
        }
      },
      "source": [
        "notas_fulano <- data.frame(Fulano = df$Fulano, row.names = row.names(df))\n",
        "notas_fulano"
      ],
      "execution_count": null,
      "outputs": [
        {
          "output_type": "display_data",
          "data": {
            "text/plain": [
              "           Fulano\n",
              "Matemática  8    \n",
              "Português  10    \n",
              "Inglês      4    \n",
              "Geografia   8    \n",
              "História    6    \n",
              "Física     10    \n",
              "Química     8    "
            ],
            "text/latex": "A data.frame: 7 × 1\n\\begin{tabular}{r|l}\n  & Fulano\\\\\n  & <dbl>\\\\\n\\hline\n\tMatemática &  8\\\\\n\tPortuguês & 10\\\\\n\tInglês &  4\\\\\n\tGeografia &  8\\\\\n\tHistória &  6\\\\\n\tFísica & 10\\\\\n\tQuímica &  8\\\\\n\\end{tabular}\n",
            "text/markdown": "\nA data.frame: 7 × 1\n\n| <!--/--> | Fulano &lt;dbl&gt; |\n|---|---|\n| Matemática |  8 |\n| Português | 10 |\n| Inglês |  4 |\n| Geografia |  8 |\n| História |  6 |\n| Física | 10 |\n| Química |  8 |\n\n",
            "text/html": [
              "<table>\n",
              "<caption>A data.frame: 7 × 1</caption>\n",
              "<thead>\n",
              "\t<tr><th></th><th scope=col>Fulano</th></tr>\n",
              "\t<tr><th></th><th scope=col>&lt;dbl&gt;</th></tr>\n",
              "</thead>\n",
              "<tbody>\n",
              "\t<tr><th scope=row>Matemática</th><td> 8</td></tr>\n",
              "\t<tr><th scope=row>Português</th><td>10</td></tr>\n",
              "\t<tr><th scope=row>Inglês</th><td> 4</td></tr>\n",
              "\t<tr><th scope=row>Geografia</th><td> 8</td></tr>\n",
              "\t<tr><th scope=row>História</th><td> 6</td></tr>\n",
              "\t<tr><th scope=row>Física</th><td>10</td></tr>\n",
              "\t<tr><th scope=row>Química</th><td> 8</td></tr>\n",
              "</tbody>\n",
              "</table>\n"
            ]
          },
          "metadata": {
            "tags": []
          }
        }
      ]
    },
    {
      "cell_type": "code",
      "metadata": {
        "id": "8_Q2tOTmjQNO",
        "outputId": "fa7a8f58-1de9-4f4a-c846-38c1a8dd0e10",
        "colab": {
          "base_uri": "https://localhost:8080/",
          "height": 34
        }
      },
      "source": [
        "nota_media_fulano <- mean(notas_fulano$Fulano)\n",
        "nota_media_fulano"
      ],
      "execution_count": null,
      "outputs": [
        {
          "output_type": "display_data",
          "data": {
            "text/plain": [
              "[1] 7.714286"
            ],
            "text/latex": "7.71428571428571",
            "text/markdown": "7.71428571428571",
            "text/html": [
              "7.71428571428571"
            ]
          },
          "metadata": {
            "tags": []
          }
        }
      ]
    },
    {
      "cell_type": "code",
      "metadata": {
        "id": "BtYcibj09_eE",
        "outputId": "f6a8392d-8a4e-4891-c1f0-703657709430",
        "colab": {
          "base_uri": "https://localhost:8080/",
          "height": 225
        }
      },
      "source": [
        "notas_fulano$Desvio <- notas_fulano$Fulano - nota_media_fulano\n",
        "notas_fulano"
      ],
      "execution_count": null,
      "outputs": [
        {
          "output_type": "display_data",
          "data": {
            "text/plain": [
              "           Fulano Desvio    \n",
              "Matemática  8      0.2857143\n",
              "Português  10      2.2857143\n",
              "Inglês      4     -3.7142857\n",
              "Geografia   8      0.2857143\n",
              "História    6     -1.7142857\n",
              "Física     10      2.2857143\n",
              "Química     8      0.2857143"
            ],
            "text/latex": "A data.frame: 7 × 2\n\\begin{tabular}{r|ll}\n  & Fulano & Desvio\\\\\n  & <dbl> & <dbl>\\\\\n\\hline\n\tMatemática &  8 &  0.2857143\\\\\n\tPortuguês & 10 &  2.2857143\\\\\n\tInglês &  4 & -3.7142857\\\\\n\tGeografia &  8 &  0.2857143\\\\\n\tHistória &  6 & -1.7142857\\\\\n\tFísica & 10 &  2.2857143\\\\\n\tQuímica &  8 &  0.2857143\\\\\n\\end{tabular}\n",
            "text/markdown": "\nA data.frame: 7 × 2\n\n| <!--/--> | Fulano &lt;dbl&gt; | Desvio &lt;dbl&gt; |\n|---|---|---|\n| Matemática |  8 |  0.2857143 |\n| Português | 10 |  2.2857143 |\n| Inglês |  4 | -3.7142857 |\n| Geografia |  8 |  0.2857143 |\n| História |  6 | -1.7142857 |\n| Física | 10 |  2.2857143 |\n| Química |  8 |  0.2857143 |\n\n",
            "text/html": [
              "<table>\n",
              "<caption>A data.frame: 7 × 2</caption>\n",
              "<thead>\n",
              "\t<tr><th></th><th scope=col>Fulano</th><th scope=col>Desvio</th></tr>\n",
              "\t<tr><th></th><th scope=col>&lt;dbl&gt;</th><th scope=col>&lt;dbl&gt;</th></tr>\n",
              "</thead>\n",
              "<tbody>\n",
              "\t<tr><th scope=row>Matemática</th><td> 8</td><td> 0.2857143</td></tr>\n",
              "\t<tr><th scope=row>Português</th><td>10</td><td> 2.2857143</td></tr>\n",
              "\t<tr><th scope=row>Inglês</th><td> 4</td><td>-3.7142857</td></tr>\n",
              "\t<tr><th scope=row>Geografia</th><td> 8</td><td> 0.2857143</td></tr>\n",
              "\t<tr><th scope=row>História</th><td> 6</td><td>-1.7142857</td></tr>\n",
              "\t<tr><th scope=row>Física</th><td>10</td><td> 2.2857143</td></tr>\n",
              "\t<tr><th scope=row>Química</th><td> 8</td><td> 0.2857143</td></tr>\n",
              "</tbody>\n",
              "</table>\n"
            ]
          },
          "metadata": {
            "tags": []
          }
        }
      ]
    },
    {
      "cell_type": "code",
      "metadata": {
        "id": "OiWDTw0ljQNQ",
        "outputId": "886cd9b9-e1e0-4e50-b5a4-d24aa2ca081f",
        "colab": {
          "base_uri": "https://localhost:8080/",
          "height": 34
        }
      },
      "source": [
        "sum(notas_fulano$Desvio)"
      ],
      "execution_count": null,
      "outputs": [
        {
          "output_type": "display_data",
          "data": {
            "text/plain": [
              "[1] -8.881784e-16"
            ],
            "text/latex": "-8.88178419700125e-16",
            "text/markdown": "-8.88178419700125e-16",
            "text/html": [
              "-8.88178419700125e-16"
            ]
          },
          "metadata": {
            "tags": []
          }
        }
      ]
    },
    {
      "cell_type": "code",
      "metadata": {
        "id": "qQbjktz5jQNR",
        "outputId": "c65b7824-be51-4bf5-929a-64e821ecab11",
        "colab": {
          "base_uri": "https://localhost:8080/",
          "height": 225
        }
      },
      "source": [
        "notas_fulano$Desvio.Absoluto <- abs(notas_fulano$Desvio)\n",
        "notas_fulano"
      ],
      "execution_count": null,
      "outputs": [
        {
          "output_type": "display_data",
          "data": {
            "text/plain": [
              "           Fulano Desvio     Desvio.Absoluto\n",
              "Matemática  8      0.2857143 0.2857143      \n",
              "Português  10      2.2857143 2.2857143      \n",
              "Inglês      4     -3.7142857 3.7142857      \n",
              "Geografia   8      0.2857143 0.2857143      \n",
              "História    6     -1.7142857 1.7142857      \n",
              "Física     10      2.2857143 2.2857143      \n",
              "Química     8      0.2857143 0.2857143      "
            ],
            "text/latex": "A data.frame: 7 × 3\n\\begin{tabular}{r|lll}\n  & Fulano & Desvio & Desvio.Absoluto\\\\\n  & <dbl> & <dbl> & <dbl>\\\\\n\\hline\n\tMatemática &  8 &  0.2857143 & 0.2857143\\\\\n\tPortuguês & 10 &  2.2857143 & 2.2857143\\\\\n\tInglês &  4 & -3.7142857 & 3.7142857\\\\\n\tGeografia &  8 &  0.2857143 & 0.2857143\\\\\n\tHistória &  6 & -1.7142857 & 1.7142857\\\\\n\tFísica & 10 &  2.2857143 & 2.2857143\\\\\n\tQuímica &  8 &  0.2857143 & 0.2857143\\\\\n\\end{tabular}\n",
            "text/markdown": "\nA data.frame: 7 × 3\n\n| <!--/--> | Fulano &lt;dbl&gt; | Desvio &lt;dbl&gt; | Desvio.Absoluto &lt;dbl&gt; |\n|---|---|---|---|\n| Matemática |  8 |  0.2857143 | 0.2857143 |\n| Português | 10 |  2.2857143 | 2.2857143 |\n| Inglês |  4 | -3.7142857 | 3.7142857 |\n| Geografia |  8 |  0.2857143 | 0.2857143 |\n| História |  6 | -1.7142857 | 1.7142857 |\n| Física | 10 |  2.2857143 | 2.2857143 |\n| Química |  8 |  0.2857143 | 0.2857143 |\n\n",
            "text/html": [
              "<table>\n",
              "<caption>A data.frame: 7 × 3</caption>\n",
              "<thead>\n",
              "\t<tr><th></th><th scope=col>Fulano</th><th scope=col>Desvio</th><th scope=col>Desvio.Absoluto</th></tr>\n",
              "\t<tr><th></th><th scope=col>&lt;dbl&gt;</th><th scope=col>&lt;dbl&gt;</th><th scope=col>&lt;dbl&gt;</th></tr>\n",
              "</thead>\n",
              "<tbody>\n",
              "\t<tr><th scope=row>Matemática</th><td> 8</td><td> 0.2857143</td><td>0.2857143</td></tr>\n",
              "\t<tr><th scope=row>Português</th><td>10</td><td> 2.2857143</td><td>2.2857143</td></tr>\n",
              "\t<tr><th scope=row>Inglês</th><td> 4</td><td>-3.7142857</td><td>3.7142857</td></tr>\n",
              "\t<tr><th scope=row>Geografia</th><td> 8</td><td> 0.2857143</td><td>0.2857143</td></tr>\n",
              "\t<tr><th scope=row>História</th><td> 6</td><td>-1.7142857</td><td>1.7142857</td></tr>\n",
              "\t<tr><th scope=row>Física</th><td>10</td><td> 2.2857143</td><td>2.2857143</td></tr>\n",
              "\t<tr><th scope=row>Química</th><td> 8</td><td> 0.2857143</td><td>0.2857143</td></tr>\n",
              "</tbody>\n",
              "</table>\n"
            ]
          },
          "metadata": {
            "tags": []
          }
        }
      ]
    },
    {
      "cell_type": "code",
      "metadata": {
        "id": "xICXfqxv9_eN",
        "outputId": "2ef960b9-c7cb-453d-a0f7-17ce0b8a082e",
        "colab": {
          "base_uri": "https://localhost:8080/",
          "height": 495
        }
      },
      "source": [
        "ggplot(data = notas_fulano, aes(x = row.names(notas_fulano), y = Fulano)) + \n",
        "    geom_point() + \n",
        "    geom_hline(yintercept = mean(notas_fulano$Fulano), color = 'red') + \n",
        "    geom_segment(aes(x = 1, y = 10, xend = 1, yend = mean(notas_fulano$Fulano))) + \n",
        "    geom_segment(aes(x = 2, y = 8, xend = 2, yend = mean(notas_fulano$Fulano))) + \n",
        "    geom_segment(aes(x = 3, y = 6, xend = 3, yend = mean(notas_fulano$Fulano))) + \n",
        "    geom_segment(aes(x = 4, y = 4, xend = 4, yend = mean(notas_fulano$Fulano))) + \n",
        "    geom_segment(aes(x = 5, y = 8, xend = 5, yend = mean(notas_fulano$Fulano))) + \n",
        "    geom_segment(aes(x = 6, y = 10, xend = 6, yend = mean(notas_fulano$Fulano))) + \n",
        "    geom_segment(aes(x = 7, y = 8, xend = 7, yend = mean(notas_fulano$Fulano)))"
      ],
      "execution_count": null,
      "outputs": [
        {
          "output_type": "stream",
          "text": [
            "Warning message:\n",
            "“Use of `notas_fulano$Fulano` is discouraged. Use `Fulano` instead.”\n",
            "Warning message:\n",
            "“Use of `notas_fulano$Fulano` is discouraged. Use `Fulano` instead.”\n",
            "Warning message:\n",
            "“Use of `notas_fulano$Fulano` is discouraged. Use `Fulano` instead.”\n",
            "Warning message:\n",
            "“Use of `notas_fulano$Fulano` is discouraged. Use `Fulano` instead.”\n",
            "Warning message:\n",
            "“Use of `notas_fulano$Fulano` is discouraged. Use `Fulano` instead.”\n",
            "Warning message:\n",
            "“Use of `notas_fulano$Fulano` is discouraged. Use `Fulano` instead.”\n",
            "Warning message:\n",
            "“Use of `notas_fulano$Fulano` is discouraged. Use `Fulano` instead.”\n"
          ],
          "name": "stderr"
        },
        {
          "output_type": "display_data",
          "data": {
            "image/png": "[encoded data removed]",
            "text/plain": [
              "plot without title"
            ]
          },
          "metadata": {
            "tags": [],
            "image/png": {
              "width": 420,
              "height": 240
            }
          }
        }
      ]
    },
    {
      "cell_type": "code",
      "metadata": {
        "id": "m4buiQWF01xt",
        "outputId": "050e26cc-3452-41cb-932c-a16a95021611",
        "colab": {
          "base_uri": "https://localhost:8080/",
          "height": 34
        }
      },
      "source": [
        "mean(notas_fulano$Desvio.Absoluto)"
      ],
      "execution_count": null,
      "outputs": [
        {
          "output_type": "display_data",
          "data": {
            "text/plain": [
              "[1] 1.55102"
            ],
            "text/latex": "1.55102040816327",
            "text/markdown": "1.55102040816327",
            "text/html": [
              "1.55102040816327"
            ]
          },
          "metadata": {
            "tags": []
          }
        }
      ]
    },
    {
      "cell_type": "markdown",
      "metadata": {
        "id": "5WbvKsUy9_eQ"
      },
      "source": [
        "### Instalando o pacote DescTools"
      ]
    },
    {
      "cell_type": "code",
      "metadata": {
        "id": "cs65DTDc9_eQ",
        "outputId": "d097b56c-42c5-49df-ada0-ac57b5775ed7",
        "colab": {
          "base_uri": "https://localhost:8080/"
        }
      },
      "source": [
        "install.packages(\"DescTools\")"
      ],
      "execution_count": null,
      "outputs": [
        {
          "output_type": "stream",
          "text": [
            "Installing package into ‘/usr/local/lib/R/site-library’\n",
            "(as ‘lib’ is unspecified)\n",
            "\n",
            "also installing the dependencies ‘rootSolve’, ‘e1071’, ‘lmom’, ‘mvtnorm’, ‘expm’, ‘Exact’, ‘gld’\n",
            "\n",
            "\n"
          ],
          "name": "stderr"
        }
      ]
    },
    {
      "cell_type": "code",
      "metadata": {
        "id": "Rul2LPkM9_eT"
      },
      "source": [
        "library(DescTools)"
      ],
      "execution_count": null,
      "outputs": []
    },
    {
      "cell_type": "code",
      "metadata": {
        "id": "1PEJ_LUn01eV",
        "outputId": "76198e0b-8b68-4f15-aec6-5d1efb1fabdd",
        "colab": {
          "base_uri": "https://localhost:8080/",
          "height": 34
        }
      },
      "source": [
        "MeanAD(df$Fulano)"
      ],
      "execution_count": null,
      "outputs": [
        {
          "output_type": "display_data",
          "data": {
            "text/plain": [
              "[1] 1.55102"
            ],
            "text/latex": "1.55102040816327",
            "text/markdown": "1.55102040816327",
            "text/html": [
              "1.55102040816327"
            ]
          },
          "metadata": {
            "tags": []
          }
        }
      ]
    },
    {
      "cell_type": "markdown",
      "metadata": {
        "id": "jSKfnKwEjQNW"
      },
      "source": [
        "## <font color=green>5.2 Variância</font>\n",
        "***"
      ]
    },
    {
      "cell_type": "markdown",
      "metadata": {
        "id": "tHD3yNqzjQNW"
      },
      "source": [
        "### Variância\n",
        "\n",
        "A variância é construída a partir das diferenças entre cada observação e a média dos dados, ou seja, o desvio em torno da média. No cálculo da variância, os desvios em torno da média são elevados ao quadrado."
      ]
    },
    {
      "cell_type": "markdown",
      "metadata": {
        "id": "WrCn9hw0jQNX"
      },
      "source": [
        "### Variância populacional\n",
        "\n",
        "# $$\\sigma^2 = \\frac 1n\\sum_{i=1}^{n}(X_i-\\mu)^2$$"
      ]
    },
    {
      "cell_type": "markdown",
      "metadata": {
        "id": "jV5mQT_djQNX"
      },
      "source": [
        "### Variância amostral\n",
        "\n",
        "# $$S^2 = \\frac 1{n-1}\\sum_{i=1}^{n}(X_i-\\bar{X})^2$$"
      ]
    },
    {
      "cell_type": "markdown",
      "metadata": {
        "id": "yKKcgzun9_ea"
      },
      "source": [
        "### <font color=red>Documentações:\n",
        "\n",
        "- [**var**](https://www.rdocumentation.org/packages/stats/versions/3.6.1/topics/cor)"
      ]
    },
    {
      "cell_type": "code",
      "metadata": {
        "id": "4tlbCQeujQNZ",
        "outputId": "5410965f-085b-4446-ac49-a6d1e9164958",
        "colab": {
          "base_uri": "https://localhost:8080/",
          "height": 225
        }
      },
      "source": [
        "notas_fulano$Desvio2 <- notas_fulano$Desvio ^ 2\n",
        "notas_fulano"
      ],
      "execution_count": null,
      "outputs": [
        {
          "output_type": "display_data",
          "data": {
            "text/plain": [
              "           Fulano Desvio     Desvio.Absoluto Desvio2    \n",
              "Matemática  8      0.2857143 0.2857143        0.08163265\n",
              "Português  10      2.2857143 2.2857143        5.22448980\n",
              "Inglês      4     -3.7142857 3.7142857       13.79591837\n",
              "Geografia   8      0.2857143 0.2857143        0.08163265\n",
              "História    6     -1.7142857 1.7142857        2.93877551\n",
              "Física     10      2.2857143 2.2857143        5.22448980\n",
              "Química     8      0.2857143 0.2857143        0.08163265"
            ],
            "text/latex": "A data.frame: 7 × 4\n\\begin{tabular}{r|llll}\n  & Fulano & Desvio & Desvio.Absoluto & Desvio2\\\\\n  & <dbl> & <dbl> & <dbl> & <dbl>\\\\\n\\hline\n\tMatemática &  8 &  0.2857143 & 0.2857143 &  0.08163265\\\\\n\tPortuguês & 10 &  2.2857143 & 2.2857143 &  5.22448980\\\\\n\tInglês &  4 & -3.7142857 & 3.7142857 & 13.79591837\\\\\n\tGeografia &  8 &  0.2857143 & 0.2857143 &  0.08163265\\\\\n\tHistória &  6 & -1.7142857 & 1.7142857 &  2.93877551\\\\\n\tFísica & 10 &  2.2857143 & 2.2857143 &  5.22448980\\\\\n\tQuímica &  8 &  0.2857143 & 0.2857143 &  0.08163265\\\\\n\\end{tabular}\n",
            "text/markdown": "\nA data.frame: 7 × 4\n\n| <!--/--> | Fulano &lt;dbl&gt; | Desvio &lt;dbl&gt; | Desvio.Absoluto &lt;dbl&gt; | Desvio2 &lt;dbl&gt; |\n|---|---|---|---|---|\n| Matemática |  8 |  0.2857143 | 0.2857143 |  0.08163265 |\n| Português | 10 |  2.2857143 | 2.2857143 |  5.22448980 |\n| Inglês |  4 | -3.7142857 | 3.7142857 | 13.79591837 |\n| Geografia |  8 |  0.2857143 | 0.2857143 |  0.08163265 |\n| História |  6 | -1.7142857 | 1.7142857 |  2.93877551 |\n| Física | 10 |  2.2857143 | 2.2857143 |  5.22448980 |\n| Química |  8 |  0.2857143 | 0.2857143 |  0.08163265 |\n\n",
            "text/html": [
              "<table>\n",
              "<caption>A data.frame: 7 × 4</caption>\n",
              "<thead>\n",
              "\t<tr><th></th><th scope=col>Fulano</th><th scope=col>Desvio</th><th scope=col>Desvio.Absoluto</th><th scope=col>Desvio2</th></tr>\n",
              "\t<tr><th></th><th scope=col>&lt;dbl&gt;</th><th scope=col>&lt;dbl&gt;</th><th scope=col>&lt;dbl&gt;</th><th scope=col>&lt;dbl&gt;</th></tr>\n",
              "</thead>\n",
              "<tbody>\n",
              "\t<tr><th scope=row>Matemática</th><td> 8</td><td> 0.2857143</td><td>0.2857143</td><td> 0.08163265</td></tr>\n",
              "\t<tr><th scope=row>Português</th><td>10</td><td> 2.2857143</td><td>2.2857143</td><td> 5.22448980</td></tr>\n",
              "\t<tr><th scope=row>Inglês</th><td> 4</td><td>-3.7142857</td><td>3.7142857</td><td>13.79591837</td></tr>\n",
              "\t<tr><th scope=row>Geografia</th><td> 8</td><td> 0.2857143</td><td>0.2857143</td><td> 0.08163265</td></tr>\n",
              "\t<tr><th scope=row>História</th><td> 6</td><td>-1.7142857</td><td>1.7142857</td><td> 2.93877551</td></tr>\n",
              "\t<tr><th scope=row>Física</th><td>10</td><td> 2.2857143</td><td>2.2857143</td><td> 5.22448980</td></tr>\n",
              "\t<tr><th scope=row>Química</th><td> 8</td><td> 0.2857143</td><td>0.2857143</td><td> 0.08163265</td></tr>\n",
              "</tbody>\n",
              "</table>\n"
            ]
          },
          "metadata": {
            "tags": []
          }
        }
      ]
    },
    {
      "cell_type": "code",
      "metadata": {
        "id": "oCcAfoIOjQNa",
        "outputId": "261cf028-b342-48f6-fbfd-f304275fa4b8",
        "colab": {
          "base_uri": "https://localhost:8080/",
          "height": 34
        }
      },
      "source": [
        "sum(notas_fulano$Desvio2) / (nrow(notas_fulano) - 1)"
      ],
      "execution_count": null,
      "outputs": [
        {
          "output_type": "display_data",
          "data": {
            "text/plain": [
              "[1] 4.571429"
            ],
            "text/latex": "4.57142857142857",
            "text/markdown": "4.57142857142857",
            "text/html": [
              "4.57142857142857"
            ]
          },
          "metadata": {
            "tags": []
          }
        }
      ]
    },
    {
      "cell_type": "code",
      "metadata": {
        "id": "EyrfPHLtjQNb",
        "outputId": "761730f6-b7c0-4787-8261-27f2e409b6f9",
        "colab": {
          "base_uri": "https://localhost:8080/",
          "height": 34
        }
      },
      "source": [
        "variancia <- var(notas_fulano$Fulano)\n",
        "variancia"
      ],
      "execution_count": null,
      "outputs": [
        {
          "output_type": "display_data",
          "data": {
            "text/plain": [
              "[1] 4.571429"
            ],
            "text/latex": "4.57142857142857",
            "text/markdown": "4.57142857142857",
            "text/html": [
              "4.57142857142857"
            ]
          },
          "metadata": {
            "tags": []
          }
        }
      ]
    },
    {
      "cell_type": "markdown",
      "metadata": {
        "id": "wQl_CsytjQNg"
      },
      "source": [
        "## <font color=green>5.3 Desvio padrão</font>\n",
        "***\n",
        "\n",
        "Uma das restrições da variância é o fato de fornecer medidas em quadrados das unidades originais - a variância de medidas de comprimento, por exemplo, é em unidades de área. Logo, o fato de as unidades serem diferentes dificulta a comparação da dispersão com as variáveis que a definem. Um modo de eliminar essa dificuldade é considerar sua raiz quadrada."
      ]
    },
    {
      "cell_type": "markdown",
      "metadata": {
        "id": "X9w1Iqt3jQNg"
      },
      "source": [
        "### Desvio padrão populacional\n",
        "\n",
        "# $$\\sigma = \\sqrt{\\frac 1n\\sum_{i=1}^{n}(X_i-\\mu)^2} \\Longrightarrow \\sigma = \\sqrt{\\sigma^2}$$"
      ]
    },
    {
      "cell_type": "markdown",
      "metadata": {
        "id": "D3J4MvMpjQNg"
      },
      "source": [
        "### Desvio padrão amostral\n",
        "\n",
        "# $$S = \\sqrt{\\frac 1{n-1}\\sum_{i=1}^{n}(X_i-\\bar{X})^2} \\Longrightarrow S = \\sqrt{S^2}$$"
      ]
    },
    {
      "cell_type": "markdown",
      "metadata": {
        "id": "FaEhob-p9_eh"
      },
      "source": [
        "### <font color=red>Documentações:\n",
        "\n",
        "- [**sd**](https://www.rdocumentation.org/packages/stats/versions/3.6.1/topics/sd)\n",
        "- [**summary**](https://www.rdocumentation.org/packages/base/versions/3.6.1/topics/summary)"
      ]
    },
    {
      "cell_type": "code",
      "metadata": {
        "id": "2di6iLFaSPda",
        "outputId": "5c2316a3-ad7e-4df5-c480-cc4a71c5c66a",
        "colab": {
          "base_uri": "https://localhost:8080/",
          "height": 34
        }
      },
      "source": [
        "sqrt(variancia)"
      ],
      "execution_count": null,
      "outputs": [
        {
          "output_type": "display_data",
          "data": {
            "text/plain": [
              "[1] 2.13809"
            ],
            "text/latex": "2.1380899352994",
            "text/markdown": "2.1380899352994",
            "text/html": [
              "2.1380899352994"
            ]
          },
          "metadata": {
            "tags": []
          }
        }
      ]
    },
    {
      "cell_type": "code",
      "metadata": {
        "id": "BMTx9yKHSPON",
        "outputId": "444baee1-866a-472d-e110-255c5fa9e124",
        "colab": {
          "base_uri": "https://localhost:8080/",
          "height": 34
        }
      },
      "source": [
        "desvio_padrao <- sd(notas_fulano$Fulano)\n",
        "desvio_padrao"
      ],
      "execution_count": null,
      "outputs": [
        {
          "output_type": "display_data",
          "data": {
            "text/plain": [
              "[1] 2.13809"
            ],
            "text/latex": "2.1380899352994",
            "text/markdown": "2.1380899352994",
            "text/html": [
              "2.1380899352994"
            ]
          },
          "metadata": {
            "tags": []
          }
        }
      ]
    },
    {
      "cell_type": "code",
      "metadata": {
        "id": "_PeQtqbdjQNh",
        "outputId": "637c3006-e088-4b80-e35f-84f63f134060",
        "colab": {
          "base_uri": "https://localhost:8080/",
          "height": 225
        }
      },
      "source": [
        "df"
      ],
      "execution_count": null,
      "outputs": [
        {
          "output_type": "display_data",
          "data": {
            "text/plain": [
              "           Fulano Beltrano Sicrano\n",
              "Matemática  8     10.0     7.5    \n",
              "Português  10      2.0     8.0    \n",
              "Inglês      4      0.5     7.0    \n",
              "Geografia   8      1.0     8.0    \n",
              "História    6      3.0     8.0    \n",
              "Física     10      9.5     8.5    \n",
              "Química     8     10.0     7.0    "
            ],
            "text/latex": "A data.frame: 7 × 3\n\\begin{tabular}{r|lll}\n  & Fulano & Beltrano & Sicrano\\\\\n  & <dbl> & <dbl> & <dbl>\\\\\n\\hline\n\tMatemática &  8 & 10.0 & 7.5\\\\\n\tPortuguês & 10 &  2.0 & 8.0\\\\\n\tInglês &  4 &  0.5 & 7.0\\\\\n\tGeografia &  8 &  1.0 & 8.0\\\\\n\tHistória &  6 &  3.0 & 8.0\\\\\n\tFísica & 10 &  9.5 & 8.5\\\\\n\tQuímica &  8 & 10.0 & 7.0\\\\\n\\end{tabular}\n",
            "text/markdown": "\nA data.frame: 7 × 3\n\n| <!--/--> | Fulano &lt;dbl&gt; | Beltrano &lt;dbl&gt; | Sicrano &lt;dbl&gt; |\n|---|---|---|---|\n| Matemática |  8 | 10.0 | 7.5 |\n| Português | 10 |  2.0 | 8.0 |\n| Inglês |  4 |  0.5 | 7.0 |\n| Geografia |  8 |  1.0 | 8.0 |\n| História |  6 |  3.0 | 8.0 |\n| Física | 10 |  9.5 | 8.5 |\n| Química |  8 | 10.0 | 7.0 |\n\n",
            "text/html": [
              "<table>\n",
              "<caption>A data.frame: 7 × 3</caption>\n",
              "<thead>\n",
              "\t<tr><th></th><th scope=col>Fulano</th><th scope=col>Beltrano</th><th scope=col>Sicrano</th></tr>\n",
              "\t<tr><th></th><th scope=col>&lt;dbl&gt;</th><th scope=col>&lt;dbl&gt;</th><th scope=col>&lt;dbl&gt;</th></tr>\n",
              "</thead>\n",
              "<tbody>\n",
              "\t<tr><th scope=row>Matemática</th><td> 8</td><td>10.0</td><td>7.5</td></tr>\n",
              "\t<tr><th scope=row>Português</th><td>10</td><td> 2.0</td><td>8.0</td></tr>\n",
              "\t<tr><th scope=row>Inglês</th><td> 4</td><td> 0.5</td><td>7.0</td></tr>\n",
              "\t<tr><th scope=row>Geografia</th><td> 8</td><td> 1.0</td><td>8.0</td></tr>\n",
              "\t<tr><th scope=row>História</th><td> 6</td><td> 3.0</td><td>8.0</td></tr>\n",
              "\t<tr><th scope=row>Física</th><td>10</td><td> 9.5</td><td>8.5</td></tr>\n",
              "\t<tr><th scope=row>Química</th><td> 8</td><td>10.0</td><td>7.0</td></tr>\n",
              "</tbody>\n",
              "</table>\n"
            ]
          },
          "metadata": {
            "tags": []
          }
        }
      ]
    },
    {
      "cell_type": "code",
      "metadata": {
        "id": "5LYOKy25jQNi",
        "outputId": "ec534455-3266-4956-e19c-5d477807ba7d",
        "colab": {
          "base_uri": "https://localhost:8080/",
          "height": 136
        }
      },
      "source": [
        "summary(df)"
      ],
      "execution_count": null,
      "outputs": [
        {
          "output_type": "display_data",
          "data": {
            "text/plain": [
              "     Fulano          Beltrano         Sicrano     \n",
              " Min.   : 4.000   Min.   : 0.500   Min.   :7.000  \n",
              " 1st Qu.: 7.000   1st Qu.: 1.500   1st Qu.:7.250  \n",
              " Median : 8.000   Median : 3.000   Median :8.000  \n",
              " Mean   : 7.714   Mean   : 5.143   Mean   :7.714  \n",
              " 3rd Qu.: 9.000   3rd Qu.: 9.750   3rd Qu.:8.000  \n",
              " Max.   :10.000   Max.   :10.000   Max.   :8.500  "
            ]
          },
          "metadata": {
            "tags": []
          }
        }
      ]
    },
    {
      "cell_type": "code",
      "metadata": {
        "id": "G8vorygCjQNk",
        "outputId": "14b1b28e-8bef-4a9b-a2c5-e667befbfd48",
        "colab": {
          "base_uri": "https://localhost:8080/",
          "height": 51
        }
      },
      "source": [
        "Moda(df$Fulano)\n",
        "Moda(df$Sicrano)"
      ],
      "execution_count": null,
      "outputs": [
        {
          "output_type": "display_data",
          "data": {
            "text/plain": [
              "[1] \"8\""
            ],
            "text/latex": "'8'",
            "text/markdown": "'8'",
            "text/html": [
              "'8'"
            ]
          },
          "metadata": {
            "tags": []
          }
        },
        {
          "output_type": "display_data",
          "data": {
            "text/plain": [
              "[1] \"8\""
            ],
            "text/latex": "'8'",
            "text/markdown": "'8'",
            "text/html": [
              "'8'"
            ]
          },
          "metadata": {
            "tags": []
          }
        }
      ]
    },
    {
      "cell_type": "code",
      "metadata": {
        "id": "01op3BEvjQNl",
        "outputId": "4a59dc00-e020-4b75-e0e1-86488cfbe8b6",
        "colab": {
          "base_uri": "https://localhost:8080/",
          "height": 51
        }
      },
      "source": [
        "sd(df$Fulano)\n",
        "sd(df$Sicrano)"
      ],
      "execution_count": null,
      "outputs": [
        {
          "output_type": "display_data",
          "data": {
            "text/plain": [
              "[1] 2.13809"
            ],
            "text/latex": "2.1380899352994",
            "text/markdown": "2.1380899352994",
            "text/html": [
              "2.1380899352994"
            ]
          },
          "metadata": {
            "tags": []
          }
        },
        {
          "output_type": "display_data",
          "data": {
            "text/plain": [
              "[1] 0.5669467"
            ],
            "text/latex": "0.566946709513841",
            "text/markdown": "0.566946709513841",
            "text/html": [
              "0.566946709513841"
            ]
          },
          "metadata": {
            "tags": []
          }
        }
      ]
    }
  ]
}